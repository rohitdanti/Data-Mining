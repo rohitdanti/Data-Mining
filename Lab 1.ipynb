{
  "cells": [
    {
      "cell_type": "markdown",
      "metadata": {
        "id": "XVwFfRJY45Ez"
      },
      "source": [
        "# CSE 572: Lab 1\n",
        "\n",
        "This lab contains two modules:\n",
        "1.   Module 1: Introduction to Python\n",
        "2.   Module 2: Introduction to Numpy and Pandas\n",
        "\n",
        "At the end there is a practice exercise in which you will use some of the operations from Modules 1 and 2.\n",
        "\n",
        "To execute and make changes to this notebook, click File > Save a copy to save your own version in your Google Drive or Github. Read the step-by-step instructions below carefully. To execute the code, click on each cell below and press the SHIFT-ENTER keys simultaneously or by clicking the Play button.\n",
        "\n",
        "When you finish executing all code/exercises, save your notebook then download a copy (.ipynb file). Submit:\n",
        "\n",
        "1) .ipynb file\n",
        "\n",
        "2) link to your Colab notebook saved on your Google Drive (set the sharing options to share with anyone at ASU so the TA can view it). This should be added as a comment on your submission.\n",
        "\n",
        "3) pdf of executed notebook (In Colab, click File > Print > Save as PDF)"
      ]
    },
    {
      "cell_type": "markdown",
      "metadata": {
        "id": "WJiv__lc4Hze"
      },
      "source": [
        "# Module 1: Introduction to Python\n",
        "\n",
        "Python is a high-level programming language with extensive libraries available to perform various data analysis tasks.\n",
        "The following tutorial contains examples of using various data types, functions, and library modules available in the standard Python library.\n",
        "\n",
        "We begin with some basic information about Python:\n",
        "1. Python is an interpreted language, unlike other high-level programming languages such as C or C++. You only need to submit your Python program to an interpreter for execution, without having to explicitly compile and link the code first.\n",
        "\n",
        "2. Python is a dynamically typed language, which means variable names are bound to their respective types during execution time. You do not have to explicitly declare the type of a variable before using it in the code unlike Java, C++, and other statically-typed languages.\n",
        "\n",
        "3. Instead of using braces '{' and '}', Python uses whitespace indentation to group together related statements in loops or other control-flow statements.\n",
        "\n",
        "4. Python uses the hash character ('#') to precede single-line comments. Triple-quoted strings (''') are commonly used to denote multi-line comments (even though it is not part of the standard Python language) or docstring of functions.\n",
        "\n",
        "5. Python uses pass by reference (instead of pass by value) when assigning a variable to another (e.g., a = b) or when passing an object as input argument to a function. Thus, any modification to the assigned variable or to the input argument within the function will affect the original object.  \n",
        "\n",
        "6. Python uses `None` to denote a null object (e.g., a = None). You do not have to terminate each statement with a terminating character (such as a semicolon) unlike other languages.\n",
        "\n",
        "7. You may access the variables or functions defined in another Python program file using the `import` command. This is analogous to the `import` command in Java or the `#include` command in C or C++."
      ]
    },
    {
      "cell_type": "markdown",
      "metadata": {
        "id": "FLm6IlGs4Hzh"
      },
      "source": [
        "## 1.1 Elementary Data Types\n",
        "\n",
        "The standard Python library provides support for various elementary data types, including including integers, booleans, floating points, and strings. A summary of the data types is shown in the table below.\n",
        "\n",
        "| &nbsp;  |      Data Type    |   Example   |\n",
        "|:--------|:-----------------:|:------------|\n",
        "|Number   | Integer           | x = 4       |\n",
        "| &nbsp;  | Long integer      | x = 15L     |\n",
        "| &nbsp;  | Floating point    | x = 3.142   |\n",
        "| &nbsp;  | Boolean           | x = True    |\n",
        "|Text     | Character         | x = 'c'     |\n",
        "| &nbsp;  | String            | x = \"this\" or x = 'this' |"
      ]
    },
    {
      "cell_type": "code",
      "execution_count": null,
      "metadata": {
        "colab": {
          "base_uri": "https://localhost:8080/"
        },
        "id": "pcGGeqM_4Hzi",
        "outputId": "4daf7396-60d0-4f16-f21c-395cfd03e546"
      },
      "outputs": [
        {
          "name": "stdout",
          "output_type": "stream",
          "text": [
            "4 <class 'int'>\n",
            "True <class 'bool'>\n",
            "3.7 <class 'float'>\n",
            "This is a string <class 'str'>\n"
          ]
        }
      ],
      "source": [
        "x = 4              # integer\n",
        "print(x, type(x))\n",
        "\n",
        "y = True           # boolean (True, False)\n",
        "print(y, type(y))\n",
        "\n",
        "z = 3.7            # floating point\n",
        "print(z, type(z))\n",
        "\n",
        "s = \"This is a string\"    # string\n",
        "print(s, type(s))"
      ]
    },
    {
      "cell_type": "markdown",
      "metadata": {
        "id": "xMUnTNfK4Hzj"
      },
      "source": [
        "The following are some of the arithmetic operations available for manipulating integers and floating point numbers"
      ]
    },
    {
      "cell_type": "code",
      "execution_count": null,
      "metadata": {
        "colab": {
          "base_uri": "https://localhost:8080/"
        },
        "id": "3J-wLIr34Hzj",
        "outputId": "e0905a58-addd-4ac1-ff87-ff9e7ab7de07"
      },
      "outputs": [
        {
          "name": "stdout",
          "output_type": "stream",
          "text": [
            "18 8 12 6 18 2\n",
            "3.7 1.7000000000000002 1.2333333333333334 1.0 13.690000000000001\n",
            "3.7 13.690000000000001 4 3\n"
          ]
        }
      ],
      "source": [
        "x = 4            # integer\n",
        "x1 = x + 4       # addition\n",
        "x2 = x * 3       # multiplication\n",
        "x += 2           # equivalent to x = x + 2\n",
        "x3 = x\n",
        "x *= 3           # equivalent to x = x * 3\n",
        "x4 = x\n",
        "x5 = x % 4       # modulo (remainder) operator\n",
        "\n",
        "z = 3.7          # floating point number\n",
        "z1 = z - 2       # subtraction\n",
        "z2 = z / 3       # division\n",
        "z3 = z // 3      # integer division\n",
        "z4 = z ** 2      # square of z\n",
        "z5 = z4 ** 0.5   # square root\n",
        "z6 = pow(z,2)    # equivalent to square of z\n",
        "z7 = round(z)    # rounding z to its nearest integer\n",
        "z8 = int(z)      # type casting float to int\n",
        "\n",
        "print(x,x1,x2,x3,x4,x5)\n",
        "print(z,z1,z2,z3,z4)\n",
        "print(z5,z6,z7,z8)"
      ]
    },
    {
      "cell_type": "markdown",
      "metadata": {
        "id": "PRtv2pIf4Hzk"
      },
      "source": [
        "The following are some of the functions provided by the math module for integers and floating point numbers"
      ]
    },
    {
      "cell_type": "code",
      "execution_count": null,
      "metadata": {
        "colab": {
          "base_uri": "https://localhost:8080/"
        },
        "id": "WEtAf-WA4Hzk",
        "outputId": "073681e8-b68a-4f8a-8f66-a9b4f1d335ea",
        "scrolled": true
      },
      "outputs": [
        {
          "name": "stdout",
          "output_type": "stream",
          "text": [
            "2.0\n",
            "16.0\n",
            "54.598150033144236\n",
            "2.0\n",
            "4.0\n",
            "24\n",
            "1\n",
            "0\n",
            "0\n",
            "3.6739403974420594e-16\n",
            "0.9999999869751758\n",
            "True\n",
            "True\n"
          ]
        }
      ],
      "source": [
        "import math\n",
        "\n",
        "x = 4\n",
        "print(math.sqrt(x))      # sqrt(4) = 2\n",
        "print(math.pow(x,2))     # 4**2 = 16\n",
        "print(math.exp(x))       # exp(4) = 54.6\n",
        "print(math.log(x,2))     # log based 2  (default is natural logarithm)\n",
        "print(math.fabs(-4))     # absolute value\n",
        "print(math.factorial(x)) # 4! = 4 x 3 x 2 x 1 = 24\n",
        "\n",
        "z = 0.2\n",
        "print(math.ceil(z))      # ceiling function\n",
        "print(math.floor(z))     # floor function\n",
        "print(math.trunc(z))     # truncate function\n",
        "\n",
        "z = 3*math.pi            # math.pi = 3.141592653589793\n",
        "print(math.sin(z))       # sine function\n",
        "print(math.tanh(z))      # arctan function\n",
        "\n",
        "x = math.nan             # not a number\n",
        "print(math.isnan(x))\n",
        "\n",
        "x = math.inf             # infinity\n",
        "print(math.isinf(x))"
      ]
    },
    {
      "cell_type": "markdown",
      "metadata": {
        "collapsed": true,
        "id": "tBomt_Qp4Hzl"
      },
      "source": [
        "The following are some of the logical operations available for booleans"
      ]
    },
    {
      "cell_type": "code",
      "execution_count": null,
      "metadata": {
        "colab": {
          "base_uri": "https://localhost:8080/"
        },
        "id": "CgOsci3x4Hzl",
        "outputId": "10c94747-1e52-4da5-d6bd-3e78a257b5bc"
      },
      "outputs": [
        {
          "name": "stdout",
          "output_type": "stream",
          "text": [
            "False\n",
            "True\n",
            "True\n"
          ]
        }
      ],
      "source": [
        "y1 = True\n",
        "y2 = False\n",
        "\n",
        "print(y1 and y2)       # logical AND\n",
        "print(y1 or y2)        # logical OR\n",
        "print(y1 and not y2)   # logical NOT"
      ]
    },
    {
      "cell_type": "markdown",
      "metadata": {
        "id": "hCytPHq64Hzm"
      },
      "source": [
        "The following are some of the operations and functions for manipulating strings"
      ]
    },
    {
      "cell_type": "code",
      "execution_count": null,
      "metadata": {
        "colab": {
          "base_uri": "https://localhost:8080/"
        },
        "id": "lR_MkZdx4Hzm",
        "outputId": "645cee8a-3078-4231-a7a4-e4921fc5ce48"
      },
      "outputs": [
        {
          "name": "stdout",
          "output_type": "stream",
          "text": [
            "his\n",
            "4\n",
            "Length of string is 4\n",
            "THIS\n",
            "this\n",
            "This\n",
            "This is another string\n",
            "That at a string\n",
            "8\n",
            "True\n",
            "True\n",
            "False\n",
            "This is a string too\n",
            "This This This \n"
          ]
        }
      ],
      "source": [
        "s1 = \"This\"\n",
        "\n",
        "print(s1[1:])                    # print last three characters\n",
        "print(len(s1))                               # get the string length\n",
        "print(\"Length of string is \" + str(len(s1))) # type casting int to str\n",
        "print(s1.upper())                            # convert to upper case\n",
        "print(s1.lower())                            # convert to lower case\n",
        "\n",
        "s2 = \"This is a string\"\n",
        "words = s2.split(' ')             # split the string into words\n",
        "print(words[0])\n",
        "print(s2.replace('a','another'))  # replace \"a\" with \"another\"\n",
        "print(s2.replace('is','at'))      # replace \"is\" with \"at\"\n",
        "print(s2.find(\"a\"))               # find the position of \"a\" in s2\n",
        "print(s1 in s2)                   # check if s1 is a substring of s2\n",
        "\n",
        "print(s1 == 'This')               # equality comparison\n",
        "print(s1 < 'That')                # inequality comparison\n",
        "print(s2 + \" too\")                # string concatenation\n",
        "print((s1 + \" \")* 3)              # replicate the string 3 times"
      ]
    },
    {
      "cell_type": "markdown",
      "metadata": {
        "id": "Gprvq-Se4Hzn"
      },
      "source": [
        "## 1.2 Compound Data Types\n",
        "\n",
        "The following examples show how to create and manipulate a list object"
      ]
    },
    {
      "cell_type": "code",
      "execution_count": null,
      "metadata": {
        "colab": {
          "base_uri": "https://localhost:8080/"
        },
        "id": "6lu5cqWU4Hzn",
        "outputId": "a294821e-ec7b-47ce-d8ff-c325a9460220"
      },
      "outputs": [
        {
          "name": "stdout",
          "output_type": "stream",
          "text": [
            "<class 'list'>\n",
            "[1, 3, 5, 7, 9]\n",
            "[0, 2, 4, 6, 8]\n",
            "5\n",
            "[1, 3]\n",
            "[5, 7, 9]\n",
            "[7, 9]\n",
            "5\n",
            "25\n",
            "[1, 3, 5, 7, 9, 11]\n",
            "11\n",
            "[1, 3, 5, 7, 9]\n",
            "[1, 3, 5, 7, 9, 11, 13, 15]\n",
            "[1, 3, 5, 7, 9, 1, 3, 5, 7, 9, 1, 3, 5, 7, 9]\n",
            "[1, 3, 4, 5, 7, 9]\n",
            "[9, 7, 5, 4, 3, 1]\n"
          ]
        }
      ],
      "source": [
        "intlist = [1, 3, 5, 7, 9]\n",
        "print(type(intlist))\n",
        "print(intlist)\n",
        "intlist2 = list(range(0,10,2))   # range[startvalue, endvalue, stepsize]\n",
        "print(intlist2)\n",
        "\n",
        "print(intlist[2])                # get the third element of the list\n",
        "print(intlist[:2])               # get the first two elements\n",
        "print(intlist[2:])               # get the last three elements of the list\n",
        "print(intlist[-2:])              # get the last two elements of the list\n",
        "print(len(intlist))              # get the number of elements in the list\n",
        "print(sum(intlist))              # sums up elements of the list\n",
        "\n",
        "intlist.append(11)               # insert 11 to end of the list\n",
        "print(intlist)\n",
        "print(intlist.pop())             # remove last element of the list\n",
        "print(intlist)\n",
        "print(intlist + [11,13,15])      # concatenate two lists\n",
        "print(intlist * 3)               # replicate the list\n",
        "intlist.insert(2,4)              # insert item 4 at index 2\n",
        "print(intlist)\n",
        "intlist.sort(reverse=True)       # sort elements in descending order\n",
        "print(intlist)"
      ]
    },
    {
      "cell_type": "code",
      "execution_count": null,
      "metadata": {
        "colab": {
          "base_uri": "https://localhost:8080/"
        },
        "id": "4rT-_Hxh4Hzn",
        "outputId": "2191b873-20f0-4188-f507-c7866426027b"
      },
      "outputs": [
        {
          "name": "stdout",
          "output_type": "stream",
          "text": [
            "['this', 'is', 'a', 'list']\n",
            "<class 'list'>\n",
            "True\n",
            "a\n",
            "['this', 'is']\n",
            "['a', 'list']\n",
            "this is a list too\n",
            "['this', 'a', 'list', 'too']\n"
          ]
        }
      ],
      "source": [
        "mylist = ['this', 'is', 'a', 'list']\n",
        "print(mylist)\n",
        "print(type(mylist))\n",
        "\n",
        "print(\"list\" in mylist)          # check whether \"list\" is in mylist\n",
        "print(mylist[2])                 # show the 3rd element of the list\n",
        "print(mylist[:2])                # show the first two elements of the list\n",
        "print(mylist[2:])                # show the last two elements of the list\n",
        "mylist.append(\"too\")             # insert element to end of the list\n",
        "\n",
        "separator = \" \"\n",
        "print(separator.join(mylist))    # merge all elements of the list into a string\n",
        "\n",
        "mylist.remove(\"is\")              # remove element from list\n",
        "print(mylist)"
      ]
    },
    {
      "cell_type": "markdown",
      "metadata": {
        "id": "CqE8ts0v4Hzo"
      },
      "source": [
        "The following examples show how to create and manipulate a dictionary object"
      ]
    },
    {
      "cell_type": "code",
      "execution_count": null,
      "metadata": {
        "colab": {
          "base_uri": "https://localhost:8080/"
        },
        "id": "YdHFePDe4Hzo",
        "outputId": "a28319ef-5b15-4b93-a814-68279ab89085"
      },
      "outputs": [
        {
          "name": "stdout",
          "output_type": "stream",
          "text": [
            "{'MI': 'Michigan', 'MN': 'Minnesota', 'TX': 'Texas', 'CA': 'California'}\n",
            "dict_keys(['MI', 'MN', 'TX', 'CA'])\n",
            "dict_values(['Michigan', 'Minnesota', 'Texas', 'California'])\n",
            "4\n",
            "Michigan\n",
            "False\n",
            "True\n"
          ]
        }
      ],
      "source": [
        "abbrev = {}\n",
        "abbrev['MI'] = \"Michigan\"\n",
        "abbrev['MN'] = \"Minnesota\"\n",
        "abbrev['TX'] = \"Texas\"\n",
        "abbrev['CA'] = \"California\"\n",
        "\n",
        "print(abbrev)\n",
        "print(abbrev.keys())            # get the keys of the dictionary\n",
        "print(abbrev.values())          # get the values of the dictionary\n",
        "print(len(abbrev))              # get number of key-value pairs\n",
        "\n",
        "print(abbrev.get('MI'))\n",
        "print(\"FL\" in abbrev)\n",
        "print(\"CA\" in abbrev)"
      ]
    },
    {
      "cell_type": "code",
      "execution_count": null,
      "metadata": {
        "colab": {
          "base_uri": "https://localhost:8080/"
        },
        "id": "tL66TQzh63VU",
        "outputId": "3589b7fc-23c6-404a-86af-14f1efddf3c4"
      },
      "outputs": [
        {
          "name": "stdout",
          "output_type": "stream",
          "text": [
            "{'apples': 3, 'oranges': 4, 'bananas': 2, 'cherries': 10}\n",
            "['apples', 'bananas', 'cherries', 'oranges']\n",
            "[('apples', 3), ('bananas', 2), ('cherries', 10), ('oranges', 4)]\n",
            "[('bananas', 2), ('apples', 3), ('oranges', 4), ('cherries', 10)]\n"
          ]
        }
      ],
      "source": [
        "keys = ['apples', 'oranges', 'bananas', 'cherries']\n",
        "values = [3, 4, 2, 10]\n",
        "fruits = dict(zip(keys, values))\n",
        "print(fruits)\n",
        "print(sorted(fruits))     # sort keys of dictionary\n",
        "\n",
        "from operator import itemgetter\n",
        "print(sorted(fruits.items(), key=itemgetter(0)))    # sort by key of dictionary\n",
        "print(sorted(fruits.items(), key=itemgetter(1)))    # sort by value of dictionary"
      ]
    },
    {
      "cell_type": "markdown",
      "metadata": {
        "id": "YLe3-CGH4Hzo"
      },
      "source": [
        "The following examples show how to create and manipulate a tuple object. Unlike a list, a tuple object is immutable, i.e., they cannot be modified after creation."
      ]
    },
    {
      "cell_type": "code",
      "execution_count": null,
      "metadata": {
        "colab": {
          "base_uri": "https://localhost:8080/"
        },
        "id": "O8FoMBO34Hzo",
        "outputId": "a6a253c2-dd36-4ebf-93c5-bbcbd2a2b3aa"
      },
      "outputs": [
        {
          "name": "stdout",
          "output_type": "stream",
          "text": [
            "('MI', 'Michigan', 'Lansing')\n",
            "('Michigan', 'Lansing')\n",
            "[('MI', 'Michigan', 'Lansing'), ('CA', 'California', 'Sacramento'), ('TX', 'Texas', 'Austin')]\n",
            "('TX', 'Texas', 'Austin')\n",
            "('TX', 'Texas', 'Austin')\n",
            "('Texas', 'Austin')\n",
            "[('TX', 'Texas', 'Austin'), ('MI', 'Michigan', 'Lansing'), ('CA', 'California', 'Sacramento')]\n"
          ]
        }
      ],
      "source": [
        "MItuple = ('MI', 'Michigan', 'Lansing')\n",
        "CAtuple = ('CA', 'California', 'Sacramento')\n",
        "TXtuple = ('TX', 'Texas', 'Austin')\n",
        "\n",
        "print(MItuple)\n",
        "print(MItuple[1:])\n",
        "\n",
        "states = [MItuple, CAtuple, TXtuple]    # this will create a list of tuples\n",
        "print(states)\n",
        "print(states[2]) # print the third tuple in the list\n",
        "print(states[2][:]) # print all the values in the third tuple\n",
        "print(states[2][1:]) # print the last two values in the third tuple\n",
        "\n",
        "states.sort(key=lambda state: state[2])  # sort the states by their capital cities (last value in list)\n",
        "print(states)"
      ]
    },
    {
      "cell_type": "markdown",
      "metadata": {
        "id": "Ye5okI-s4Hzp"
      },
      "source": [
        "## 1.3 Control Flow Statements\n",
        "\n",
        "Similar to other programming languages, the control flow statements in Python include if, for, and while statements. Examples on how to use these statements are shown below."
      ]
    },
    {
      "cell_type": "code",
      "execution_count": null,
      "metadata": {
        "colab": {
          "base_uri": "https://localhost:8080/"
        },
        "id": "2bH2koES4Hzp",
        "outputId": "d2d21e00-dbf3-4435-84ac-7ae47b7aed6f"
      },
      "outputs": [
        {
          "name": "stdout",
          "output_type": "stream",
          "text": [
            "x = 10 is even\n",
            "x = 10 is positive\n"
          ]
        }
      ],
      "source": [
        "# using if-else statement\n",
        "\n",
        "x = 10\n",
        "\n",
        "if x % 2 == 0:\n",
        "    print(\"x =\", x, \"is even\")\n",
        "else:\n",
        "    print(\"x =\", x, \"is odd\")\n",
        "\n",
        "if x > 0:\n",
        "    print(\"x =\", x, \"is positive\")\n",
        "elif x < 0:\n",
        "    print(\"x =\", x, \"is negative\")\n",
        "else:\n",
        "    print(\"x =\", x, \"is neither positive nor negative\")"
      ]
    },
    {
      "cell_type": "code",
      "execution_count": null,
      "metadata": {
        "colab": {
          "base_uri": "https://localhost:8080/"
        },
        "id": "uAAsYQ-R4Hzp",
        "outputId": "bcf9a504-360e-4318-f066-f4edb96c1c73"
      },
      "outputs": [
        {
          "name": "stdout",
          "output_type": "stream",
          "text": [
            "that\n",
            "at\n",
            "a\n",
            "latt\n",
            "[4, 2, 1, 4]\n"
          ]
        }
      ],
      "source": [
        "# using for loop with a list\n",
        "\n",
        "mylist = ['this', 'is', 'a', 'list']\n",
        "for word in mylist:\n",
        "    print(word.replace(\"is\", \"at\"))\n",
        "\n",
        "mylist2 = [len(word) for word in mylist]   # number of characters in each word\n",
        "print(mylist2)"
      ]
    },
    {
      "cell_type": "code",
      "execution_count": null,
      "metadata": {
        "colab": {
          "base_uri": "https://localhost:8080/"
        },
        "id": "nkrnBoTk7Xwz",
        "outputId": "0f2e88eb-2f9b-41de-ad8f-3f969ffce57e"
      },
      "outputs": [
        {
          "name": "stdout",
          "output_type": "stream",
          "text": [
            "['Austin', 'Lansing', 'Sacramento']\n"
          ]
        }
      ],
      "source": [
        "# using for loop with list of tuples\n",
        "\n",
        "states = [('MI', 'Michigan', 'Lansing'),('CA', 'California', 'Sacramento'),\n",
        "          ('TX', 'Texas', 'Austin')]\n",
        "\n",
        "sorted_capitals = [state[2] for state in states]\n",
        "sorted_capitals.sort()\n",
        "print(sorted_capitals)"
      ]
    },
    {
      "cell_type": "code",
      "execution_count": null,
      "metadata": {
        "colab": {
          "base_uri": "https://localhost:8080/"
        },
        "id": "Ksn5nPTc7X3C",
        "outputId": "454be560-3967-4220-d9ca-48e855604a5f"
      },
      "outputs": [
        {
          "name": "stdout",
          "output_type": "stream",
          "text": [
            "['apples', 'oranges', 'bananas', 'cherries']\n"
          ]
        }
      ],
      "source": [
        "# using for loop with dictionary\n",
        "\n",
        "fruits = {'apples': 3, 'oranges': 4, 'bananas': 2, 'cherries': 10}\n",
        "fruitnames = [k for (k,v) in fruits.items()]\n",
        "print(fruitnames)"
      ]
    },
    {
      "cell_type": "code",
      "execution_count": null,
      "metadata": {
        "colab": {
          "base_uri": "https://localhost:8080/"
        },
        "id": "QQy8IAZ64Hzp",
        "outputId": "5a513f70-e0b6-46ff-85f2-ecd1f2a9f59b"
      },
      "outputs": [
        {
          "name": "stdout",
          "output_type": "stream",
          "text": [
            "[-10, -9, -8, -7, -6, -5, -4, -3, -2, -1, 0, 1, 2, 3, 4, 5, 6, 7, 8, 9]\n",
            "First non-negative number: 0\n"
          ]
        }
      ],
      "source": [
        "# using while loop\n",
        "\n",
        "mylist = list(range(-10,10))\n",
        "print(mylist)\n",
        "\n",
        "i = 0\n",
        "while (mylist[i] < 0):\n",
        "    i = i + 1\n",
        "\n",
        "print(\"First non-negative number:\", mylist[i])\n"
      ]
    },
    {
      "cell_type": "markdown",
      "metadata": {
        "id": "eaz47WDf4Hzp"
      },
      "source": [
        "## 1.4 User-Defined Functions\n",
        "\n",
        "You can create your own functions in Python, which can be named or unnamed. Unnamed functions are defined using the lambda keyword as shown in the previous example for sorting a list of tuples."
      ]
    },
    {
      "cell_type": "code",
      "execution_count": null,
      "metadata": {
        "colab": {
          "base_uri": "https://localhost:8080/"
        },
        "id": "OBiu0dA44Hzq",
        "outputId": "5d097aaf-fc63-4abb-9f66-e83534d3c2d0"
      },
      "outputs": [
        {
          "name": "stdout",
          "output_type": "stream",
          "text": [
            "11\n"
          ]
        }
      ],
      "source": [
        "myfunc = lambda x: 3*x**2 - 2*x + 3      # example of an unnamed quadratic function\n",
        "\n",
        "print(myfunc(2))"
      ]
    },
    {
      "cell_type": "code",
      "execution_count": null,
      "metadata": {
        "colab": {
          "base_uri": "https://localhost:8080/"
        },
        "id": "03osRRxD4Hzq",
        "outputId": "dbae56c8-aef5-42f6-85c0-958b3ad82641"
      },
      "outputs": [
        {
          "name": "stdout",
          "output_type": "stream",
          "text": [
            "[-11, 12, 23, 45, 71]\n"
          ]
        }
      ],
      "source": [
        "import math\n",
        "\n",
        "# The following function will discard missing values from a list\n",
        "def discard(inlist, sortFlag=False):    # default value for sortFlag is False\n",
        "    outlist = []\n",
        "    for item in inlist:\n",
        "        if not math.isnan(item):\n",
        "            outlist.append(item)\n",
        "\n",
        "    if sortFlag:\n",
        "        outlist.sort()\n",
        "    return outlist\n",
        "\n",
        "mylist = [12, math.nan, 23, -11, 45, math.nan, 71]\n",
        "\n",
        "print(discard(mylist,True))"
      ]
    },
    {
      "cell_type": "markdown",
      "metadata": {
        "id": "O16R0VrY4Hzq"
      },
      "source": [
        "## 1.5 File I/O\n",
        "\n",
        "You can read and write data from a list or other objects to a file."
      ]
    },
    {
      "cell_type": "code",
      "execution_count": null,
      "metadata": {
        "colab": {
          "base_uri": "https://localhost:8080/"
        },
        "id": "9eXaUnY_4Hzq",
        "outputId": "f573a881-4f5c-406d-a344-58ec6620c270"
      },
      "outputs": [
        {
          "name": "stdout",
          "output_type": "stream",
          "text": [
            "State= Michigan ( MI ) Capital: Lansing\n",
            "\n",
            "State= California ( CA ) Capital: Sacramento\n",
            "\n",
            "State= Texas ( TX ) Capital: Austin\n",
            "\n",
            "State= Minnesota ( MN ) Capital: St Paul\n"
          ]
        }
      ],
      "source": [
        "states = [('MI', 'Michigan', 'Lansing'),('CA', 'California', 'Sacramento'),\n",
        "          ('TX', 'Texas', 'Austin'), ('MN', 'Minnesota', 'St Paul')]\n",
        "\n",
        "with open('states.txt', 'w') as f:\n",
        "    f.write('\\n'.join('%s,%s,%s' % state for state in states))\n",
        "\n",
        "with open('states.txt', 'r') as f:\n",
        "    for line in f:\n",
        "        fields = line.split(sep=',')    # split each line into its respective fields\n",
        "        print('State=',fields[1],'(',fields[0],')','Capital:', fields[2])"
      ]
    },
    {
      "cell_type": "markdown",
      "metadata": {
        "id": "tiJ2qIFs8eFL"
      },
      "source": [
        "# Module 2: Introduction to Numpy and Pandas\n",
        "\n",
        "The following tutorial contains examples of using the numpy and pandas library modules."
      ]
    },
    {
      "cell_type": "markdown",
      "metadata": {
        "id": "wPqEga6N8eFO"
      },
      "source": [
        "## 2.1 Introduction to Numpy\n",
        "\n",
        "Numpy, which stands for numerical Python, is a Python library package to support numerical computations. The basic data structure in numpy is a multi-dimensional array object called ndarray. Numpy provides a suite of functions that can efficiently manipulate elements of the ndarray.\n",
        "\n",
        "### 2.1.1 Creating ndarray\n",
        "\n",
        "An ndarray can be created from a list or a tuple object as shown in the examples below. It is possible to create a 1-dimensional or multi-dimensional array from the list objects as well as tuples."
      ]
    },
    {
      "cell_type": "code",
      "execution_count": null,
      "metadata": {
        "colab": {
          "base_uri": "https://localhost:8080/"
        },
        "id": "txAiuLoK8eFO",
        "outputId": "cf55df90-8352-4dd2-e1cd-eb00cf5e5bea"
      },
      "outputs": [
        {
          "name": "stdout",
          "output_type": "stream",
          "text": [
            "[1. 2. 3. 4. 5.]\n",
            "#Dimensions = 1\n",
            "Dimension = (5,)\n",
            "Size = 5\n",
            "Array type = float64 \n",
            "\n",
            "[[1 2]\n",
            " [3 4]\n",
            " [5 6]\n",
            " [7 8]]\n",
            "#Dimensions = 2\n",
            "Dimension = (4, 2)\n",
            "Size = 8\n",
            "Array type = int64 \n",
            "\n",
            "[['1' 'a' '3.0']\n",
            " ['2' 'b' '3.5']]\n",
            "#Dimensions = 2\n",
            "Dimension = (2, 3)\n",
            "Size = 6\n"
          ]
        }
      ],
      "source": [
        "import numpy as np\n",
        "\n",
        "oneDim = np.array([1.0,2,3,4,5])   # a 1-dimensional array (vector)\n",
        "print(oneDim)\n",
        "print(\"#Dimensions =\", oneDim.ndim)\n",
        "print(\"Dimension =\", oneDim.shape)\n",
        "print(\"Size =\", oneDim.size)\n",
        "print(\"Array type =\", oneDim.dtype, '\\n')\n",
        "\n",
        "twoDim = np.array([[1,2],[3,4],[5,6],[7,8]])  # a two-dimensional array (matrix)\n",
        "print(twoDim)\n",
        "print(\"#Dimensions =\", twoDim.ndim)\n",
        "print(\"Dimension =\", twoDim.shape)\n",
        "print(\"Size =\", twoDim.size)\n",
        "print(\"Array type =\", twoDim.dtype, '\\n')\n",
        "\n",
        "arrFromTuple = np.array([(1,'a',3.0),(2,'b',3.5)])  # create ndarray from tuple\n",
        "print(arrFromTuple)\n",
        "print(\"#Dimensions =\", arrFromTuple.ndim)\n",
        "print(\"Dimension =\", arrFromTuple.shape)\n",
        "print(\"Size =\", arrFromTuple.size)"
      ]
    },
    {
      "cell_type": "markdown",
      "metadata": {
        "id": "rC5i_a1O8eFP"
      },
      "source": [
        "There are also built-in functions available in numpy to create the ndarrays."
      ]
    },
    {
      "cell_type": "code",
      "execution_count": null,
      "metadata": {
        "colab": {
          "base_uri": "https://localhost:8080/"
        },
        "id": "CSkDAuLt8eFQ",
        "outputId": "7e4fe62a-fdc8-46cc-ca50-0ac5b1bc43b1"
      },
      "outputs": [
        {
          "name": "stdout",
          "output_type": "stream",
          "text": [
            "Array of random numbers from a uniform distribution\n",
            "[0.98177865 0.87441777 0.72897688 0.93247516 0.75398999]\n",
            "\n",
            "Array of random numbers from a normal distribution\n",
            "[-0.48229573  0.90687423 -1.11231776 -0.40596523  1.40740734]\n",
            "\n",
            "Array of integers between -10 and 10, with step size of 2\n",
            "[-10  -8  -6  -4  -2   0   2   4   6   8]\n",
            "\n",
            "2-dimensional array of integers from 0 to 11\n",
            "[[ 0  1  2  3]\n",
            " [ 4  5  6  7]\n",
            " [ 8  9 10 11]]\n",
            "\n",
            "Array of values between 0 and 1, split into 10 equally spaced values\n",
            "[0.         0.11111111 0.22222222 0.33333333 0.44444444 0.55555556\n",
            " 0.66666667 0.77777778 0.88888889 1.        ]\n",
            "\n",
            "Array of values from 10^-3 to 10^3\n",
            "[1.e-03 1.e-02 1.e-01 1.e+00 1.e+01 1.e+02 1.e+03]\n"
          ]
        }
      ],
      "source": [
        "print('Array of random numbers from a uniform distribution')\n",
        "print(np.random.rand(5))      # random numbers from a uniform distribution between [0,1]\n",
        "\n",
        "print('\\nArray of random numbers from a normal distribution')\n",
        "print(np.random.randn(5))     # random numbers from a normal distribution\n",
        "\n",
        "print('\\nArray of integers between -10 and 10, with step size of 2')\n",
        "print(np.arange(-10,10,2))    # similar to range, but returns ndarray instead of list\n",
        "\n",
        "print('\\n2-dimensional array of integers from 0 to 11')\n",
        "print(np.arange(12).reshape(3,4))  # reshape to a matrix\n",
        "\n",
        "print('\\nArray of values between 0 and 1, split into 10 equally spaced values')\n",
        "print(np.linspace(0,1,10))    # split interval [0,1] into 10 equally separated values\n",
        "\n",
        "print('\\nArray of values from 10^-3 to 10^3')\n",
        "print(np.logspace(-3,3,7))    # create ndarray with values from 10^-3 to 10^3"
      ]
    },
    {
      "cell_type": "code",
      "execution_count": null,
      "metadata": {
        "colab": {
          "base_uri": "https://localhost:8080/"
        },
        "id": "0iwVlNoP8eFQ",
        "outputId": "b1067d17-1479-4709-d8c0-3ddd6b2a9132"
      },
      "outputs": [
        {
          "name": "stdout",
          "output_type": "stream",
          "text": [
            "A 2 x 3 matrix of zeros\n",
            "[[0. 0. 0.]\n",
            " [0. 0. 0.]]\n",
            "\n",
            "A 3 x 2 matrix of ones\n",
            "[[1. 1.]\n",
            " [1. 1.]\n",
            " [1. 1.]]\n",
            "\n",
            "A 3 x 3 identity matrix\n",
            "[[1. 0. 0.]\n",
            " [0. 1. 0.]\n",
            " [0. 0. 1.]]\n"
          ]
        }
      ],
      "source": [
        "print('A 2 x 3 matrix of zeros')\n",
        "print(np.zeros((2,3)))        # a matrix of zeros\n",
        "\n",
        "print('\\nA 3 x 2 matrix of ones')\n",
        "print(np.ones((3,2)))         # a matrix of ones\n",
        "\n",
        "print('\\nA 3 x 3 identity matrix')\n",
        "print(np.eye(3))              # a 3 x 3 identity matrix"
      ]
    },
    {
      "cell_type": "markdown",
      "metadata": {
        "id": "0POKFGJS8eFR"
      },
      "source": [
        "## 2.1.2 Element-wise Operations\n",
        "\n",
        "You can apply standard operators such as addition and multiplication on each element of the ndarray."
      ]
    },
    {
      "cell_type": "code",
      "execution_count": null,
      "metadata": {
        "colab": {
          "base_uri": "https://localhost:8080/"
        },
        "id": "rNrS-RtY8eFR",
        "outputId": "4e8d613c-bdc3-4477-ce63-ab93f1dc71e0"
      },
      "outputs": [
        {
          "name": "stdout",
          "output_type": "stream",
          "text": [
            "x = [1 2 3 4 5]\n",
            "x + 1 = [2 3 4 5 6]\n",
            "x - 1 = [0 1 2 3 4]\n",
            "x * 2 = [ 2  4  6  8 10]\n",
            "x // 2 = [0 1 1 2 2]\n",
            "x ** 2 = [ 1  4  9 16 25]\n",
            "x % 2 = [1 0 1 0 1]\n",
            "1 / x = [1.         0.5        0.33333333 0.25       0.2       ]\n"
          ]
        }
      ],
      "source": [
        "x = np.array([1,2,3,4,5])\n",
        "\n",
        "print('x =', x)\n",
        "print('x + 1 =', x + 1)      # addition\n",
        "print('x - 1 =', x - 1)      # subtraction\n",
        "print('x * 2 =', x * 2)      # multiplication\n",
        "print('x // 2 =', x // 2)     # integer division\n",
        "print('x ** 2 =', x ** 2)     # square\n",
        "print('x % 2 =', x % 2)      # modulo\n",
        "print('1 / x =', 1 / x)      # division"
      ]
    },
    {
      "cell_type": "code",
      "execution_count": null,
      "metadata": {
        "colab": {
          "base_uri": "https://localhost:8080/"
        },
        "id": "oL3nyflj8eFS",
        "outputId": "6822224f-c115-4186-df8e-0119236c8f48"
      },
      "outputs": [
        {
          "name": "stdout",
          "output_type": "stream",
          "text": [
            "x = [ 2  4  6  8 10]\n",
            "y = [1 2 3 4 5]\n",
            "x + y = [ 3  6  9 12 15]\n",
            "x - y = [1 2 3 4 5]\n",
            "x * y = [ 2  8 18 32 50]\n",
            "x / y = [2. 2. 2. 2. 2.]\n",
            "x // y = [2 2 2 2 2]\n",
            "x ** y = [     2     16    216   4096 100000]\n"
          ]
        }
      ],
      "source": [
        "x = np.array([2,4,6,8,10])\n",
        "y = np.array([1,2,3,4,5])\n",
        "\n",
        "print('x =', x)\n",
        "print('y =', y)\n",
        "print('x + y =', x + y)      # element-wise addition\n",
        "print('x - y =', x - y)      # element-wise subtraction\n",
        "print('x * y =', x * y)      # element-wise multiplication\n",
        "print('x / y =', x / y)      # element-wise division\n",
        "print('x // y =', x // y)    # element-wise integer division\n",
        "print('x ** y =', x ** y)    # element-wise exponentiation"
      ]
    },
    {
      "cell_type": "markdown",
      "metadata": {
        "id": "jUQAoEk88eFS"
      },
      "source": [
        "## 2.1.3 Indexing and Slicing\n",
        "\n",
        "There are various ways to select a subset of elements within a numpy array. Assigning a numpy array (or a subset of its elements) to another variable will simply pass a reference to the array instead of copying its values. To make a copy of an ndarray, you need to explicitly call the .copy() function."
      ]
    },
    {
      "cell_type": "code",
      "execution_count": null,
      "metadata": {
        "colab": {
          "base_uri": "https://localhost:8080/"
        },
        "id": "fFmQbMCR8eFT",
        "outputId": "e4c55795-c589-4843-dd50-932d95c16d38"
      },
      "outputs": [
        {
          "name": "stdout",
          "output_type": "stream",
          "text": [
            "Before: x = [-5 -4 -3 -2 -1  0  1  2  3  4]\n",
            "        y = [-2 -1]\n",
            "After : y = [1000 1000]\n",
            "        x = [  -5   -4   -3 1000 1000    0    1    2    3    4] \n",
            "\n",
            "Before: x = [  -5   -4   -3 1000 1000    0    1    2    3    4]\n",
            "        z = [1000 1000]\n",
            "After : z = [500 500]\n",
            "        x = [  -5   -4   -3 1000 1000    0    1    2    3    4]\n"
          ]
        }
      ],
      "source": [
        "x = np.arange(-5,5)\n",
        "print('Before: x =', x)\n",
        "\n",
        "y = x[3:5]     # y is a slice, i.e., pointer to a subarray in x\n",
        "print('        y =', y)\n",
        "y[:] = 1000    # modifying the value of y will change x\n",
        "print('After : y =', y)\n",
        "print('        x =', x, '\\n')\n",
        "\n",
        "z = x[3:5].copy()   # makes a copy of the subarray\n",
        "print('Before: x =', x)\n",
        "print('        z =', z)\n",
        "z[:] = 500          # modifying the value of z will not affect x\n",
        "print('After : z =', z)\n",
        "print('        x =', x)"
      ]
    },
    {
      "cell_type": "markdown",
      "metadata": {
        "id": "4TfP_zqF8eFT"
      },
      "source": [
        "There are many ways to access elements of an ndarray. The following example illustrates the difference between indexing elements of a list and elements of ndarray."
      ]
    },
    {
      "cell_type": "code",
      "execution_count": null,
      "metadata": {
        "colab": {
          "base_uri": "https://localhost:8080/"
        },
        "id": "GITA1NTE8eFU",
        "outputId": "665f90be-f455-4806-978e-8577905e4c29"
      },
      "outputs": [
        {
          "name": "stdout",
          "output_type": "stream",
          "text": [
            "my2dlist = [[1, 2, 3, 4], [5, 6, 7, 8], [9, 10, 11, 12]]\n",
            "my2dlist[2] = [9, 10, 11, 12]\n",
            "my2dlist[:][2] = [9, 10, 11, 12]\n",
            "\n",
            "my2darr =\n",
            " [[ 1  2  3  4]\n",
            " [ 5  6  7  8]\n",
            " [ 9 10 11 12]]\n",
            "my2darr[2][:] = [ 9 10 11 12]\n",
            "my2darr[2,:] = [ 9 10 11 12]\n",
            "my2darr[:][2] = [ 9 10 11 12]\n",
            "my2darr[:,2] = [ 3  7 11]\n",
            "my2darr[:2,2:] =\n",
            " [[3 4]\n",
            " [7 8]]\n"
          ]
        }
      ],
      "source": [
        "my2dlist = [[1,2,3,4],[5,6,7,8],[9,10,11,12]]  # a 2-dim list\n",
        "print('my2dlist =', my2dlist)\n",
        "print('my2dlist[2] =', my2dlist[2])            # access the third sublist\n",
        "print('my2dlist[:][2] =', my2dlist[:][2])      # can't access third element of each sublist\n",
        "# print('my2dlist[:,2] =', my2dlist[:,2])      # invalid way to access sublist, will cause syntax error\n",
        "\n",
        "my2darr = np.array(my2dlist)\n",
        "print('\\nmy2darr =\\n', my2darr)\n",
        "\n",
        "print('my2darr[2][:] =', my2darr[2][:])      # access the third row\n",
        "print('my2darr[2,:] =', my2darr[2,:])        # access the third row\n",
        "print('my2darr[:][2] =', my2darr[:][2])      # access the third row (similar to 2d list)\n",
        "print('my2darr[:,2] =', my2darr[:,2])        # access the third column\n",
        "print('my2darr[:2,2:] =\\n', my2darr[:2,2:])     # access the first two rows & last two columns"
      ]
    },
    {
      "cell_type": "markdown",
      "metadata": {
        "id": "6ckhE9Ac8eFU"
      },
      "source": [
        "Numpy arrays also support boolean indexing."
      ]
    },
    {
      "cell_type": "code",
      "execution_count": null,
      "metadata": {
        "colab": {
          "base_uri": "https://localhost:8080/"
        },
        "id": "VBnc3VUW8eFU",
        "outputId": "35dea8fb-2811-4ca5-a107-545628dab1c5"
      },
      "outputs": [
        {
          "name": "stdout",
          "output_type": "stream",
          "text": [
            "my2darr =\n",
            " [[ 1  2  3  4]\n",
            " [ 5  6  7  8]\n",
            " [ 9 10 11 12]]\n",
            "\n",
            "my2darr[my2darr % 3 == 0] = [ 3  6  9 12]\n",
            "my2darr[2:, my2darr[2,:] % 3 == 0] = [[ 9 12]]\n"
          ]
        }
      ],
      "source": [
        "my2darr = np.arange(1,13,1).reshape(3,4)\n",
        "print('my2darr =\\n', my2darr)\n",
        "\n",
        "divBy3 = my2darr[my2darr % 3 == 0]\n",
        "print('\\nmy2darr[my2darr % 3 == 0] =', divBy3)            # returns all the elements divisible by 3 in an ndarray\n",
        "\n",
        "divBy3LastRow = my2darr[2:, my2darr[2,:] % 3 == 0]\n",
        "print('my2darr[2:, my2darr[2,:] % 3 == 0] =', divBy3LastRow)    # returns elements in the last row divisible by 3"
      ]
    },
    {
      "cell_type": "markdown",
      "metadata": {
        "id": "88JbejrE8eFU"
      },
      "source": [
        "More indexing examples."
      ]
    },
    {
      "cell_type": "code",
      "execution_count": null,
      "metadata": {
        "colab": {
          "base_uri": "https://localhost:8080/"
        },
        "id": "0H-GSGri8eFV",
        "outputId": "92a840c8-e3b0-40b6-9a37-2a0c7c52a89b"
      },
      "outputs": [
        {
          "name": "stdout",
          "output_type": "stream",
          "text": [
            "my2darr =\n",
            " [[ 1  2  3]\n",
            " [ 4  5  6]\n",
            " [ 7  8  9]\n",
            " [10 11 12]]\n",
            "indices = [2, 1, 0, 3] \n",
            "\n",
            "my2darr[indices,:] =\n",
            " [[ 7  8  9]\n",
            " [ 4  5  6]\n",
            " [ 1  2  3]\n",
            " [10 11 12]]\n",
            "\n",
            "rowIndex = [0, 0, 1, 2, 3]\n",
            "columnIndex = [0, 2, 0, 1, 2] \n",
            "\n",
            "my2darr[rowIndex,columnIndex] = [ 1  3  4  8 12]\n"
          ]
        }
      ],
      "source": [
        "my2darr = np.arange(1,13,1).reshape(4,3)\n",
        "print('my2darr =\\n', my2darr)\n",
        "\n",
        "indices = [2,1,0,3]    # selected row indices\n",
        "print('indices =', indices, '\\n')\n",
        "print('my2darr[indices,:] =\\n', my2darr[indices,:])  # this will shuffle the rows of my2darr\n",
        "\n",
        "rowIndex = [0,0,1,2,3]     # row index into my2darr\n",
        "print('\\nrowIndex =', rowIndex)\n",
        "columnIndex = [0,2,0,1,2]  # column index into my2darr\n",
        "print('columnIndex =', columnIndex, '\\n')\n",
        "print('my2darr[rowIndex,columnIndex] =', my2darr[rowIndex,columnIndex])"
      ]
    },
    {
      "cell_type": "markdown",
      "metadata": {
        "id": "d9G--4dS8eFV"
      },
      "source": [
        "## 2.1.4 Numpy Arithmetic and Statistical Functions\n",
        "\n",
        "Numpy provides many built-in mathematical functions available for manipulating elements of an ndarray."
      ]
    },
    {
      "cell_type": "code",
      "execution_count": null,
      "metadata": {
        "colab": {
          "base_uri": "https://localhost:8080/"
        },
        "id": "lgLZk7n28eFV",
        "outputId": "4bbbf4f0-c8b5-4099-f869-efeed604f1ec"
      },
      "outputs": [
        {
          "name": "stdout",
          "output_type": "stream",
          "text": [
            "y = [-1.4  0.4 -3.2  2.5  3.4] \n",
            "\n",
            "np.abs(y) = [1.4 0.4 3.2 2.5 3.4]\n",
            "np.sqrt(abs(y)) = [1.18321596 0.63245553 1.78885438 1.58113883 1.84390889]\n",
            "np.sign(y) = [-1.  1. -1.  1.  1.]\n",
            "np.exp(y) = [ 0.24659696  1.4918247   0.0407622  12.18249396 29.96410005]\n",
            "np.sort(y) = [-3.2 -1.4  0.4  2.5  3.4]\n"
          ]
        }
      ],
      "source": [
        "y = np.array([-1.4, 0.4, -3.2, 2.5, 3.4])\n",
        "print('y =', y, '\\n')\n",
        "\n",
        "print('np.abs(y) =', np.abs(y))                # convert to absolute values\n",
        "print('np.sqrt(abs(y)) =', np.sqrt(abs(y)))    # apply square root to each element\n",
        "print('np.sign(y) =', np.sign(y))              # get the sign of each element\n",
        "print('np.exp(y) =', np.exp(y))                # apply exponentiation\n",
        "print('np.sort(y) =', np.sort(y))              # sort array"
      ]
    },
    {
      "cell_type": "code",
      "execution_count": null,
      "metadata": {
        "colab": {
          "base_uri": "https://localhost:8080/"
        },
        "id": "Ngz1X5008eFV",
        "outputId": "555ee650-51ba-4ad9-a490-faeae9557773"
      },
      "outputs": [
        {
          "name": "stdout",
          "output_type": "stream",
          "text": [
            "x = [-2 -1  0  1  2]\n",
            "y = [-0.7551104  -0.69211152 -1.26737247  0.48581752  0.95247013] \n",
            "\n",
            "np.add(x,y) = [-2.7551104  -1.69211152 -1.26737247  1.48581752  2.95247013]\n",
            "np.subtract(x,y) = [-1.2448896  -0.30788848  1.26737247  0.51418248  1.04752987]\n",
            "np.multiply(x,y) = [ 1.51022081  0.69211152 -0.          0.48581752  1.90494027]\n",
            "np.divide(x,y) = [ 2.64861932  1.44485386 -0.          2.05838605  2.09980337]\n",
            "np.maximum(x,y) = [-0.7551104  -0.69211152  0.          1.          2.        ]\n"
          ]
        }
      ],
      "source": [
        "x = np.arange(-2,3)\n",
        "y = np.random.randn(5)\n",
        "print('x =', x)\n",
        "print('y =', y, '\\n')\n",
        "\n",
        "print('np.add(x,y) =', np.add(x,y))                # element-wise addition       x + y\n",
        "print('np.subtract(x,y) =', np.subtract(x,y))      # element-wise subtraction    x - y\n",
        "print('np.multiply(x,y) =', np.multiply(x,y))      # element-wise multiplication x * y\n",
        "print('np.divide(x,y) =', np.divide(x,y))          # element-wise division       x / y\n",
        "print('np.maximum(x,y) =', np.maximum(x,y))        # element-wise maximum        max(x,y)"
      ]
    },
    {
      "cell_type": "code",
      "execution_count": null,
      "metadata": {
        "colab": {
          "base_uri": "https://localhost:8080/"
        },
        "id": "NBKUfnaI8eFW",
        "outputId": "24c5e68b-d5ee-4b83-e70c-ebd9d67b3038"
      },
      "outputs": [
        {
          "name": "stdout",
          "output_type": "stream",
          "text": [
            "y = [-3.2 -1.4  0.4  2.5  3.4] \n",
            "\n",
            "Min = -3.2\n",
            "Max = 3.4\n",
            "Average = 0.34000000000000014\n",
            "Std deviation = 2.432776191925595\n",
            "Sum = 1.7000000000000006\n"
          ]
        }
      ],
      "source": [
        "y = np.array([-3.2, -1.4, 0.4, 2.5, 3.4])\n",
        "print('y =', y, '\\n')\n",
        "\n",
        "print(\"Min =\", np.min(y))             # min\n",
        "print(\"Max =\", np.max(y))             # max\n",
        "print(\"Average =\", np.mean(y))        # mean/average\n",
        "print(\"Std deviation =\", np.std(y))   # standard deviation\n",
        "print(\"Sum =\", np.sum(y))             # sum"
      ]
    },
    {
      "cell_type": "markdown",
      "metadata": {
        "id": "yu9ActUA8eFW"
      },
      "source": [
        "## 2.1.5 Numpy linear algebra\n",
        "\n",
        "Numpy provides many functions to support linear algebra operations."
      ]
    },
    {
      "cell_type": "code",
      "execution_count": null,
      "metadata": {
        "colab": {
          "base_uri": "https://localhost:8080/"
        },
        "id": "iqHu02EC8eFW",
        "outputId": "c79366d4-e364-4937-da9b-16bb0bcffca7"
      },
      "outputs": [
        {
          "name": "stdout",
          "output_type": "stream",
          "text": [
            "X =\n",
            " [[-0.40853697 -0.33743679  0.40934498]\n",
            " [-0.34844698  1.52207918  0.46686385]] \n",
            "\n",
            "Transpose of X, X.T =\n",
            " [[-0.40853697 -0.34844698]\n",
            " [-0.33743679  1.52207918]\n",
            " [ 0.40934498  0.46686385]] \n",
            "\n",
            "y = [-1.11776748 -1.1274572  -0.8724483 ] \n",
            "\n",
            "Matrix-vector multiplication\n",
            "X.dot(y) =\n",
            " [ 0.47996255 -1.73391099] \n",
            "\n",
            "Matrix-matrix product\n",
            "X.dot(X.T) = [[ 0.44832935 -0.18014367]\n",
            " [-0.18014367  2.65610218]]\n",
            "\n",
            "X.T.dot(X) =\n",
            " [[ 0.28831775 -0.39250849 -0.32990986]\n",
            " [-0.39250849  2.43058862  0.57247569]\n",
            " [-0.32990986  0.57247569  0.38552517]]\n"
          ]
        }
      ],
      "source": [
        "X = np.random.randn(2,3)                         # create a 2 x 3 random matrix\n",
        "print('X =\\n', X, '\\n')\n",
        "print('Transpose of X, X.T =\\n', X.T, '\\n')      # matrix transpose operation X^T\n",
        "\n",
        "y = np.random.randn(3) # random vector\n",
        "print('y =', y, '\\n')\n",
        "\n",
        "print('Matrix-vector multiplication')\n",
        "print('X.dot(y) =\\n', X.dot(y), '\\n')            # matrix-vector multiplication  X * y\n",
        "\n",
        "print('Matrix-matrix product')\n",
        "print('X.dot(X.T) =', X.dot(X.T))        # matrix-matrix multiplication  X * X^T\n",
        "print('\\nX.T.dot(X) =\\n', X.T.dot(X))      # matrix-matrix multiplication  X^T * X"
      ]
    },
    {
      "cell_type": "code",
      "execution_count": null,
      "metadata": {
        "colab": {
          "base_uri": "https://localhost:8080/"
        },
        "id": "MJj0VYMI8eFW",
        "outputId": "afbefaa6-59b0-4528-b924-e76cb1e03a7b"
      },
      "outputs": [
        {
          "name": "stdout",
          "output_type": "stream",
          "text": [
            "X =\n",
            " [[ 2.40302245 -0.2900174  -0.78054296]\n",
            " [-1.60582957 -0.66470918 -2.20295779]\n",
            " [ 1.67549128 -0.58733979  0.7100088 ]\n",
            " [-0.29711687 -0.6118207  -0.28156466]\n",
            " [-0.8095334  -0.8862951  -1.48067374]] \n",
            "\n",
            "C = X.T.dot(X) =\n",
            " [[11.9040993   0.28567637  4.13383852]\n",
            " [ 0.28567637  2.03075999  2.75826185]\n",
            " [ 4.13383852  2.75826185  8.23805622]] \n",
            "\n",
            "Inverse of C = np.linalg.inv(C)\n",
            " [[ 0.11441528  0.11350318 -0.09541641]\n",
            " [ 0.11350318  1.01574478 -0.3970468 ]\n",
            " [-0.09541641 -0.3970468   0.30220662]] \n",
            "\n",
            "Determinant of C = np.linalg.det(C) = 79.72280003555237\n",
            "Eigenvalues of C =\n",
            " [14.8400432   6.50731866  0.82555365]\n",
            "Eigenvectors of C =\n",
            " [[ 0.81179569  0.56950883 -0.12902498]\n",
            " [ 0.14017044 -0.40454379 -0.90371266]\n",
            " [ 0.56686859 -0.71554455  0.40823521]]\n"
          ]
        }
      ],
      "source": [
        "X = np.random.randn(5,3)\n",
        "print('X =\\n', X, '\\n')\n",
        "\n",
        "C = X.T.dot(X)               # C = X^T * X is a square matrix\n",
        "print('C = X.T.dot(X) =\\n', C, '\\n')\n",
        "\n",
        "invC = np.linalg.inv(C)      # inverse of a square matrix\n",
        "print('Inverse of C = np.linalg.inv(C)\\n', invC, '\\n')\n",
        "\n",
        "detC = np.linalg.det(C)      # determinant of a square matrix\n",
        "print('Determinant of C = np.linalg.det(C) =', detC)\n",
        "\n",
        "S, U = np.linalg.eig(C)      # eigenvalue S and eigenvector U of a square matrix\n",
        "print('Eigenvalues of C =\\n', S)\n",
        "print('Eigenvectors of C =\\n', U)"
      ]
    },
    {
      "cell_type": "markdown",
      "metadata": {
        "id": "-n2JvvBu8eFW"
      },
      "source": [
        "## 2.2 Introduction to Pandas\n",
        "\n",
        "Pandas provide two convenient data structures for storing and manipulating data: Series and DataFrame. A Series is similar to a one-dimensional array whereas a DataFrame is a tabular representation akin to a spreadsheet table.  \n",
        "\n",
        "### 2.2.1 Series\n",
        "\n",
        "A Series object consists of a one-dimensional array of values, whose elements can be referenced using an index array. A Series object can be created from a list, a numpy array, or a Python dictionary. You can apply most of the numpy functions on the Series object."
      ]
    },
    {
      "cell_type": "code",
      "execution_count": null,
      "metadata": {
        "colab": {
          "base_uri": "https://localhost:8080/"
        },
        "id": "h-lkdnsC8eFX",
        "outputId": "28415215-ac15-49d6-cf7d-884c41081ca4"
      },
      "outputs": [
        {
          "name": "stdout",
          "output_type": "stream",
          "text": [
            "Series, s =\n",
            " 0    3.1\n",
            "1    2.4\n",
            "2   -1.7\n",
            "3    0.2\n",
            "4   -2.9\n",
            "5    4.5\n",
            "dtype: float64 \n",
            "\n",
            "s.values = [ 3.1  2.4 -1.7  0.2 -2.9  4.5]\n",
            "s.index = RangeIndex(start=0, stop=6, step=1)\n",
            "s.dtype = float64\n"
          ]
        }
      ],
      "source": [
        "from pandas import Series\n",
        "\n",
        "s = Series([3.1, 2.4, -1.7, 0.2, -2.9, 4.5])   # creating a series from a list\n",
        "print('Series, s =\\n', s, '\\n')\n",
        "\n",
        "print('s.values =', s.values)     # display values of the Series\n",
        "print('s.index =', s.index)       # display indices of the Series\n",
        "print('s.dtype =', s.dtype)       # display the element type of the Series"
      ]
    },
    {
      "cell_type": "code",
      "execution_count": null,
      "metadata": {
        "colab": {
          "base_uri": "https://localhost:8080/"
        },
        "id": "TN7Gd1fG8eFX",
        "outputId": "e0e2833c-10e7-44d2-c4c8-2a114cde6648"
      },
      "outputs": [
        {
          "name": "stdout",
          "output_type": "stream",
          "text": [
            "Series s2 =\n",
            " 0    0.299985\n",
            "1   -1.255570\n",
            "2    0.492132\n",
            "3   -1.268581\n",
            "4    2.065214\n",
            "5   -1.104765\n",
            "dtype: float64 \n",
            "\n",
            "s2.values = [ 0.29998517 -1.25557037  0.49213163 -1.26858071  2.06521383 -1.10476522]\n",
            "s2.index = RangeIndex(start=0, stop=6, step=1)\n",
            "s2.dtype = float64\n"
          ]
        }
      ],
      "source": [
        "import numpy as np\n",
        "\n",
        "s2 = Series(np.random.randn(6))   # creating a series from a numpy ndarray\n",
        "print('Series s2 =\\n', s2, '\\n')\n",
        "print('s2.values =', s2.values)   # display values of the Series\n",
        "print('s2.index =', s2.index)     # display indices of the Series\n",
        "print('s2.dtype =', s2.dtype)     # display the element type of the Series"
      ]
    },
    {
      "cell_type": "code",
      "execution_count": null,
      "metadata": {
        "colab": {
          "base_uri": "https://localhost:8080/"
        },
        "id": "6ZjSVEUT8eFX",
        "outputId": "909525d1-eae6-4d06-bd04-bca387178a45"
      },
      "outputs": [
        {
          "name": "stdout",
          "output_type": "stream",
          "text": [
            "Series s3 =\n",
            " Jan 1    1.2\n",
            "Jan 2    2.5\n",
            "Jan 3   -2.2\n",
            "Jan 4    3.1\n",
            "Jan 5   -0.8\n",
            "Jan 6   -3.2\n",
            "dtype: float64 \n",
            "\n",
            "s3.values = [ 1.2  2.5 -2.2  3.1 -0.8 -3.2]\n",
            "s3.index = Index(['Jan 1', 'Jan 2', 'Jan 3', 'Jan 4', 'Jan 5', 'Jan 6'], dtype='object')\n",
            "s3.dtype = float64\n"
          ]
        }
      ],
      "source": [
        "s3 = Series([1.2,2.5,-2.2,3.1,-0.8,-3.2],\n",
        "            index = ['Jan 1','Jan 2','Jan 3','Jan 4','Jan 5','Jan 6',])\n",
        "print('Series s3 =\\n', s3, '\\n')\n",
        "print('s3.values =', s3.values)   # display values of the Series\n",
        "print('s3.index =', s3.index)     # display indices of the Series\n",
        "print('s3.dtype =', s3.dtype)     # display the element type of the Series"
      ]
    },
    {
      "cell_type": "code",
      "execution_count": null,
      "metadata": {
        "colab": {
          "base_uri": "https://localhost:8080/"
        },
        "id": "tUvgI8jp8eFX",
        "outputId": "b485035e-5672-461d-d72f-801498d62b8c"
      },
      "outputs": [
        {
          "name": "stdout",
          "output_type": "stream",
          "text": [
            "Series s4 =\n",
            " MI       Lansing\n",
            "CA    Sacramento\n",
            "TX        Austin\n",
            "MN       St Paul\n",
            "dtype: object \n",
            "\n",
            "s4.values = ['Lansing' 'Sacramento' 'Austin' 'St Paul']\n",
            "s4.index= Index(['MI', 'CA', 'TX', 'MN'], dtype='object')\n",
            "s4.dtype = object\n"
          ]
        }
      ],
      "source": [
        "capitals = {'MI': 'Lansing', 'CA': 'Sacramento', 'TX': 'Austin', 'MN': 'St Paul'}\n",
        "\n",
        "s4 = Series(capitals)   # creating a series from dictionary object\n",
        "print('Series s4 =\\n', s4, '\\n')\n",
        "print('s4.values =', s4.values)   # display values of the Series\n",
        "print('s4.index=', s4.index)      # display indices of the Series\n",
        "print('s4.dtype =', s4.dtype)     # display the element type of the Series"
      ]
    },
    {
      "cell_type": "code",
      "execution_count": null,
      "metadata": {
        "colab": {
          "base_uri": "https://localhost:8080/"
        },
        "id": "Enbb-W3h8eFX",
        "outputId": "8c96dd27-f826-49a1-9fe9-cddb9646c30f"
      },
      "outputs": [
        {
          "name": "stdout",
          "output_type": "stream",
          "text": [
            "s3 =\n",
            " Jan 1    1.2\n",
            "Jan 2    2.5\n",
            "Jan 3   -2.2\n",
            "Jan 4    3.1\n",
            "Jan 5   -0.8\n",
            "Jan 6   -3.2\n",
            "dtype: float64 \n",
            "\n",
            "s3[2]= -2.2\n",
            "s3['Jan 3']= -2.2\n",
            "\n",
            "s3[1:3]=\n",
            "Jan 2    2.5\n",
            "Jan 3   -2.2\n",
            "dtype: float64\n",
            "\n",
            "s3.iloc([1:3])=\n",
            "Jan 2    2.5\n",
            "Jan 3   -2.2\n",
            "dtype: float64\n"
          ]
        }
      ],
      "source": [
        "s3 = Series([1.2,2.5,-2.2,3.1,-0.8,-3.2],\n",
        "            index = ['Jan 1','Jan 2','Jan 3','Jan 4','Jan 5','Jan 6',])\n",
        "print('s3 =\\n', s3, '\\n')\n",
        "\n",
        "# Accessing elements of a Series\n",
        "\n",
        "print('s3[2]=', s3[2])        # display third element of the Series\n",
        "print('s3[\\'Jan 3\\']=', s3['Jan 3'])   # indexing element of a Series\n",
        "\n",
        "print('\\ns3[1:3]=')             # display a slice of the Series\n",
        "print(s3[1:3])\n",
        "print('\\ns3.iloc([1:3])=')      # display a slice of the Series\n",
        "print(s3.iloc[1:3])"
      ]
    },
    {
      "cell_type": "markdown",
      "metadata": {
        "id": "Xcaz3h6D8eFY"
      },
      "source": [
        "There are various functions available to find the number of elements in a Series. Result of the function depends on whether null elements are included."
      ]
    },
    {
      "cell_type": "code",
      "execution_count": null,
      "metadata": {
        "colab": {
          "base_uri": "https://localhost:8080/"
        },
        "id": "sfLT6w5Q8eFY",
        "outputId": "693275bb-38b3-4def-8b41-182747624ffd"
      },
      "outputs": [
        {
          "name": "stdout",
          "output_type": "stream",
          "text": [
            "Series s3 =\n",
            " Jan 1    1.2\n",
            "Jan 2    2.5\n",
            "Jan 3   -2.2\n",
            "Jan 4    3.1\n",
            "Jan 5   -0.8\n",
            "Jan 6   -3.2\n",
            "Jan 7    NaN\n",
            "dtype: float64 \n",
            "\n",
            "Shape of s3 = (7,)\n",
            "Size of s3 = 7\n",
            "Count of s3 = 6\n"
          ]
        }
      ],
      "source": [
        "s3['Jan 7'] = np.nan\n",
        "print('Series s3 =\\n', s3, '\\n')\n",
        "\n",
        "print('Shape of s3 =', s3.shape)   # get the dimension of the Series\n",
        "print('Size of s3 =', s3.size)     # get the number of elements of the Series\n",
        "print('Count of s3 =', s3.count()) # get the number of non-null elements of the Series"
      ]
    },
    {
      "cell_type": "markdown",
      "metadata": {
        "id": "Wn3HIvUw8eFY"
      },
      "source": [
        "A boolean filter can be used to select elements of a Series"
      ]
    },
    {
      "cell_type": "code",
      "execution_count": null,
      "metadata": {
        "colab": {
          "base_uri": "https://localhost:8080/"
        },
        "id": "JTq2jNlb8eFY",
        "outputId": "85ba6614-373a-4045-e437-1bea776ab152"
      },
      "outputs": [
        {
          "name": "stdout",
          "output_type": "stream",
          "text": [
            "Jan 1    1.2\n",
            "Jan 2    2.5\n",
            "Jan 4    3.1\n",
            "dtype: float64\n"
          ]
        }
      ],
      "source": [
        "print(s3[s3 > 0])   # applying filter to select non-negative elements of the Series"
      ]
    },
    {
      "cell_type": "markdown",
      "metadata": {
        "id": "firearHG8eFY"
      },
      "source": [
        "Scalar operations can be performed on elements of a numeric Series"
      ]
    },
    {
      "cell_type": "code",
      "execution_count": null,
      "metadata": {
        "colab": {
          "base_uri": "https://localhost:8080/"
        },
        "id": "uqsyZpGk8eFY",
        "outputId": "a2d135a8-e265-4452-efa5-9696e4ba79b9"
      },
      "outputs": [
        {
          "name": "stdout",
          "output_type": "stream",
          "text": [
            "s3 + 4 =\n",
            " Jan 1    5.2\n",
            "Jan 2    6.5\n",
            "Jan 3    1.8\n",
            "Jan 4    7.1\n",
            "Jan 5    3.2\n",
            "Jan 6    0.8\n",
            "Jan 7    NaN\n",
            "dtype: float64 \n",
            "\n",
            "s3 / 4 =\n",
            " Jan 1    0.300\n",
            "Jan 2    0.625\n",
            "Jan 3   -0.550\n",
            "Jan 4    0.775\n",
            "Jan 5   -0.200\n",
            "Jan 6   -0.800\n",
            "Jan 7      NaN\n",
            "dtype: float64\n"
          ]
        }
      ],
      "source": [
        "print('s3 + 4 =\\n', s3 + 4, '\\n')\n",
        "print('s3 / 4 =\\n', s3 / 4)"
      ]
    },
    {
      "cell_type": "markdown",
      "metadata": {
        "id": "5q3wHOuQ8eFY"
      },
      "source": [
        "Numpy functions can be applied to pandas Series."
      ]
    },
    {
      "cell_type": "code",
      "execution_count": null,
      "metadata": {
        "colab": {
          "base_uri": "https://localhost:8080/"
        },
        "id": "T2EfiGs38eFZ",
        "outputId": "eccdbe87-3514-42da-f5e9-93b41067fde0"
      },
      "outputs": [
        {
          "name": "stdout",
          "output_type": "stream",
          "text": [
            "np.log(s3 + 4) =\n",
            " Jan 1    1.648659\n",
            "Jan 2    1.871802\n",
            "Jan 3    0.587787\n",
            "Jan 4    1.960095\n",
            "Jan 5    1.163151\n",
            "Jan 6   -0.223144\n",
            "Jan 7         NaN\n",
            "dtype: float64 \n",
            "\n",
            "np.exp(s3 - 4) =\n",
            " Jan 1    0.060810\n",
            "Jan 2    0.223130\n",
            "Jan 3    0.002029\n",
            "Jan 4    0.406570\n",
            "Jan 5    0.008230\n",
            "Jan 6    0.000747\n",
            "Jan 7         NaN\n",
            "dtype: float64 \n",
            "\n"
          ]
        }
      ],
      "source": [
        "print('np.log(s3 + 4) =\\n', np.log(s3 + 4), '\\n')    # applying log function to a numeric Series\n",
        "print('np.exp(s3 - 4) =\\n', np.exp(s3 - 4), '\\n')    # applying exponent function to a numeric Series"
      ]
    },
    {
      "cell_type": "markdown",
      "metadata": {
        "id": "onCboFfz8eFZ"
      },
      "source": [
        "The value_counts() function can be used for tabulating the counts of each discrete value in the Series."
      ]
    },
    {
      "cell_type": "code",
      "execution_count": null,
      "metadata": {
        "colab": {
          "base_uri": "https://localhost:8080/"
        },
        "id": "7gI9kVTS8eFZ",
        "outputId": "a033078b-ce98-41ec-9f1e-3e880e73f09f"
      },
      "outputs": [
        {
          "name": "stdout",
          "output_type": "stream",
          "text": [
            "colors =\n",
            " 0       red\n",
            "1      blue\n",
            "2      blue\n",
            "3    yellow\n",
            "4       red\n",
            "5     green\n",
            "6      blue\n",
            "7       NaN\n",
            "dtype: object \n",
            "\n",
            "colors.value_counts() =\n",
            " blue      3\n",
            "red       2\n",
            "yellow    1\n",
            "green     1\n",
            "dtype: int64\n"
          ]
        }
      ],
      "source": [
        "colors = Series(['red', 'blue', 'blue', 'yellow', 'red', 'green', 'blue', np.nan])\n",
        "print('colors =\\n', colors, '\\n')\n",
        "\n",
        "print('colors.value_counts() =\\n', colors.value_counts())"
      ]
    },
    {
      "cell_type": "markdown",
      "metadata": {
        "id": "IlJI16vL8eFZ"
      },
      "source": [
        "### 2.2.2 DataFrame\n",
        "\n",
        "A DataFrame object is a tabular, spreadsheet-like data structure containing a collection of columns, each of which can be of different types (numeric, string, boolean, etc). Unlike Series, a DataFrame has distinct row and column indices. There are many ways to create a DataFrame object (e.g., from a dictionary, list of tuples, or even numpy's ndarrays)."
      ]
    },
    {
      "cell_type": "code",
      "execution_count": null,
      "metadata": {
        "colab": {
          "base_uri": "https://localhost:8080/",
          "height": 174
        },
        "id": "fPdfn_sV8eFZ",
        "outputId": "734aeea9-43bc-4be3-be0a-6c7ac123b6cc"
      },
      "outputs": [
        {
          "data": {
            "text/html": [
              "\n",
              "  <div id=\"df-d2cc18c7-ff27-4590-922b-521c76c8305c\" class=\"colab-df-container\">\n",
              "    <div>\n",
              "<style scoped>\n",
              "    .dataframe tbody tr th:only-of-type {\n",
              "        vertical-align: middle;\n",
              "    }\n",
              "\n",
              "    .dataframe tbody tr th {\n",
              "        vertical-align: top;\n",
              "    }\n",
              "\n",
              "    .dataframe thead th {\n",
              "        text-align: right;\n",
              "    }\n",
              "</style>\n",
              "<table border=\"1\" class=\"dataframe\">\n",
              "  <thead>\n",
              "    <tr style=\"text-align: right;\">\n",
              "      <th></th>\n",
              "      <th>make</th>\n",
              "      <th>model</th>\n",
              "      <th>MSRP</th>\n",
              "    </tr>\n",
              "  </thead>\n",
              "  <tbody>\n",
              "    <tr>\n",
              "      <th>0</th>\n",
              "      <td>Ford</td>\n",
              "      <td>Taurus</td>\n",
              "      <td>27595</td>\n",
              "    </tr>\n",
              "    <tr>\n",
              "      <th>1</th>\n",
              "      <td>Honda</td>\n",
              "      <td>Accord</td>\n",
              "      <td>23570</td>\n",
              "    </tr>\n",
              "    <tr>\n",
              "      <th>2</th>\n",
              "      <td>Toyota</td>\n",
              "      <td>Camry</td>\n",
              "      <td>23495</td>\n",
              "    </tr>\n",
              "    <tr>\n",
              "      <th>3</th>\n",
              "      <td>Tesla</td>\n",
              "      <td>Model S</td>\n",
              "      <td>68000</td>\n",
              "    </tr>\n",
              "  </tbody>\n",
              "</table>\n",
              "</div>\n",
              "    <div class=\"colab-df-buttons\">\n",
              "\n",
              "  <div class=\"colab-df-container\">\n",
              "    <button class=\"colab-df-convert\" onclick=\"convertToInteractive('df-d2cc18c7-ff27-4590-922b-521c76c8305c')\"\n",
              "            title=\"Convert this dataframe to an interactive table.\"\n",
              "            style=\"display:none;\">\n",
              "\n",
              "  <svg xmlns=\"http://www.w3.org/2000/svg\" height=\"24px\" viewBox=\"0 -960 960 960\">\n",
              "    <path d=\"M120-120v-720h720v720H120Zm60-500h600v-160H180v160Zm220 220h160v-160H400v160Zm0 220h160v-160H400v160ZM180-400h160v-160H180v160Zm440 0h160v-160H620v160ZM180-180h160v-160H180v160Zm440 0h160v-160H620v160Z\"/>\n",
              "  </svg>\n",
              "    </button>\n",
              "\n",
              "  <style>\n",
              "    .colab-df-container {\n",
              "      display:flex;\n",
              "      gap: 12px;\n",
              "    }\n",
              "\n",
              "    .colab-df-convert {\n",
              "      background-color: #E8F0FE;\n",
              "      border: none;\n",
              "      border-radius: 50%;\n",
              "      cursor: pointer;\n",
              "      display: none;\n",
              "      fill: #1967D2;\n",
              "      height: 32px;\n",
              "      padding: 0 0 0 0;\n",
              "      width: 32px;\n",
              "    }\n",
              "\n",
              "    .colab-df-convert:hover {\n",
              "      background-color: #E2EBFA;\n",
              "      box-shadow: 0px 1px 2px rgba(60, 64, 67, 0.3), 0px 1px 3px 1px rgba(60, 64, 67, 0.15);\n",
              "      fill: #174EA6;\n",
              "    }\n",
              "\n",
              "    .colab-df-buttons div {\n",
              "      margin-bottom: 4px;\n",
              "    }\n",
              "\n",
              "    [theme=dark] .colab-df-convert {\n",
              "      background-color: #3B4455;\n",
              "      fill: #D2E3FC;\n",
              "    }\n",
              "\n",
              "    [theme=dark] .colab-df-convert:hover {\n",
              "      background-color: #434B5C;\n",
              "      box-shadow: 0px 1px 3px 1px rgba(0, 0, 0, 0.15);\n",
              "      filter: drop-shadow(0px 1px 2px rgba(0, 0, 0, 0.3));\n",
              "      fill: #FFFFFF;\n",
              "    }\n",
              "  </style>\n",
              "\n",
              "    <script>\n",
              "      const buttonEl =\n",
              "        document.querySelector('#df-d2cc18c7-ff27-4590-922b-521c76c8305c button.colab-df-convert');\n",
              "      buttonEl.style.display =\n",
              "        google.colab.kernel.accessAllowed ? 'block' : 'none';\n",
              "\n",
              "      async function convertToInteractive(key) {\n",
              "        const element = document.querySelector('#df-d2cc18c7-ff27-4590-922b-521c76c8305c');\n",
              "        const dataTable =\n",
              "          await google.colab.kernel.invokeFunction('convertToInteractive',\n",
              "                                                    [key], {});\n",
              "        if (!dataTable) return;\n",
              "\n",
              "        const docLinkHtml = 'Like what you see? Visit the ' +\n",
              "          '<a target=\"_blank\" href=https://colab.research.google.com/notebooks/data_table.ipynb>data table notebook</a>'\n",
              "          + ' to learn more about interactive tables.';\n",
              "        element.innerHTML = '';\n",
              "        dataTable['output_type'] = 'display_data';\n",
              "        await google.colab.output.renderOutput(dataTable, element);\n",
              "        const docLink = document.createElement('div');\n",
              "        docLink.innerHTML = docLinkHtml;\n",
              "        element.appendChild(docLink);\n",
              "      }\n",
              "    </script>\n",
              "  </div>\n",
              "\n",
              "\n",
              "<div id=\"df-798180c7-480c-489e-a146-f43b405585fb\">\n",
              "  <button class=\"colab-df-quickchart\" onclick=\"quickchart('df-798180c7-480c-489e-a146-f43b405585fb')\"\n",
              "            title=\"Suggest charts\"\n",
              "            style=\"display:none;\">\n",
              "\n",
              "<svg xmlns=\"http://www.w3.org/2000/svg\" height=\"24px\"viewBox=\"0 0 24 24\"\n",
              "     width=\"24px\">\n",
              "    <g>\n",
              "        <path d=\"M19 3H5c-1.1 0-2 .9-2 2v14c0 1.1.9 2 2 2h14c1.1 0 2-.9 2-2V5c0-1.1-.9-2-2-2zM9 17H7v-7h2v7zm4 0h-2V7h2v10zm4 0h-2v-4h2v4z\"/>\n",
              "    </g>\n",
              "</svg>\n",
              "  </button>\n",
              "\n",
              "<style>\n",
              "  .colab-df-quickchart {\n",
              "      --bg-color: #E8F0FE;\n",
              "      --fill-color: #1967D2;\n",
              "      --hover-bg-color: #E2EBFA;\n",
              "      --hover-fill-color: #174EA6;\n",
              "      --disabled-fill-color: #AAA;\n",
              "      --disabled-bg-color: #DDD;\n",
              "  }\n",
              "\n",
              "  [theme=dark] .colab-df-quickchart {\n",
              "      --bg-color: #3B4455;\n",
              "      --fill-color: #D2E3FC;\n",
              "      --hover-bg-color: #434B5C;\n",
              "      --hover-fill-color: #FFFFFF;\n",
              "      --disabled-bg-color: #3B4455;\n",
              "      --disabled-fill-color: #666;\n",
              "  }\n",
              "\n",
              "  .colab-df-quickchart {\n",
              "    background-color: var(--bg-color);\n",
              "    border: none;\n",
              "    border-radius: 50%;\n",
              "    cursor: pointer;\n",
              "    display: none;\n",
              "    fill: var(--fill-color);\n",
              "    height: 32px;\n",
              "    padding: 0;\n",
              "    width: 32px;\n",
              "  }\n",
              "\n",
              "  .colab-df-quickchart:hover {\n",
              "    background-color: var(--hover-bg-color);\n",
              "    box-shadow: 0 1px 2px rgba(60, 64, 67, 0.3), 0 1px 3px 1px rgba(60, 64, 67, 0.15);\n",
              "    fill: var(--button-hover-fill-color);\n",
              "  }\n",
              "\n",
              "  .colab-df-quickchart-complete:disabled,\n",
              "  .colab-df-quickchart-complete:disabled:hover {\n",
              "    background-color: var(--disabled-bg-color);\n",
              "    fill: var(--disabled-fill-color);\n",
              "    box-shadow: none;\n",
              "  }\n",
              "\n",
              "  .colab-df-spinner {\n",
              "    border: 2px solid var(--fill-color);\n",
              "    border-color: transparent;\n",
              "    border-bottom-color: var(--fill-color);\n",
              "    animation:\n",
              "      spin 1s steps(1) infinite;\n",
              "  }\n",
              "\n",
              "  @keyframes spin {\n",
              "    0% {\n",
              "      border-color: transparent;\n",
              "      border-bottom-color: var(--fill-color);\n",
              "      border-left-color: var(--fill-color);\n",
              "    }\n",
              "    20% {\n",
              "      border-color: transparent;\n",
              "      border-left-color: var(--fill-color);\n",
              "      border-top-color: var(--fill-color);\n",
              "    }\n",
              "    30% {\n",
              "      border-color: transparent;\n",
              "      border-left-color: var(--fill-color);\n",
              "      border-top-color: var(--fill-color);\n",
              "      border-right-color: var(--fill-color);\n",
              "    }\n",
              "    40% {\n",
              "      border-color: transparent;\n",
              "      border-right-color: var(--fill-color);\n",
              "      border-top-color: var(--fill-color);\n",
              "    }\n",
              "    60% {\n",
              "      border-color: transparent;\n",
              "      border-right-color: var(--fill-color);\n",
              "    }\n",
              "    80% {\n",
              "      border-color: transparent;\n",
              "      border-right-color: var(--fill-color);\n",
              "      border-bottom-color: var(--fill-color);\n",
              "    }\n",
              "    90% {\n",
              "      border-color: transparent;\n",
              "      border-bottom-color: var(--fill-color);\n",
              "    }\n",
              "  }\n",
              "</style>\n",
              "\n",
              "  <script>\n",
              "    async function quickchart(key) {\n",
              "      const quickchartButtonEl =\n",
              "        document.querySelector('#' + key + ' button');\n",
              "      quickchartButtonEl.disabled = true;  // To prevent multiple clicks.\n",
              "      quickchartButtonEl.classList.add('colab-df-spinner');\n",
              "      try {\n",
              "        const charts = await google.colab.kernel.invokeFunction(\n",
              "            'suggestCharts', [key], {});\n",
              "      } catch (error) {\n",
              "        console.error('Error during call to suggestCharts:', error);\n",
              "      }\n",
              "      quickchartButtonEl.classList.remove('colab-df-spinner');\n",
              "      quickchartButtonEl.classList.add('colab-df-quickchart-complete');\n",
              "    }\n",
              "    (() => {\n",
              "      let quickchartButtonEl =\n",
              "        document.querySelector('#df-798180c7-480c-489e-a146-f43b405585fb button');\n",
              "      quickchartButtonEl.style.display =\n",
              "        google.colab.kernel.accessAllowed ? 'block' : 'none';\n",
              "    })();\n",
              "  </script>\n",
              "</div>\n",
              "    </div>\n",
              "  </div>\n"
            ],
            "text/plain": [
              "     make    model   MSRP\n",
              "0    Ford   Taurus  27595\n",
              "1   Honda   Accord  23570\n",
              "2  Toyota    Camry  23495\n",
              "3   Tesla  Model S  68000"
            ]
          },
          "execution_count": 43,
          "metadata": {},
          "output_type": "execute_result"
        }
      ],
      "source": [
        "from pandas import DataFrame\n",
        "\n",
        "cars = {'make': ['Ford', 'Honda', 'Toyota', 'Tesla'],\n",
        "       'model': ['Taurus', 'Accord', 'Camry', 'Model S'],\n",
        "       'MSRP': [27595, 23570, 23495, 68000]}\n",
        "carData = DataFrame(cars)            # creating DataFrame from dictionary\n",
        "carData                              # display the table"
      ]
    },
    {
      "cell_type": "code",
      "execution_count": null,
      "metadata": {
        "colab": {
          "base_uri": "https://localhost:8080/"
        },
        "id": "7MHaOU4h8eFZ",
        "outputId": "d3f3bc5c-0665-4369-d03e-88c9c170e0e6"
      },
      "outputs": [
        {
          "name": "stdout",
          "output_type": "stream",
          "text": [
            "carData.index = RangeIndex(start=0, stop=4, step=1)\n",
            "carData.columns = Index(['make', 'model', 'MSRP'], dtype='object')\n"
          ]
        }
      ],
      "source": [
        "print('carData.index =', carData.index)         # print the row indices\n",
        "print('carData.columns =', carData.columns)     # print the column indices"
      ]
    },
    {
      "cell_type": "markdown",
      "metadata": {
        "id": "pQu6pJ1t8eFZ"
      },
      "source": [
        "Inserting columns to an existing dataframe"
      ]
    },
    {
      "cell_type": "code",
      "execution_count": null,
      "metadata": {
        "colab": {
          "base_uri": "https://localhost:8080/",
          "height": 174
        },
        "id": "JrNwrxOG8eFa",
        "outputId": "42d81c3b-c7f3-4c1c-ce9f-8106c63308e3"
      },
      "outputs": [
        {
          "data": {
            "text/html": [
              "\n",
              "  <div id=\"df-4048e337-36dc-4ce1-866e-ead368cff5a4\" class=\"colab-df-container\">\n",
              "    <div>\n",
              "<style scoped>\n",
              "    .dataframe tbody tr th:only-of-type {\n",
              "        vertical-align: middle;\n",
              "    }\n",
              "\n",
              "    .dataframe tbody tr th {\n",
              "        vertical-align: top;\n",
              "    }\n",
              "\n",
              "    .dataframe thead th {\n",
              "        text-align: right;\n",
              "    }\n",
              "</style>\n",
              "<table border=\"1\" class=\"dataframe\">\n",
              "  <thead>\n",
              "    <tr style=\"text-align: right;\">\n",
              "      <th></th>\n",
              "      <th>make</th>\n",
              "      <th>model</th>\n",
              "      <th>MSRP</th>\n",
              "      <th>year</th>\n",
              "      <th>dealership</th>\n",
              "    </tr>\n",
              "  </thead>\n",
              "  <tbody>\n",
              "    <tr>\n",
              "      <th>1</th>\n",
              "      <td>Ford</td>\n",
              "      <td>Taurus</td>\n",
              "      <td>27595</td>\n",
              "      <td>2018</td>\n",
              "      <td>Courtesy Ford</td>\n",
              "    </tr>\n",
              "    <tr>\n",
              "      <th>2</th>\n",
              "      <td>Honda</td>\n",
              "      <td>Accord</td>\n",
              "      <td>23570</td>\n",
              "      <td>2018</td>\n",
              "      <td>Capital Honda</td>\n",
              "    </tr>\n",
              "    <tr>\n",
              "      <th>3</th>\n",
              "      <td>Toyota</td>\n",
              "      <td>Camry</td>\n",
              "      <td>23495</td>\n",
              "      <td>2018</td>\n",
              "      <td>Spartan Toyota</td>\n",
              "    </tr>\n",
              "    <tr>\n",
              "      <th>4</th>\n",
              "      <td>Tesla</td>\n",
              "      <td>Model S</td>\n",
              "      <td>68000</td>\n",
              "      <td>2018</td>\n",
              "      <td>N/A</td>\n",
              "    </tr>\n",
              "  </tbody>\n",
              "</table>\n",
              "</div>\n",
              "    <div class=\"colab-df-buttons\">\n",
              "\n",
              "  <div class=\"colab-df-container\">\n",
              "    <button class=\"colab-df-convert\" onclick=\"convertToInteractive('df-4048e337-36dc-4ce1-866e-ead368cff5a4')\"\n",
              "            title=\"Convert this dataframe to an interactive table.\"\n",
              "            style=\"display:none;\">\n",
              "\n",
              "  <svg xmlns=\"http://www.w3.org/2000/svg\" height=\"24px\" viewBox=\"0 -960 960 960\">\n",
              "    <path d=\"M120-120v-720h720v720H120Zm60-500h600v-160H180v160Zm220 220h160v-160H400v160Zm0 220h160v-160H400v160ZM180-400h160v-160H180v160Zm440 0h160v-160H620v160ZM180-180h160v-160H180v160Zm440 0h160v-160H620v160Z\"/>\n",
              "  </svg>\n",
              "    </button>\n",
              "\n",
              "  <style>\n",
              "    .colab-df-container {\n",
              "      display:flex;\n",
              "      gap: 12px;\n",
              "    }\n",
              "\n",
              "    .colab-df-convert {\n",
              "      background-color: #E8F0FE;\n",
              "      border: none;\n",
              "      border-radius: 50%;\n",
              "      cursor: pointer;\n",
              "      display: none;\n",
              "      fill: #1967D2;\n",
              "      height: 32px;\n",
              "      padding: 0 0 0 0;\n",
              "      width: 32px;\n",
              "    }\n",
              "\n",
              "    .colab-df-convert:hover {\n",
              "      background-color: #E2EBFA;\n",
              "      box-shadow: 0px 1px 2px rgba(60, 64, 67, 0.3), 0px 1px 3px 1px rgba(60, 64, 67, 0.15);\n",
              "      fill: #174EA6;\n",
              "    }\n",
              "\n",
              "    .colab-df-buttons div {\n",
              "      margin-bottom: 4px;\n",
              "    }\n",
              "\n",
              "    [theme=dark] .colab-df-convert {\n",
              "      background-color: #3B4455;\n",
              "      fill: #D2E3FC;\n",
              "    }\n",
              "\n",
              "    [theme=dark] .colab-df-convert:hover {\n",
              "      background-color: #434B5C;\n",
              "      box-shadow: 0px 1px 3px 1px rgba(0, 0, 0, 0.15);\n",
              "      filter: drop-shadow(0px 1px 2px rgba(0, 0, 0, 0.3));\n",
              "      fill: #FFFFFF;\n",
              "    }\n",
              "  </style>\n",
              "\n",
              "    <script>\n",
              "      const buttonEl =\n",
              "        document.querySelector('#df-4048e337-36dc-4ce1-866e-ead368cff5a4 button.colab-df-convert');\n",
              "      buttonEl.style.display =\n",
              "        google.colab.kernel.accessAllowed ? 'block' : 'none';\n",
              "\n",
              "      async function convertToInteractive(key) {\n",
              "        const element = document.querySelector('#df-4048e337-36dc-4ce1-866e-ead368cff5a4');\n",
              "        const dataTable =\n",
              "          await google.colab.kernel.invokeFunction('convertToInteractive',\n",
              "                                                    [key], {});\n",
              "        if (!dataTable) return;\n",
              "\n",
              "        const docLinkHtml = 'Like what you see? Visit the ' +\n",
              "          '<a target=\"_blank\" href=https://colab.research.google.com/notebooks/data_table.ipynb>data table notebook</a>'\n",
              "          + ' to learn more about interactive tables.';\n",
              "        element.innerHTML = '';\n",
              "        dataTable['output_type'] = 'display_data';\n",
              "        await google.colab.output.renderOutput(dataTable, element);\n",
              "        const docLink = document.createElement('div');\n",
              "        docLink.innerHTML = docLinkHtml;\n",
              "        element.appendChild(docLink);\n",
              "      }\n",
              "    </script>\n",
              "  </div>\n",
              "\n",
              "\n",
              "<div id=\"df-7ab6bffc-fb2e-4f0b-8ae1-521706f04551\">\n",
              "  <button class=\"colab-df-quickchart\" onclick=\"quickchart('df-7ab6bffc-fb2e-4f0b-8ae1-521706f04551')\"\n",
              "            title=\"Suggest charts\"\n",
              "            style=\"display:none;\">\n",
              "\n",
              "<svg xmlns=\"http://www.w3.org/2000/svg\" height=\"24px\"viewBox=\"0 0 24 24\"\n",
              "     width=\"24px\">\n",
              "    <g>\n",
              "        <path d=\"M19 3H5c-1.1 0-2 .9-2 2v14c0 1.1.9 2 2 2h14c1.1 0 2-.9 2-2V5c0-1.1-.9-2-2-2zM9 17H7v-7h2v7zm4 0h-2V7h2v10zm4 0h-2v-4h2v4z\"/>\n",
              "    </g>\n",
              "</svg>\n",
              "  </button>\n",
              "\n",
              "<style>\n",
              "  .colab-df-quickchart {\n",
              "      --bg-color: #E8F0FE;\n",
              "      --fill-color: #1967D2;\n",
              "      --hover-bg-color: #E2EBFA;\n",
              "      --hover-fill-color: #174EA6;\n",
              "      --disabled-fill-color: #AAA;\n",
              "      --disabled-bg-color: #DDD;\n",
              "  }\n",
              "\n",
              "  [theme=dark] .colab-df-quickchart {\n",
              "      --bg-color: #3B4455;\n",
              "      --fill-color: #D2E3FC;\n",
              "      --hover-bg-color: #434B5C;\n",
              "      --hover-fill-color: #FFFFFF;\n",
              "      --disabled-bg-color: #3B4455;\n",
              "      --disabled-fill-color: #666;\n",
              "  }\n",
              "\n",
              "  .colab-df-quickchart {\n",
              "    background-color: var(--bg-color);\n",
              "    border: none;\n",
              "    border-radius: 50%;\n",
              "    cursor: pointer;\n",
              "    display: none;\n",
              "    fill: var(--fill-color);\n",
              "    height: 32px;\n",
              "    padding: 0;\n",
              "    width: 32px;\n",
              "  }\n",
              "\n",
              "  .colab-df-quickchart:hover {\n",
              "    background-color: var(--hover-bg-color);\n",
              "    box-shadow: 0 1px 2px rgba(60, 64, 67, 0.3), 0 1px 3px 1px rgba(60, 64, 67, 0.15);\n",
              "    fill: var(--button-hover-fill-color);\n",
              "  }\n",
              "\n",
              "  .colab-df-quickchart-complete:disabled,\n",
              "  .colab-df-quickchart-complete:disabled:hover {\n",
              "    background-color: var(--disabled-bg-color);\n",
              "    fill: var(--disabled-fill-color);\n",
              "    box-shadow: none;\n",
              "  }\n",
              "\n",
              "  .colab-df-spinner {\n",
              "    border: 2px solid var(--fill-color);\n",
              "    border-color: transparent;\n",
              "    border-bottom-color: var(--fill-color);\n",
              "    animation:\n",
              "      spin 1s steps(1) infinite;\n",
              "  }\n",
              "\n",
              "  @keyframes spin {\n",
              "    0% {\n",
              "      border-color: transparent;\n",
              "      border-bottom-color: var(--fill-color);\n",
              "      border-left-color: var(--fill-color);\n",
              "    }\n",
              "    20% {\n",
              "      border-color: transparent;\n",
              "      border-left-color: var(--fill-color);\n",
              "      border-top-color: var(--fill-color);\n",
              "    }\n",
              "    30% {\n",
              "      border-color: transparent;\n",
              "      border-left-color: var(--fill-color);\n",
              "      border-top-color: var(--fill-color);\n",
              "      border-right-color: var(--fill-color);\n",
              "    }\n",
              "    40% {\n",
              "      border-color: transparent;\n",
              "      border-right-color: var(--fill-color);\n",
              "      border-top-color: var(--fill-color);\n",
              "    }\n",
              "    60% {\n",
              "      border-color: transparent;\n",
              "      border-right-color: var(--fill-color);\n",
              "    }\n",
              "    80% {\n",
              "      border-color: transparent;\n",
              "      border-right-color: var(--fill-color);\n",
              "      border-bottom-color: var(--fill-color);\n",
              "    }\n",
              "    90% {\n",
              "      border-color: transparent;\n",
              "      border-bottom-color: var(--fill-color);\n",
              "    }\n",
              "  }\n",
              "</style>\n",
              "\n",
              "  <script>\n",
              "    async function quickchart(key) {\n",
              "      const quickchartButtonEl =\n",
              "        document.querySelector('#' + key + ' button');\n",
              "      quickchartButtonEl.disabled = true;  // To prevent multiple clicks.\n",
              "      quickchartButtonEl.classList.add('colab-df-spinner');\n",
              "      try {\n",
              "        const charts = await google.colab.kernel.invokeFunction(\n",
              "            'suggestCharts', [key], {});\n",
              "      } catch (error) {\n",
              "        console.error('Error during call to suggestCharts:', error);\n",
              "      }\n",
              "      quickchartButtonEl.classList.remove('colab-df-spinner');\n",
              "      quickchartButtonEl.classList.add('colab-df-quickchart-complete');\n",
              "    }\n",
              "    (() => {\n",
              "      let quickchartButtonEl =\n",
              "        document.querySelector('#df-7ab6bffc-fb2e-4f0b-8ae1-521706f04551 button');\n",
              "      quickchartButtonEl.style.display =\n",
              "        google.colab.kernel.accessAllowed ? 'block' : 'none';\n",
              "    })();\n",
              "  </script>\n",
              "</div>\n",
              "    </div>\n",
              "  </div>\n"
            ],
            "text/plain": [
              "     make    model   MSRP  year      dealership\n",
              "1    Ford   Taurus  27595  2018   Courtesy Ford\n",
              "2   Honda   Accord  23570  2018   Capital Honda\n",
              "3  Toyota    Camry  23495  2018  Spartan Toyota\n",
              "4   Tesla  Model S  68000  2018             N/A"
            ]
          },
          "execution_count": 45,
          "metadata": {},
          "output_type": "execute_result"
        }
      ],
      "source": [
        "carData2 = DataFrame(cars, index = [1,2,3,4])  # change the row index\n",
        "carData2['year'] = 2018    # add column with same value\n",
        "carData2['dealership'] = ['Courtesy Ford','Capital Honda','Spartan Toyota','N/A']\n",
        "carData2                   # display table"
      ]
    },
    {
      "cell_type": "markdown",
      "metadata": {
        "id": "fHHYnaOV8eFa"
      },
      "source": [
        "Creating DataFrame from a list of tuples."
      ]
    },
    {
      "cell_type": "code",
      "execution_count": null,
      "metadata": {
        "colab": {
          "base_uri": "https://localhost:8080/",
          "height": 237
        },
        "id": "WTQbXh__8eFa",
        "outputId": "fa3f2339-0ad3-4926-bb02-62698bfb69b3"
      },
      "outputs": [
        {
          "data": {
            "text/html": [
              "\n",
              "  <div id=\"df-4eb77693-935e-4d1b-9d81-dda614411ccd\" class=\"colab-df-container\">\n",
              "    <div>\n",
              "<style scoped>\n",
              "    .dataframe tbody tr th:only-of-type {\n",
              "        vertical-align: middle;\n",
              "    }\n",
              "\n",
              "    .dataframe tbody tr th {\n",
              "        vertical-align: top;\n",
              "    }\n",
              "\n",
              "    .dataframe thead th {\n",
              "        text-align: right;\n",
              "    }\n",
              "</style>\n",
              "<table border=\"1\" class=\"dataframe\">\n",
              "  <thead>\n",
              "    <tr style=\"text-align: right;\">\n",
              "      <th></th>\n",
              "      <th>year</th>\n",
              "      <th>temp</th>\n",
              "      <th>precip</th>\n",
              "    </tr>\n",
              "  </thead>\n",
              "  <tbody>\n",
              "    <tr>\n",
              "      <th>0</th>\n",
              "      <td>2011</td>\n",
              "      <td>45.1</td>\n",
              "      <td>32.4</td>\n",
              "    </tr>\n",
              "    <tr>\n",
              "      <th>1</th>\n",
              "      <td>2012</td>\n",
              "      <td>42.4</td>\n",
              "      <td>34.5</td>\n",
              "    </tr>\n",
              "    <tr>\n",
              "      <th>2</th>\n",
              "      <td>2013</td>\n",
              "      <td>47.2</td>\n",
              "      <td>39.2</td>\n",
              "    </tr>\n",
              "    <tr>\n",
              "      <th>3</th>\n",
              "      <td>2014</td>\n",
              "      <td>44.2</td>\n",
              "      <td>31.4</td>\n",
              "    </tr>\n",
              "    <tr>\n",
              "      <th>4</th>\n",
              "      <td>2015</td>\n",
              "      <td>39.9</td>\n",
              "      <td>29.8</td>\n",
              "    </tr>\n",
              "    <tr>\n",
              "      <th>5</th>\n",
              "      <td>2016</td>\n",
              "      <td>41.5</td>\n",
              "      <td>36.7</td>\n",
              "    </tr>\n",
              "  </tbody>\n",
              "</table>\n",
              "</div>\n",
              "    <div class=\"colab-df-buttons\">\n",
              "\n",
              "  <div class=\"colab-df-container\">\n",
              "    <button class=\"colab-df-convert\" onclick=\"convertToInteractive('df-4eb77693-935e-4d1b-9d81-dda614411ccd')\"\n",
              "            title=\"Convert this dataframe to an interactive table.\"\n",
              "            style=\"display:none;\">\n",
              "\n",
              "  <svg xmlns=\"http://www.w3.org/2000/svg\" height=\"24px\" viewBox=\"0 -960 960 960\">\n",
              "    <path d=\"M120-120v-720h720v720H120Zm60-500h600v-160H180v160Zm220 220h160v-160H400v160Zm0 220h160v-160H400v160ZM180-400h160v-160H180v160Zm440 0h160v-160H620v160ZM180-180h160v-160H180v160Zm440 0h160v-160H620v160Z\"/>\n",
              "  </svg>\n",
              "    </button>\n",
              "\n",
              "  <style>\n",
              "    .colab-df-container {\n",
              "      display:flex;\n",
              "      gap: 12px;\n",
              "    }\n",
              "\n",
              "    .colab-df-convert {\n",
              "      background-color: #E8F0FE;\n",
              "      border: none;\n",
              "      border-radius: 50%;\n",
              "      cursor: pointer;\n",
              "      display: none;\n",
              "      fill: #1967D2;\n",
              "      height: 32px;\n",
              "      padding: 0 0 0 0;\n",
              "      width: 32px;\n",
              "    }\n",
              "\n",
              "    .colab-df-convert:hover {\n",
              "      background-color: #E2EBFA;\n",
              "      box-shadow: 0px 1px 2px rgba(60, 64, 67, 0.3), 0px 1px 3px 1px rgba(60, 64, 67, 0.15);\n",
              "      fill: #174EA6;\n",
              "    }\n",
              "\n",
              "    .colab-df-buttons div {\n",
              "      margin-bottom: 4px;\n",
              "    }\n",
              "\n",
              "    [theme=dark] .colab-df-convert {\n",
              "      background-color: #3B4455;\n",
              "      fill: #D2E3FC;\n",
              "    }\n",
              "\n",
              "    [theme=dark] .colab-df-convert:hover {\n",
              "      background-color: #434B5C;\n",
              "      box-shadow: 0px 1px 3px 1px rgba(0, 0, 0, 0.15);\n",
              "      filter: drop-shadow(0px 1px 2px rgba(0, 0, 0, 0.3));\n",
              "      fill: #FFFFFF;\n",
              "    }\n",
              "  </style>\n",
              "\n",
              "    <script>\n",
              "      const buttonEl =\n",
              "        document.querySelector('#df-4eb77693-935e-4d1b-9d81-dda614411ccd button.colab-df-convert');\n",
              "      buttonEl.style.display =\n",
              "        google.colab.kernel.accessAllowed ? 'block' : 'none';\n",
              "\n",
              "      async function convertToInteractive(key) {\n",
              "        const element = document.querySelector('#df-4eb77693-935e-4d1b-9d81-dda614411ccd');\n",
              "        const dataTable =\n",
              "          await google.colab.kernel.invokeFunction('convertToInteractive',\n",
              "                                                    [key], {});\n",
              "        if (!dataTable) return;\n",
              "\n",
              "        const docLinkHtml = 'Like what you see? Visit the ' +\n",
              "          '<a target=\"_blank\" href=https://colab.research.google.com/notebooks/data_table.ipynb>data table notebook</a>'\n",
              "          + ' to learn more about interactive tables.';\n",
              "        element.innerHTML = '';\n",
              "        dataTable['output_type'] = 'display_data';\n",
              "        await google.colab.output.renderOutput(dataTable, element);\n",
              "        const docLink = document.createElement('div');\n",
              "        docLink.innerHTML = docLinkHtml;\n",
              "        element.appendChild(docLink);\n",
              "      }\n",
              "    </script>\n",
              "  </div>\n",
              "\n",
              "\n",
              "<div id=\"df-8cadade6-7d07-4047-acc2-65e4a05590ef\">\n",
              "  <button class=\"colab-df-quickchart\" onclick=\"quickchart('df-8cadade6-7d07-4047-acc2-65e4a05590ef')\"\n",
              "            title=\"Suggest charts\"\n",
              "            style=\"display:none;\">\n",
              "\n",
              "<svg xmlns=\"http://www.w3.org/2000/svg\" height=\"24px\"viewBox=\"0 0 24 24\"\n",
              "     width=\"24px\">\n",
              "    <g>\n",
              "        <path d=\"M19 3H5c-1.1 0-2 .9-2 2v14c0 1.1.9 2 2 2h14c1.1 0 2-.9 2-2V5c0-1.1-.9-2-2-2zM9 17H7v-7h2v7zm4 0h-2V7h2v10zm4 0h-2v-4h2v4z\"/>\n",
              "    </g>\n",
              "</svg>\n",
              "  </button>\n",
              "\n",
              "<style>\n",
              "  .colab-df-quickchart {\n",
              "      --bg-color: #E8F0FE;\n",
              "      --fill-color: #1967D2;\n",
              "      --hover-bg-color: #E2EBFA;\n",
              "      --hover-fill-color: #174EA6;\n",
              "      --disabled-fill-color: #AAA;\n",
              "      --disabled-bg-color: #DDD;\n",
              "  }\n",
              "\n",
              "  [theme=dark] .colab-df-quickchart {\n",
              "      --bg-color: #3B4455;\n",
              "      --fill-color: #D2E3FC;\n",
              "      --hover-bg-color: #434B5C;\n",
              "      --hover-fill-color: #FFFFFF;\n",
              "      --disabled-bg-color: #3B4455;\n",
              "      --disabled-fill-color: #666;\n",
              "  }\n",
              "\n",
              "  .colab-df-quickchart {\n",
              "    background-color: var(--bg-color);\n",
              "    border: none;\n",
              "    border-radius: 50%;\n",
              "    cursor: pointer;\n",
              "    display: none;\n",
              "    fill: var(--fill-color);\n",
              "    height: 32px;\n",
              "    padding: 0;\n",
              "    width: 32px;\n",
              "  }\n",
              "\n",
              "  .colab-df-quickchart:hover {\n",
              "    background-color: var(--hover-bg-color);\n",
              "    box-shadow: 0 1px 2px rgba(60, 64, 67, 0.3), 0 1px 3px 1px rgba(60, 64, 67, 0.15);\n",
              "    fill: var(--button-hover-fill-color);\n",
              "  }\n",
              "\n",
              "  .colab-df-quickchart-complete:disabled,\n",
              "  .colab-df-quickchart-complete:disabled:hover {\n",
              "    background-color: var(--disabled-bg-color);\n",
              "    fill: var(--disabled-fill-color);\n",
              "    box-shadow: none;\n",
              "  }\n",
              "\n",
              "  .colab-df-spinner {\n",
              "    border: 2px solid var(--fill-color);\n",
              "    border-color: transparent;\n",
              "    border-bottom-color: var(--fill-color);\n",
              "    animation:\n",
              "      spin 1s steps(1) infinite;\n",
              "  }\n",
              "\n",
              "  @keyframes spin {\n",
              "    0% {\n",
              "      border-color: transparent;\n",
              "      border-bottom-color: var(--fill-color);\n",
              "      border-left-color: var(--fill-color);\n",
              "    }\n",
              "    20% {\n",
              "      border-color: transparent;\n",
              "      border-left-color: var(--fill-color);\n",
              "      border-top-color: var(--fill-color);\n",
              "    }\n",
              "    30% {\n",
              "      border-color: transparent;\n",
              "      border-left-color: var(--fill-color);\n",
              "      border-top-color: var(--fill-color);\n",
              "      border-right-color: var(--fill-color);\n",
              "    }\n",
              "    40% {\n",
              "      border-color: transparent;\n",
              "      border-right-color: var(--fill-color);\n",
              "      border-top-color: var(--fill-color);\n",
              "    }\n",
              "    60% {\n",
              "      border-color: transparent;\n",
              "      border-right-color: var(--fill-color);\n",
              "    }\n",
              "    80% {\n",
              "      border-color: transparent;\n",
              "      border-right-color: var(--fill-color);\n",
              "      border-bottom-color: var(--fill-color);\n",
              "    }\n",
              "    90% {\n",
              "      border-color: transparent;\n",
              "      border-bottom-color: var(--fill-color);\n",
              "    }\n",
              "  }\n",
              "</style>\n",
              "\n",
              "  <script>\n",
              "    async function quickchart(key) {\n",
              "      const quickchartButtonEl =\n",
              "        document.querySelector('#' + key + ' button');\n",
              "      quickchartButtonEl.disabled = true;  // To prevent multiple clicks.\n",
              "      quickchartButtonEl.classList.add('colab-df-spinner');\n",
              "      try {\n",
              "        const charts = await google.colab.kernel.invokeFunction(\n",
              "            'suggestCharts', [key], {});\n",
              "      } catch (error) {\n",
              "        console.error('Error during call to suggestCharts:', error);\n",
              "      }\n",
              "      quickchartButtonEl.classList.remove('colab-df-spinner');\n",
              "      quickchartButtonEl.classList.add('colab-df-quickchart-complete');\n",
              "    }\n",
              "    (() => {\n",
              "      let quickchartButtonEl =\n",
              "        document.querySelector('#df-8cadade6-7d07-4047-acc2-65e4a05590ef button');\n",
              "      quickchartButtonEl.style.display =\n",
              "        google.colab.kernel.accessAllowed ? 'block' : 'none';\n",
              "    })();\n",
              "  </script>\n",
              "</div>\n",
              "    </div>\n",
              "  </div>\n"
            ],
            "text/plain": [
              "   year  temp  precip\n",
              "0  2011  45.1    32.4\n",
              "1  2012  42.4    34.5\n",
              "2  2013  47.2    39.2\n",
              "3  2014  44.2    31.4\n",
              "4  2015  39.9    29.8\n",
              "5  2016  41.5    36.7"
            ]
          },
          "execution_count": 46,
          "metadata": {},
          "output_type": "execute_result"
        }
      ],
      "source": [
        "tuplelist = [(2011,45.1,32.4),(2012,42.4,34.5),(2013,47.2,39.2),\n",
        "              (2014,44.2,31.4),(2015,39.9,29.8),(2016,41.5,36.7)]\n",
        "columnNames = ['year','temp','precip']\n",
        "weatherData = DataFrame(tuplelist, columns=columnNames)\n",
        "weatherData"
      ]
    },
    {
      "cell_type": "markdown",
      "metadata": {
        "id": "bofDdBCV8eFa"
      },
      "source": [
        "Creating DataFrame from numpy ndarray"
      ]
    },
    {
      "cell_type": "code",
      "execution_count": null,
      "metadata": {
        "colab": {
          "base_uri": "https://localhost:8080/",
          "height": 206
        },
        "id": "knqwXGk_8eFa",
        "outputId": "d3d5dc7d-5ea4-4b09-aa7e-7c0a4048b2b3"
      },
      "outputs": [
        {
          "data": {
            "text/html": [
              "\n",
              "  <div id=\"df-7e91a989-e8d7-4d44-a804-dab870ffe732\" class=\"colab-df-container\">\n",
              "    <div>\n",
              "<style scoped>\n",
              "    .dataframe tbody tr th:only-of-type {\n",
              "        vertical-align: middle;\n",
              "    }\n",
              "\n",
              "    .dataframe tbody tr th {\n",
              "        vertical-align: top;\n",
              "    }\n",
              "\n",
              "    .dataframe thead th {\n",
              "        text-align: right;\n",
              "    }\n",
              "</style>\n",
              "<table border=\"1\" class=\"dataframe\">\n",
              "  <thead>\n",
              "    <tr style=\"text-align: right;\">\n",
              "      <th></th>\n",
              "      <th>x1</th>\n",
              "      <th>x2</th>\n",
              "      <th>x3</th>\n",
              "    </tr>\n",
              "  </thead>\n",
              "  <tbody>\n",
              "    <tr>\n",
              "      <th>0</th>\n",
              "      <td>0.552245</td>\n",
              "      <td>-0.751462</td>\n",
              "      <td>0.223288</td>\n",
              "    </tr>\n",
              "    <tr>\n",
              "      <th>1</th>\n",
              "      <td>-0.846710</td>\n",
              "      <td>0.781637</td>\n",
              "      <td>0.120385</td>\n",
              "    </tr>\n",
              "    <tr>\n",
              "      <th>2</th>\n",
              "      <td>0.702817</td>\n",
              "      <td>0.349021</td>\n",
              "      <td>0.375604</td>\n",
              "    </tr>\n",
              "    <tr>\n",
              "      <th>3</th>\n",
              "      <td>-0.650783</td>\n",
              "      <td>1.575654</td>\n",
              "      <td>0.006226</td>\n",
              "    </tr>\n",
              "    <tr>\n",
              "      <th>4</th>\n",
              "      <td>2.059090</td>\n",
              "      <td>-0.578918</td>\n",
              "      <td>-0.162925</td>\n",
              "    </tr>\n",
              "  </tbody>\n",
              "</table>\n",
              "</div>\n",
              "    <div class=\"colab-df-buttons\">\n",
              "\n",
              "  <div class=\"colab-df-container\">\n",
              "    <button class=\"colab-df-convert\" onclick=\"convertToInteractive('df-7e91a989-e8d7-4d44-a804-dab870ffe732')\"\n",
              "            title=\"Convert this dataframe to an interactive table.\"\n",
              "            style=\"display:none;\">\n",
              "\n",
              "  <svg xmlns=\"http://www.w3.org/2000/svg\" height=\"24px\" viewBox=\"0 -960 960 960\">\n",
              "    <path d=\"M120-120v-720h720v720H120Zm60-500h600v-160H180v160Zm220 220h160v-160H400v160Zm0 220h160v-160H400v160ZM180-400h160v-160H180v160Zm440 0h160v-160H620v160ZM180-180h160v-160H180v160Zm440 0h160v-160H620v160Z\"/>\n",
              "  </svg>\n",
              "    </button>\n",
              "\n",
              "  <style>\n",
              "    .colab-df-container {\n",
              "      display:flex;\n",
              "      gap: 12px;\n",
              "    }\n",
              "\n",
              "    .colab-df-convert {\n",
              "      background-color: #E8F0FE;\n",
              "      border: none;\n",
              "      border-radius: 50%;\n",
              "      cursor: pointer;\n",
              "      display: none;\n",
              "      fill: #1967D2;\n",
              "      height: 32px;\n",
              "      padding: 0 0 0 0;\n",
              "      width: 32px;\n",
              "    }\n",
              "\n",
              "    .colab-df-convert:hover {\n",
              "      background-color: #E2EBFA;\n",
              "      box-shadow: 0px 1px 2px rgba(60, 64, 67, 0.3), 0px 1px 3px 1px rgba(60, 64, 67, 0.15);\n",
              "      fill: #174EA6;\n",
              "    }\n",
              "\n",
              "    .colab-df-buttons div {\n",
              "      margin-bottom: 4px;\n",
              "    }\n",
              "\n",
              "    [theme=dark] .colab-df-convert {\n",
              "      background-color: #3B4455;\n",
              "      fill: #D2E3FC;\n",
              "    }\n",
              "\n",
              "    [theme=dark] .colab-df-convert:hover {\n",
              "      background-color: #434B5C;\n",
              "      box-shadow: 0px 1px 3px 1px rgba(0, 0, 0, 0.15);\n",
              "      filter: drop-shadow(0px 1px 2px rgba(0, 0, 0, 0.3));\n",
              "      fill: #FFFFFF;\n",
              "    }\n",
              "  </style>\n",
              "\n",
              "    <script>\n",
              "      const buttonEl =\n",
              "        document.querySelector('#df-7e91a989-e8d7-4d44-a804-dab870ffe732 button.colab-df-convert');\n",
              "      buttonEl.style.display =\n",
              "        google.colab.kernel.accessAllowed ? 'block' : 'none';\n",
              "\n",
              "      async function convertToInteractive(key) {\n",
              "        const element = document.querySelector('#df-7e91a989-e8d7-4d44-a804-dab870ffe732');\n",
              "        const dataTable =\n",
              "          await google.colab.kernel.invokeFunction('convertToInteractive',\n",
              "                                                    [key], {});\n",
              "        if (!dataTable) return;\n",
              "\n",
              "        const docLinkHtml = 'Like what you see? Visit the ' +\n",
              "          '<a target=\"_blank\" href=https://colab.research.google.com/notebooks/data_table.ipynb>data table notebook</a>'\n",
              "          + ' to learn more about interactive tables.';\n",
              "        element.innerHTML = '';\n",
              "        dataTable['output_type'] = 'display_data';\n",
              "        await google.colab.output.renderOutput(dataTable, element);\n",
              "        const docLink = document.createElement('div');\n",
              "        docLink.innerHTML = docLinkHtml;\n",
              "        element.appendChild(docLink);\n",
              "      }\n",
              "    </script>\n",
              "  </div>\n",
              "\n",
              "\n",
              "<div id=\"df-5b218530-7271-4532-9163-39f58eec97c5\">\n",
              "  <button class=\"colab-df-quickchart\" onclick=\"quickchart('df-5b218530-7271-4532-9163-39f58eec97c5')\"\n",
              "            title=\"Suggest charts\"\n",
              "            style=\"display:none;\">\n",
              "\n",
              "<svg xmlns=\"http://www.w3.org/2000/svg\" height=\"24px\"viewBox=\"0 0 24 24\"\n",
              "     width=\"24px\">\n",
              "    <g>\n",
              "        <path d=\"M19 3H5c-1.1 0-2 .9-2 2v14c0 1.1.9 2 2 2h14c1.1 0 2-.9 2-2V5c0-1.1-.9-2-2-2zM9 17H7v-7h2v7zm4 0h-2V7h2v10zm4 0h-2v-4h2v4z\"/>\n",
              "    </g>\n",
              "</svg>\n",
              "  </button>\n",
              "\n",
              "<style>\n",
              "  .colab-df-quickchart {\n",
              "      --bg-color: #E8F0FE;\n",
              "      --fill-color: #1967D2;\n",
              "      --hover-bg-color: #E2EBFA;\n",
              "      --hover-fill-color: #174EA6;\n",
              "      --disabled-fill-color: #AAA;\n",
              "      --disabled-bg-color: #DDD;\n",
              "  }\n",
              "\n",
              "  [theme=dark] .colab-df-quickchart {\n",
              "      --bg-color: #3B4455;\n",
              "      --fill-color: #D2E3FC;\n",
              "      --hover-bg-color: #434B5C;\n",
              "      --hover-fill-color: #FFFFFF;\n",
              "      --disabled-bg-color: #3B4455;\n",
              "      --disabled-fill-color: #666;\n",
              "  }\n",
              "\n",
              "  .colab-df-quickchart {\n",
              "    background-color: var(--bg-color);\n",
              "    border: none;\n",
              "    border-radius: 50%;\n",
              "    cursor: pointer;\n",
              "    display: none;\n",
              "    fill: var(--fill-color);\n",
              "    height: 32px;\n",
              "    padding: 0;\n",
              "    width: 32px;\n",
              "  }\n",
              "\n",
              "  .colab-df-quickchart:hover {\n",
              "    background-color: var(--hover-bg-color);\n",
              "    box-shadow: 0 1px 2px rgba(60, 64, 67, 0.3), 0 1px 3px 1px rgba(60, 64, 67, 0.15);\n",
              "    fill: var(--button-hover-fill-color);\n",
              "  }\n",
              "\n",
              "  .colab-df-quickchart-complete:disabled,\n",
              "  .colab-df-quickchart-complete:disabled:hover {\n",
              "    background-color: var(--disabled-bg-color);\n",
              "    fill: var(--disabled-fill-color);\n",
              "    box-shadow: none;\n",
              "  }\n",
              "\n",
              "  .colab-df-spinner {\n",
              "    border: 2px solid var(--fill-color);\n",
              "    border-color: transparent;\n",
              "    border-bottom-color: var(--fill-color);\n",
              "    animation:\n",
              "      spin 1s steps(1) infinite;\n",
              "  }\n",
              "\n",
              "  @keyframes spin {\n",
              "    0% {\n",
              "      border-color: transparent;\n",
              "      border-bottom-color: var(--fill-color);\n",
              "      border-left-color: var(--fill-color);\n",
              "    }\n",
              "    20% {\n",
              "      border-color: transparent;\n",
              "      border-left-color: var(--fill-color);\n",
              "      border-top-color: var(--fill-color);\n",
              "    }\n",
              "    30% {\n",
              "      border-color: transparent;\n",
              "      border-left-color: var(--fill-color);\n",
              "      border-top-color: var(--fill-color);\n",
              "      border-right-color: var(--fill-color);\n",
              "    }\n",
              "    40% {\n",
              "      border-color: transparent;\n",
              "      border-right-color: var(--fill-color);\n",
              "      border-top-color: var(--fill-color);\n",
              "    }\n",
              "    60% {\n",
              "      border-color: transparent;\n",
              "      border-right-color: var(--fill-color);\n",
              "    }\n",
              "    80% {\n",
              "      border-color: transparent;\n",
              "      border-right-color: var(--fill-color);\n",
              "      border-bottom-color: var(--fill-color);\n",
              "    }\n",
              "    90% {\n",
              "      border-color: transparent;\n",
              "      border-bottom-color: var(--fill-color);\n",
              "    }\n",
              "  }\n",
              "</style>\n",
              "\n",
              "  <script>\n",
              "    async function quickchart(key) {\n",
              "      const quickchartButtonEl =\n",
              "        document.querySelector('#' + key + ' button');\n",
              "      quickchartButtonEl.disabled = true;  // To prevent multiple clicks.\n",
              "      quickchartButtonEl.classList.add('colab-df-spinner');\n",
              "      try {\n",
              "        const charts = await google.colab.kernel.invokeFunction(\n",
              "            'suggestCharts', [key], {});\n",
              "      } catch (error) {\n",
              "        console.error('Error during call to suggestCharts:', error);\n",
              "      }\n",
              "      quickchartButtonEl.classList.remove('colab-df-spinner');\n",
              "      quickchartButtonEl.classList.add('colab-df-quickchart-complete');\n",
              "    }\n",
              "    (() => {\n",
              "      let quickchartButtonEl =\n",
              "        document.querySelector('#df-5b218530-7271-4532-9163-39f58eec97c5 button');\n",
              "      quickchartButtonEl.style.display =\n",
              "        google.colab.kernel.accessAllowed ? 'block' : 'none';\n",
              "    })();\n",
              "  </script>\n",
              "</div>\n",
              "    </div>\n",
              "  </div>\n"
            ],
            "text/plain": [
              "         x1        x2        x3\n",
              "0  0.552245 -0.751462  0.223288\n",
              "1 -0.846710  0.781637  0.120385\n",
              "2  0.702817  0.349021  0.375604\n",
              "3 -0.650783  1.575654  0.006226\n",
              "4  2.059090 -0.578918 -0.162925"
            ]
          },
          "execution_count": 47,
          "metadata": {},
          "output_type": "execute_result"
        }
      ],
      "source": [
        "import numpy as np\n",
        "\n",
        "npdata = np.random.randn(5,3)  # create a 5 by 3 random matrix\n",
        "columnNames = ['x1','x2','x3']\n",
        "data = DataFrame(npdata, columns=columnNames)\n",
        "data"
      ]
    },
    {
      "cell_type": "markdown",
      "metadata": {
        "id": "McY-K1-U8eFa"
      },
      "source": [
        "There are many ways to access elements of a DataFrame object."
      ]
    },
    {
      "cell_type": "code",
      "execution_count": null,
      "metadata": {
        "colab": {
          "base_uri": "https://localhost:8080/"
        },
        "id": "YTA5pUuu8eFa",
        "outputId": "c52490f1-be87-4f5f-f643-7b3b4f761f46"
      },
      "outputs": [
        {
          "name": "stdout",
          "output_type": "stream",
          "text": [
            "0   -0.751462\n",
            "1    0.781637\n",
            "2    0.349021\n",
            "3    1.575654\n",
            "4   -0.578918\n",
            "Name: x2, dtype: float64\n",
            "<class 'pandas.core.series.Series'>\n"
          ]
        }
      ],
      "source": [
        "# accessing an entire column will return a Series object\n",
        "\n",
        "print(data['x2'])\n",
        "print(type(data['x2']))"
      ]
    },
    {
      "cell_type": "code",
      "execution_count": null,
      "metadata": {
        "colab": {
          "base_uri": "https://localhost:8080/"
        },
        "id": "t1S0cCCh8eFa",
        "outputId": "05ecb32d-44b2-4a1c-9396-555e7798a1bc"
      },
      "outputs": [
        {
          "name": "stdout",
          "output_type": "stream",
          "text": [
            "Row 3 of data table:\n",
            "x1    0.702817\n",
            "x2    0.349021\n",
            "x3    0.375604\n",
            "Name: 2, dtype: float64\n",
            "<class 'pandas.core.series.Series'>\n",
            "\n",
            "Row 3 of car data table:\n",
            "make                  Toyota\n",
            "model                  Camry\n",
            "MSRP                   23495\n",
            "year                    2018\n",
            "dealership    Spartan Toyota\n",
            "Name: 3, dtype: object\n"
          ]
        }
      ],
      "source": [
        "# accessing an entire row will return a Series object\n",
        "\n",
        "print('Row 3 of data table:')\n",
        "print(data.iloc[2])       # returns the 3rd row of DataFrame\n",
        "print(type(data.iloc[2]))\n",
        "\n",
        "print('\\nRow 3 of car data table:')\n",
        "print(carData2.iloc[2])   # row contains objects of different types"
      ]
    },
    {
      "cell_type": "code",
      "execution_count": null,
      "metadata": {
        "colab": {
          "base_uri": "https://localhost:8080/"
        },
        "id": "h4M9KlcQ8eFb",
        "outputId": "1a77097a-67e6-4b7b-d69d-f79addbfe1c5"
      },
      "outputs": [
        {
          "name": "stdout",
          "output_type": "stream",
          "text": [
            "carData2 =\n",
            "      make    model   MSRP  year      dealership\n",
            "1    Ford   Taurus  27595  2018   Courtesy Ford\n",
            "2   Honda   Accord  23570  2018   Capital Honda\n",
            "3  Toyota    Camry  23495  2018  Spartan Toyota\n",
            "4   Tesla  Model S  68000  2018             N/A\n",
            "\n",
            "carData2.iloc[1,2] = 23570\n",
            "carData2.loc[1,'model'] = Taurus\n",
            "\n",
            "carData2.iloc[1:3,1:3]=\n",
            "    model   MSRP\n",
            "2  Accord  23570\n",
            "3   Camry  23495\n"
          ]
        }
      ],
      "source": [
        "# accessing a specific element of the DataFrame\n",
        "\n",
        "print('carData2 =\\n', carData2)\n",
        "\n",
        "print('\\ncarData2.iloc[1,2] =', carData2.iloc[1,2])                # retrieving second row, third column\n",
        "print('carData2.loc[1,\\'model\\'] =', carData2.loc[1,'model'])    # retrieving second row, column named 'model'\n",
        "\n",
        "# accessing a slice of the DataFrame\n",
        "\n",
        "print('\\ncarData2.iloc[1:3,1:3]=')\n",
        "print(carData2.iloc[1:3,1:3])"
      ]
    },
    {
      "cell_type": "code",
      "execution_count": null,
      "metadata": {
        "colab": {
          "base_uri": "https://localhost:8080/"
        },
        "id": "t2IkCL6m8eFb",
        "outputId": "b7978afe-1cbc-471a-c8d2-b98176e79f53"
      },
      "outputs": [
        {
          "name": "stdout",
          "output_type": "stream",
          "text": [
            "carData2 =\n",
            "      make    model   MSRP  year      dealership\n",
            "1    Ford   Taurus  27595  2018   Courtesy Ford\n",
            "2   Honda   Accord  23570  2018   Capital Honda\n",
            "3  Toyota    Camry  23495  2018  Spartan Toyota\n",
            "4   Tesla  Model S  68000  2018             N/A \n",
            "\n",
            "carData2.shape = (4, 5)\n",
            "carData2.size = 20\n"
          ]
        }
      ],
      "source": [
        "print('carData2 =\\n', carData2, '\\n')\n",
        "\n",
        "print('carData2.shape =', carData2.shape)\n",
        "print('carData2.size =', carData2.size)"
      ]
    },
    {
      "cell_type": "code",
      "execution_count": null,
      "metadata": {
        "colab": {
          "base_uri": "https://localhost:8080/"
        },
        "id": "9FsF6Aq88eFb",
        "outputId": "48dd45b0-662f-46dc-bd9e-ab1b11cb6c66"
      },
      "outputs": [
        {
          "name": "stdout",
          "output_type": "stream",
          "text": [
            "carData2 =\n",
            "      make    model   MSRP  year      dealership\n",
            "1    Ford   Taurus  27595  2018   Courtesy Ford\n",
            "2   Honda   Accord  23570  2018   Capital Honda\n",
            "3  Toyota    Camry  23495  2018  Spartan Toyota\n",
            "4   Tesla  Model S  68000  2018             N/A \n",
            "\n",
            "carData2[carData2.MSRP > 25000] =\n",
            "    make    model   MSRP  year     dealership\n",
            "1   Ford   Taurus  27595  2018  Courtesy Ford\n",
            "4  Tesla  Model S  68000  2018            N/A\n"
          ]
        }
      ],
      "source": [
        "# selection and filtering\n",
        "\n",
        "print('carData2 =\\n', carData2, '\\n')\n",
        "\n",
        "print('carData2[carData2.MSRP > 25000] =')\n",
        "print(carData2[carData2.MSRP > 25000])"
      ]
    },
    {
      "cell_type": "markdown",
      "metadata": {
        "id": "_dJKputS8eFb"
      },
      "source": [
        "### 2.2.3 Arithmetic Operations"
      ]
    },
    {
      "cell_type": "code",
      "execution_count": null,
      "metadata": {
        "colab": {
          "base_uri": "https://localhost:8080/"
        },
        "id": "lYrSECdU8eFb",
        "outputId": "a0937e03-8b41-40bc-d2de-0287dc31d5f1"
      },
      "outputs": [
        {
          "name": "stdout",
          "output_type": "stream",
          "text": [
            "         x1        x2        x3\n",
            "0  0.552245 -0.751462  0.223288\n",
            "1 -0.846710  0.781637  0.120385\n",
            "2  0.702817  0.349021  0.375604\n",
            "3 -0.650783  1.575654  0.006226\n",
            "4  2.059090 -0.578918 -0.162925\n",
            "\n",
            "Data transpose operation: data.T\n",
            "           0         1         2         3         4\n",
            "x1  0.552245 -0.846710  0.702817 -0.650783  2.059090\n",
            "x2 -0.751462  0.781637  0.349021  1.575654 -0.578918\n",
            "x3  0.223288  0.120385  0.375604  0.006226 -0.162925\n",
            "\n",
            "Addition: data + 4\n",
            "         x1        x2        x3\n",
            "0  4.552245  3.248538  4.223288\n",
            "1  3.153290  4.781637  4.120385\n",
            "2  4.702817  4.349021  4.375604\n",
            "3  3.349217  5.575654  4.006226\n",
            "4  6.059090  3.421082  3.837075\n",
            "\n",
            "Multiplication: data * 10\n",
            "          x1         x2        x3\n",
            "0   5.522448  -7.514624  2.232876\n",
            "1  -8.467101   7.816375  1.203848\n",
            "2   7.028169   3.490213  3.756044\n",
            "3  -6.507833  15.756538  0.062262\n",
            "4  20.590904  -5.789185 -1.629252\n"
          ]
        }
      ],
      "source": [
        "print(data)\n",
        "\n",
        "print('\\nData transpose operation: data.T')\n",
        "print(data.T)    # transpose operation\n",
        "\n",
        "print('\\nAddition: data + 4')\n",
        "print(data + 4)    # addition operation\n",
        "\n",
        "print('\\nMultiplication: data * 10')\n",
        "print(data * 10)   # multiplication operation"
      ]
    },
    {
      "cell_type": "code",
      "execution_count": null,
      "metadata": {
        "colab": {
          "base_uri": "https://localhost:8080/"
        },
        "id": "5tBpw4z28eFb",
        "outputId": "a4bcea70-29c8-40c4-98d6-bbc86e538924"
      },
      "outputs": [
        {
          "name": "stdout",
          "output_type": "stream",
          "text": [
            "data =\n",
            "          x1        x2        x3\n",
            "0  0.552245 -0.751462  0.223288\n",
            "1 -0.846710  0.781637  0.120385\n",
            "2  0.702817  0.349021  0.375604\n",
            "3 -0.650783  1.575654  0.006226\n",
            "4  2.059090 -0.578918 -0.162925\n",
            "\n",
            "data2 =\n",
            "         x1        x2        x3\n",
            "0 -0.085877  0.391024 -0.528837\n",
            "1 -0.487891  1.561235 -0.852434\n",
            "2 -1.533194 -0.850327 -0.797566\n",
            "3  1.571512  0.318049  0.573421\n",
            "4  0.110987 -0.313970  0.477381\n",
            "\n",
            "data + data2 = \n",
            "         x1        x2        x3\n",
            "0  0.466368 -0.360439 -0.305549\n",
            "1 -1.334601  2.342873 -0.732049\n",
            "2 -0.830377 -0.501306 -0.421961\n",
            "3  0.920728  1.893702  0.579647\n",
            "4  2.170077 -0.892888  0.314456\n",
            "\n",
            "data * data2 = \n",
            "         x1        x2        x3\n",
            "0 -0.047425 -0.293840 -0.118083\n",
            "1  0.413103  1.220320 -0.102620\n",
            "2 -1.077554 -0.296782 -0.299569\n",
            "3 -1.022714  0.501135  0.003570\n",
            "4  0.228532  0.181763 -0.077777\n"
          ]
        }
      ],
      "source": [
        "print('data =\\n', data)\n",
        "\n",
        "columnNames = ['x1','x2','x3']\n",
        "data2 = DataFrame(np.random.randn(5,3), columns=columnNames)\n",
        "print('\\ndata2 =')\n",
        "print(data2)\n",
        "\n",
        "print('\\ndata + data2 = ')\n",
        "print(data.add(data2))\n",
        "\n",
        "print('\\ndata * data2 = ')\n",
        "print(data.mul(data2))"
      ]
    },
    {
      "cell_type": "code",
      "execution_count": null,
      "metadata": {
        "colab": {
          "base_uri": "https://localhost:8080/"
        },
        "id": "qJIpfrea8eFb",
        "outputId": "94048384-d067-4a01-8ecd-46b84907393b"
      },
      "outputs": [
        {
          "name": "stdout",
          "output_type": "stream",
          "text": [
            "         x1        x2        x3\n",
            "0  0.552245  0.751462  0.223288\n",
            "1  0.846710  0.781637  0.120385\n",
            "2  0.702817  0.349021  0.375604\n",
            "3  0.650783  1.575654  0.006226\n",
            "4  2.059090  0.578918  0.162925\n",
            "\n",
            "Maximum value per column:\n",
            "x1    2.059090\n",
            "x2    1.575654\n",
            "x3    0.375604\n",
            "dtype: float64\n",
            "\n",
            "Minimum value per row:\n",
            "0   -0.751462\n",
            "1   -0.846710\n",
            "2    0.349021\n",
            "3   -0.650783\n",
            "4   -0.578918\n",
            "dtype: float64\n",
            "\n",
            "Sum of values per column:\n",
            "x1    1.816659\n",
            "x2    1.375932\n",
            "x3    0.562578\n",
            "dtype: float64\n",
            "\n",
            "Average value per row:\n",
            "0    0.008023\n",
            "1    0.018437\n",
            "2    0.475814\n",
            "3    0.310366\n",
            "4    0.439082\n",
            "dtype: float64\n",
            "\n",
            "Calculate max - min per column\n",
            "x1    2.905801\n",
            "x2    2.327116\n",
            "x3    0.538530\n",
            "dtype: float64\n",
            "\n",
            "Calculate max - min per row\n",
            "0    1.303707\n",
            "1    1.628348\n",
            "2    0.353796\n",
            "3    2.226437\n",
            "4    2.638009\n",
            "dtype: float64\n"
          ]
        }
      ],
      "source": [
        "print(data.abs())    # get the absolute value for each element\n",
        "\n",
        "print('\\nMaximum value per column:')\n",
        "print(data.max())    # get maximum value for each column\n",
        "\n",
        "print('\\nMinimum value per row:')\n",
        "print(data.min(axis=1))    # get minimum value for each row\n",
        "\n",
        "print('\\nSum of values per column:')\n",
        "print(data.sum())    # get sum of values for each column\n",
        "\n",
        "print('\\nAverage value per row:')\n",
        "print(data.mean(axis=1))    # get average value for each row\n",
        "\n",
        "print('\\nCalculate max - min per column')\n",
        "f = lambda x: x.max() - x.min()\n",
        "print(data.apply(f))\n",
        "\n",
        "print('\\nCalculate max - min per row')\n",
        "f = lambda x: x.max() - x.min()\n",
        "print(data.apply(f, axis=1))"
      ]
    },
    {
      "cell_type": "markdown",
      "metadata": {
        "id": "1Dvsy6-Z8eFc"
      },
      "source": [
        "The value_counts() function can also be applied to a pandas DataFrame"
      ]
    },
    {
      "cell_type": "code",
      "execution_count": null,
      "metadata": {
        "colab": {
          "base_uri": "https://localhost:8080/"
        },
        "id": "5BlFqYWK8eFc",
        "outputId": "e220627b-4abf-4a36-e329-4173a84f422b"
      },
      "outputs": [
        {
          "name": "stdout",
          "output_type": "stream",
          "text": [
            "shapeData =\n",
            "        shape color\n",
            "0     circle   red\n",
            "1     square   red\n",
            "2     square   red\n",
            "3     square  blue\n",
            "4     circle  blue\n",
            "5  rectangle  blue \n",
            "\n",
            "shapeData.value_counts() =\n",
            " shape      color\n",
            "circle     blue     1\n",
            "           red      1\n",
            "rectangle  blue     1\n",
            "square     blue     1\n",
            "           red      2\n",
            "dtype: int64\n"
          ]
        }
      ],
      "source": [
        "objects = {'shape': ['circle', 'square', 'square', 'square', 'circle', 'rectangle'],\n",
        "           'color': ['red', 'red', 'red', 'blue', 'blue', 'blue']}\n",
        "\n",
        "shapeData = DataFrame(objects)\n",
        "print('shapeData =\\n', shapeData, '\\n')\n",
        "\n",
        "print('shapeData.value_counts() =\\n', shapeData.value_counts().sort_values())"
      ]
    },
    {
      "cell_type": "markdown",
      "metadata": {
        "id": "m-6KfhnE8eFc"
      },
      "source": [
        "### 2.2.4 Plotting Series and DataFrame\n",
        "\n",
        "There are many built-in functions available to plot the data stored in a Series or a DataFrame.\n",
        "\n",
        "**(a)** Line plot"
      ]
    },
    {
      "cell_type": "code",
      "execution_count": null,
      "metadata": {
        "id": "SJBaRX5o_pEf"
      },
      "outputs": [],
      "source": [
        "%matplotlib inline\n",
        "\n",
        "s3 = Series([1.2,2.5,-2.2,3.1,-0.8,-3.2,1.4],\n",
        "            index = ['Jan 1','Jan 2','Jan 3','Jan 4','Jan 5','Jan 6','Jan 7'])"
      ]
    },
    {
      "cell_type": "code",
      "execution_count": null,
      "metadata": {
        "colab": {
          "base_uri": "https://localhost:8080/",
          "height": 469
        },
        "id": "BNgGHmhm8eFc",
        "outputId": "a4b5fc3c-88bd-4457-e637-afcb563f0c89"
      },
      "outputs": [
        {
          "data": {
            "text/plain": [
              "<Axes: title={'center': 'Line plot'}>"
            ]
          },
          "execution_count": 58,
          "metadata": {},
          "output_type": "execute_result"
        },
        {
          "data": {
            "image/png": "[encoded data removed]",
            "text/plain": [
              "<Figure size 640x480 with 1 Axes>"
            ]
          },
          "metadata": {},
          "output_type": "display_data"
        }
      ],
      "source": [
        "s3.plot(kind='line', title='Line plot')"
      ]
    },
    {
      "cell_type": "markdown",
      "metadata": {
        "id": "7mmuEOof8eFc"
      },
      "source": [
        "**(b)** Bar plot"
      ]
    },
    {
      "cell_type": "code",
      "execution_count": null,
      "metadata": {
        "colab": {
          "base_uri": "https://localhost:8080/",
          "height": 490
        },
        "id": "cdUTeqWZ8eFc",
        "outputId": "adecde46-fc2f-4eed-b436-df09d73be155"
      },
      "outputs": [
        {
          "data": {
            "text/plain": [
              "<Axes: title={'center': 'Bar plot'}>"
            ]
          },
          "execution_count": 59,
          "metadata": {},
          "output_type": "execute_result"
        },
        {
          "data": {
            "image/png": "[encoded data removed]",
            "text/plain": [
              "<Figure size 640x480 with 1 Axes>"
            ]
          },
          "metadata": {},
          "output_type": "display_data"
        }
      ],
      "source": [
        "s3.plot(kind='bar', title='Bar plot')"
      ]
    },
    {
      "cell_type": "markdown",
      "metadata": {
        "id": "JUJqhXlA8eFc"
      },
      "source": [
        "**(c)** Histogram"
      ]
    },
    {
      "cell_type": "code",
      "execution_count": null,
      "metadata": {
        "colab": {
          "base_uri": "https://localhost:8080/",
          "height": 469
        },
        "id": "swlPhNvm8eFc",
        "outputId": "9c056f41-f765-47aa-9e51-1cfc76b0ad91"
      },
      "outputs": [
        {
          "data": {
            "text/plain": [
              "<Axes: title={'center': 'Histogram'}, ylabel='Frequency'>"
            ]
          },
          "execution_count": 60,
          "metadata": {},
          "output_type": "execute_result"
        },
        {
          "data": {
            "image/png": "[encoded data removed]",
            "text/plain": [
              "<Figure size 640x480 with 1 Axes>"
            ]
          },
          "metadata": {},
          "output_type": "display_data"
        }
      ],
      "source": [
        "s3.plot(kind='hist', title = 'Histogram')"
      ]
    },
    {
      "cell_type": "markdown",
      "metadata": {
        "id": "0L5UZaeR8eFc"
      },
      "source": [
        "**(d)** Box plot"
      ]
    },
    {
      "cell_type": "code",
      "execution_count": null,
      "metadata": {
        "colab": {
          "base_uri": "https://localhost:8080/",
          "height": 469
        },
        "id": "Ox2Ftgh-8eFd",
        "outputId": "42d8af45-35f0-412f-d2b2-d60485ccd5af"
      },
      "outputs": [
        {
          "data": {
            "text/plain": [
              "<Axes: title={'center': 'Box plot'}>"
            ]
          },
          "execution_count": 61,
          "metadata": {},
          "output_type": "execute_result"
        },
        {
          "data": {
            "image/png": "[encoded data removed]",
            "text/plain": [
              "<Figure size 640x480 with 1 Axes>"
            ]
          },
          "metadata": {},
          "output_type": "display_data"
        }
      ],
      "source": [
        "tuplelist = [(2011,45.1,32.4),(2012,42.4,34.5),(2013,47.2,39.2),\n",
        "              (2014,44.2,31.4),(2015,39.9,29.8),(2016,41.5,36.7)]\n",
        "columnNames = ['year','temp','precip']\n",
        "weatherData = DataFrame(tuplelist, columns=columnNames)\n",
        "weatherData[['temp','precip']].plot(kind='box', title='Box plot')"
      ]
    },
    {
      "cell_type": "markdown",
      "metadata": {
        "id": "lHrSTDEY8eFd"
      },
      "source": [
        "**(e)** Scatter plot"
      ]
    },
    {
      "cell_type": "code",
      "execution_count": null,
      "metadata": {
        "colab": {
          "base_uri": "https://localhost:8080/",
          "height": 605
        },
        "id": "nxzsPmi98eFd",
        "outputId": "21b02120-4bcb-4a2b-aa37-625de3ae9882"
      },
      "outputs": [
        {
          "name": "stdout",
          "output_type": "stream",
          "text": [
            "weatherData =\n",
            "    year  temp  precip\n",
            "0  2011  45.1    32.4\n",
            "1  2012  42.4    34.5\n",
            "2  2013  47.2    39.2\n",
            "3  2014  44.2    31.4\n",
            "4  2015  39.9    29.8\n",
            "5  2016  41.5    36.7\n"
          ]
        },
        {
          "data": {
            "text/plain": [
              "<Axes: xlabel='temp', ylabel='precip'>"
            ]
          },
          "execution_count": 62,
          "metadata": {},
          "output_type": "execute_result"
        },
        {
          "data": {
            "image/png": "[encoded data removed]",
            "text/plain": [
              "<Figure size 640x480 with 1 Axes>"
            ]
          },
          "metadata": {},
          "output_type": "display_data"
        }
      ],
      "source": [
        "print('weatherData =\\n', weatherData)\n",
        "\n",
        "weatherData.plot(kind='scatter', x='temp', y='precip')"
      ]
    },
    {
      "cell_type": "markdown",
      "metadata": {
        "id": "nseafkAvB3SH"
      },
      "source": [
        "# Exercise: Explore crop production dataset\n",
        "\n",
        "The dataset `Production_Crops_E_Asia.csv` contains crop production statistics from the United Nations Food and Agriculture Organization (UN FAO) in East Asian countries from 1961 to 2019 (source: https://data.world/agriculture/crop-production). In this exercise, you'll explore the dataset using some of the operations from Modules 1-2 in this lab."
      ]
    },
    {
      "cell_type": "markdown",
      "metadata": {
        "id": "WZ4rH4NzhWKH"
      },
      "source": []
    },
    {
      "cell_type": "code",
      "execution_count": null,
      "metadata": {
        "id": "2378EspcCT4d"
      },
      "outputs": [],
      "source": [
        "import pandas as pd"
      ]
    },
    {
      "cell_type": "code",
      "execution_count": null,
      "metadata": {
        "id": "qSirJQ-E_wvk"
      },
      "outputs": [],
      "source": [
        "# Load the CSV file from its storage location on Google Drive\n",
        "prod = pd.read_csv('https://docs.google.com/uc?export=download&id=1r2DzEFS5tb5NjoIyAl6FvUDYW5DOKm5q')"
      ]
    },
    {
      "cell_type": "code",
      "execution_count": null,
      "metadata": {
        "colab": {
          "base_uri": "https://localhost:8080/",
          "height": 704
        },
        "id": "G2zrna493Xgc",
        "outputId": "936aadc4-88de-45d6-960b-1744d1dd646a"
      },
      "outputs": [
        {
          "data": {
            "text/html": [
              "\n",
              "  <div id=\"df-35f41b65-694b-43fa-a1be-edbdf7564632\" class=\"colab-df-container\">\n",
              "    <div>\n",
              "<style scoped>\n",
              "    .dataframe tbody tr th:only-of-type {\n",
              "        vertical-align: middle;\n",
              "    }\n",
              "\n",
              "    .dataframe tbody tr th {\n",
              "        vertical-align: top;\n",
              "    }\n",
              "\n",
              "    .dataframe thead th {\n",
              "        text-align: right;\n",
              "    }\n",
              "</style>\n",
              "<table border=\"1\" class=\"dataframe\">\n",
              "  <thead>\n",
              "    <tr style=\"text-align: right;\">\n",
              "      <th></th>\n",
              "      <th>Area Code</th>\n",
              "      <th>Area</th>\n",
              "      <th>Item Code</th>\n",
              "      <th>Item</th>\n",
              "      <th>Element Code</th>\n",
              "      <th>Element</th>\n",
              "      <th>Unit</th>\n",
              "      <th>Y1961</th>\n",
              "      <th>Y1961F</th>\n",
              "      <th>Y1962</th>\n",
              "      <th>...</th>\n",
              "      <th>Y2015</th>\n",
              "      <th>Y2015F</th>\n",
              "      <th>Y2016</th>\n",
              "      <th>Y2016F</th>\n",
              "      <th>Y2017</th>\n",
              "      <th>Y2017F</th>\n",
              "      <th>Y2018</th>\n",
              "      <th>Y2018F</th>\n",
              "      <th>Y2019</th>\n",
              "      <th>Y2019F</th>\n",
              "    </tr>\n",
              "  </thead>\n",
              "  <tbody>\n",
              "    <tr>\n",
              "      <th>0</th>\n",
              "      <td>2</td>\n",
              "      <td>Afghanistan</td>\n",
              "      <td>221</td>\n",
              "      <td>Almonds, with shell</td>\n",
              "      <td>5312</td>\n",
              "      <td>Area harvested</td>\n",
              "      <td>ha</td>\n",
              "      <td>NaN</td>\n",
              "      <td>NaN</td>\n",
              "      <td>NaN</td>\n",
              "      <td>...</td>\n",
              "      <td>14676.0</td>\n",
              "      <td>NaN</td>\n",
              "      <td>19481.0</td>\n",
              "      <td>NaN</td>\n",
              "      <td>19793.0</td>\n",
              "      <td>NaN</td>\n",
              "      <td>20053.0</td>\n",
              "      <td>NaN</td>\n",
              "      <td>29203.0</td>\n",
              "      <td>NaN</td>\n",
              "    </tr>\n",
              "    <tr>\n",
              "      <th>1</th>\n",
              "      <td>2</td>\n",
              "      <td>Afghanistan</td>\n",
              "      <td>221</td>\n",
              "      <td>Almonds, with shell</td>\n",
              "      <td>5419</td>\n",
              "      <td>Yield</td>\n",
              "      <td>hg/ha</td>\n",
              "      <td>NaN</td>\n",
              "      <td>NaN</td>\n",
              "      <td>NaN</td>\n",
              "      <td>...</td>\n",
              "      <td>16521.0</td>\n",
              "      <td>Fc</td>\n",
              "      <td>16859.0</td>\n",
              "      <td>Fc</td>\n",
              "      <td>13788.0</td>\n",
              "      <td>Fc</td>\n",
              "      <td>17161.0</td>\n",
              "      <td>Fc</td>\n",
              "      <td>13083.0</td>\n",
              "      <td>Fc</td>\n",
              "    </tr>\n",
              "    <tr>\n",
              "      <th>2</th>\n",
              "      <td>2</td>\n",
              "      <td>Afghanistan</td>\n",
              "      <td>221</td>\n",
              "      <td>Almonds, with shell</td>\n",
              "      <td>5510</td>\n",
              "      <td>Production</td>\n",
              "      <td>tonnes</td>\n",
              "      <td>NaN</td>\n",
              "      <td>NaN</td>\n",
              "      <td>NaN</td>\n",
              "      <td>...</td>\n",
              "      <td>24246.0</td>\n",
              "      <td>NaN</td>\n",
              "      <td>32843.0</td>\n",
              "      <td>NaN</td>\n",
              "      <td>27291.0</td>\n",
              "      <td>NaN</td>\n",
              "      <td>34413.0</td>\n",
              "      <td>NaN</td>\n",
              "      <td>38205.0</td>\n",
              "      <td>NaN</td>\n",
              "    </tr>\n",
              "    <tr>\n",
              "      <th>3</th>\n",
              "      <td>2</td>\n",
              "      <td>Afghanistan</td>\n",
              "      <td>711</td>\n",
              "      <td>Anise, badian, fennel, coriander</td>\n",
              "      <td>5312</td>\n",
              "      <td>Area harvested</td>\n",
              "      <td>ha</td>\n",
              "      <td>NaN</td>\n",
              "      <td>M</td>\n",
              "      <td>NaN</td>\n",
              "      <td>...</td>\n",
              "      <td>25000.0</td>\n",
              "      <td>F</td>\n",
              "      <td>25787.0</td>\n",
              "      <td>Im</td>\n",
              "      <td>28398.0</td>\n",
              "      <td>Im</td>\n",
              "      <td>26725.0</td>\n",
              "      <td>Im</td>\n",
              "      <td>27562.0</td>\n",
              "      <td>Im</td>\n",
              "    </tr>\n",
              "    <tr>\n",
              "      <th>4</th>\n",
              "      <td>2</td>\n",
              "      <td>Afghanistan</td>\n",
              "      <td>711</td>\n",
              "      <td>Anise, badian, fennel, coriander</td>\n",
              "      <td>5419</td>\n",
              "      <td>Yield</td>\n",
              "      <td>hg/ha</td>\n",
              "      <td>NaN</td>\n",
              "      <td>NaN</td>\n",
              "      <td>NaN</td>\n",
              "      <td>...</td>\n",
              "      <td>7200.0</td>\n",
              "      <td>Fc</td>\n",
              "      <td>6982.0</td>\n",
              "      <td>Fc</td>\n",
              "      <td>6863.0</td>\n",
              "      <td>Fc</td>\n",
              "      <td>6898.0</td>\n",
              "      <td>Fc</td>\n",
              "      <td>6903.0</td>\n",
              "      <td>Fc</td>\n",
              "    </tr>\n",
              "    <tr>\n",
              "      <th>...</th>\n",
              "      <td>...</td>\n",
              "      <td>...</td>\n",
              "      <td>...</td>\n",
              "      <td>...</td>\n",
              "      <td>...</td>\n",
              "      <td>...</td>\n",
              "      <td>...</td>\n",
              "      <td>...</td>\n",
              "      <td>...</td>\n",
              "      <td>...</td>\n",
              "      <td>...</td>\n",
              "      <td>...</td>\n",
              "      <td>...</td>\n",
              "      <td>...</td>\n",
              "      <td>...</td>\n",
              "      <td>...</td>\n",
              "      <td>...</td>\n",
              "      <td>...</td>\n",
              "      <td>...</td>\n",
              "      <td>...</td>\n",
              "      <td>...</td>\n",
              "    </tr>\n",
              "    <tr>\n",
              "      <th>9633</th>\n",
              "      <td>249</td>\n",
              "      <td>Yemen</td>\n",
              "      <td>1729</td>\n",
              "      <td>Treenuts, Total</td>\n",
              "      <td>5419</td>\n",
              "      <td>Yield</td>\n",
              "      <td>hg/ha</td>\n",
              "      <td>NaN</td>\n",
              "      <td>NaN</td>\n",
              "      <td>NaN</td>\n",
              "      <td>...</td>\n",
              "      <td>18805.0</td>\n",
              "      <td>Fc</td>\n",
              "      <td>18061.0</td>\n",
              "      <td>Fc</td>\n",
              "      <td>17863.0</td>\n",
              "      <td>Fc</td>\n",
              "      <td>17513.0</td>\n",
              "      <td>Fc</td>\n",
              "      <td>17516.0</td>\n",
              "      <td>Fc</td>\n",
              "    </tr>\n",
              "    <tr>\n",
              "      <th>9634</th>\n",
              "      <td>249</td>\n",
              "      <td>Yemen</td>\n",
              "      <td>1729</td>\n",
              "      <td>Treenuts, Total</td>\n",
              "      <td>5510</td>\n",
              "      <td>Production</td>\n",
              "      <td>tonnes</td>\n",
              "      <td>NaN</td>\n",
              "      <td>NaN</td>\n",
              "      <td>NaN</td>\n",
              "      <td>...</td>\n",
              "      <td>11014.0</td>\n",
              "      <td>A</td>\n",
              "      <td>10591.0</td>\n",
              "      <td>A</td>\n",
              "      <td>10484.0</td>\n",
              "      <td>A</td>\n",
              "      <td>10483.0</td>\n",
              "      <td>A</td>\n",
              "      <td>11340.0</td>\n",
              "      <td>A</td>\n",
              "    </tr>\n",
              "    <tr>\n",
              "      <th>9635</th>\n",
              "      <td>249</td>\n",
              "      <td>Yemen</td>\n",
              "      <td>1735</td>\n",
              "      <td>Vegetables Primary</td>\n",
              "      <td>5312</td>\n",
              "      <td>Area harvested</td>\n",
              "      <td>ha</td>\n",
              "      <td>7000.0</td>\n",
              "      <td>A</td>\n",
              "      <td>7100.0</td>\n",
              "      <td>...</td>\n",
              "      <td>42489.0</td>\n",
              "      <td>A</td>\n",
              "      <td>39887.0</td>\n",
              "      <td>A</td>\n",
              "      <td>38612.0</td>\n",
              "      <td>A</td>\n",
              "      <td>40647.0</td>\n",
              "      <td>A</td>\n",
              "      <td>41528.0</td>\n",
              "      <td>A</td>\n",
              "    </tr>\n",
              "    <tr>\n",
              "      <th>9636</th>\n",
              "      <td>249</td>\n",
              "      <td>Yemen</td>\n",
              "      <td>1735</td>\n",
              "      <td>Vegetables Primary</td>\n",
              "      <td>5419</td>\n",
              "      <td>Yield</td>\n",
              "      <td>hg/ha</td>\n",
              "      <td>107143.0</td>\n",
              "      <td>Fc</td>\n",
              "      <td>107042.0</td>\n",
              "      <td>...</td>\n",
              "      <td>113518.0</td>\n",
              "      <td>Fc</td>\n",
              "      <td>106887.0</td>\n",
              "      <td>Fc</td>\n",
              "      <td>107777.0</td>\n",
              "      <td>Fc</td>\n",
              "      <td>112627.0</td>\n",
              "      <td>Fc</td>\n",
              "      <td>115155.0</td>\n",
              "      <td>Fc</td>\n",
              "    </tr>\n",
              "    <tr>\n",
              "      <th>9637</th>\n",
              "      <td>249</td>\n",
              "      <td>Yemen</td>\n",
              "      <td>1735</td>\n",
              "      <td>Vegetables Primary</td>\n",
              "      <td>5510</td>\n",
              "      <td>Production</td>\n",
              "      <td>tonnes</td>\n",
              "      <td>75000.0</td>\n",
              "      <td>A</td>\n",
              "      <td>76000.0</td>\n",
              "      <td>...</td>\n",
              "      <td>482325.0</td>\n",
              "      <td>A</td>\n",
              "      <td>426339.0</td>\n",
              "      <td>A</td>\n",
              "      <td>416147.0</td>\n",
              "      <td>A</td>\n",
              "      <td>457796.0</td>\n",
              "      <td>A</td>\n",
              "      <td>478214.0</td>\n",
              "      <td>A</td>\n",
              "    </tr>\n",
              "  </tbody>\n",
              "</table>\n",
              "<p>9638 rows × 125 columns</p>\n",
              "</div>\n",
              "    <div class=\"colab-df-buttons\">\n",
              "\n",
              "  <div class=\"colab-df-container\">\n",
              "    <button class=\"colab-df-convert\" onclick=\"convertToInteractive('df-35f41b65-694b-43fa-a1be-edbdf7564632')\"\n",
              "            title=\"Convert this dataframe to an interactive table.\"\n",
              "            style=\"display:none;\">\n",
              "\n",
              "  <svg xmlns=\"http://www.w3.org/2000/svg\" height=\"24px\" viewBox=\"0 -960 960 960\">\n",
              "    <path d=\"M120-120v-720h720v720H120Zm60-500h600v-160H180v160Zm220 220h160v-160H400v160Zm0 220h160v-160H400v160ZM180-400h160v-160H180v160Zm440 0h160v-160H620v160ZM180-180h160v-160H180v160Zm440 0h160v-160H620v160Z\"/>\n",
              "  </svg>\n",
              "    </button>\n",
              "\n",
              "  <style>\n",
              "    .colab-df-container {\n",
              "      display:flex;\n",
              "      gap: 12px;\n",
              "    }\n",
              "\n",
              "    .colab-df-convert {\n",
              "      background-color: #E8F0FE;\n",
              "      border: none;\n",
              "      border-radius: 50%;\n",
              "      cursor: pointer;\n",
              "      display: none;\n",
              "      fill: #1967D2;\n",
              "      height: 32px;\n",
              "      padding: 0 0 0 0;\n",
              "      width: 32px;\n",
              "    }\n",
              "\n",
              "    .colab-df-convert:hover {\n",
              "      background-color: #E2EBFA;\n",
              "      box-shadow: 0px 1px 2px rgba(60, 64, 67, 0.3), 0px 1px 3px 1px rgba(60, 64, 67, 0.15);\n",
              "      fill: #174EA6;\n",
              "    }\n",
              "\n",
              "    .colab-df-buttons div {\n",
              "      margin-bottom: 4px;\n",
              "    }\n",
              "\n",
              "    [theme=dark] .colab-df-convert {\n",
              "      background-color: #3B4455;\n",
              "      fill: #D2E3FC;\n",
              "    }\n",
              "\n",
              "    [theme=dark] .colab-df-convert:hover {\n",
              "      background-color: #434B5C;\n",
              "      box-shadow: 0px 1px 3px 1px rgba(0, 0, 0, 0.15);\n",
              "      filter: drop-shadow(0px 1px 2px rgba(0, 0, 0, 0.3));\n",
              "      fill: #FFFFFF;\n",
              "    }\n",
              "  </style>\n",
              "\n",
              "    <script>\n",
              "      const buttonEl =\n",
              "        document.querySelector('#df-35f41b65-694b-43fa-a1be-edbdf7564632 button.colab-df-convert');\n",
              "      buttonEl.style.display =\n",
              "        google.colab.kernel.accessAllowed ? 'block' : 'none';\n",
              "\n",
              "      async function convertToInteractive(key) {\n",
              "        const element = document.querySelector('#df-35f41b65-694b-43fa-a1be-edbdf7564632');\n",
              "        const dataTable =\n",
              "          await google.colab.kernel.invokeFunction('convertToInteractive',\n",
              "                                                    [key], {});\n",
              "        if (!dataTable) return;\n",
              "\n",
              "        const docLinkHtml = 'Like what you see? Visit the ' +\n",
              "          '<a target=\"_blank\" href=https://colab.research.google.com/notebooks/data_table.ipynb>data table notebook</a>'\n",
              "          + ' to learn more about interactive tables.';\n",
              "        element.innerHTML = '';\n",
              "        dataTable['output_type'] = 'display_data';\n",
              "        await google.colab.output.renderOutput(dataTable, element);\n",
              "        const docLink = document.createElement('div');\n",
              "        docLink.innerHTML = docLinkHtml;\n",
              "        element.appendChild(docLink);\n",
              "      }\n",
              "    </script>\n",
              "  </div>\n",
              "\n",
              "\n",
              "<div id=\"df-78c19862-5988-4646-b08c-d16b5ca909af\">\n",
              "  <button class=\"colab-df-quickchart\" onclick=\"quickchart('df-78c19862-5988-4646-b08c-d16b5ca909af')\"\n",
              "            title=\"Suggest charts\"\n",
              "            style=\"display:none;\">\n",
              "\n",
              "<svg xmlns=\"http://www.w3.org/2000/svg\" height=\"24px\"viewBox=\"0 0 24 24\"\n",
              "     width=\"24px\">\n",
              "    <g>\n",
              "        <path d=\"M19 3H5c-1.1 0-2 .9-2 2v14c0 1.1.9 2 2 2h14c1.1 0 2-.9 2-2V5c0-1.1-.9-2-2-2zM9 17H7v-7h2v7zm4 0h-2V7h2v10zm4 0h-2v-4h2v4z\"/>\n",
              "    </g>\n",
              "</svg>\n",
              "  </button>\n",
              "\n",
              "<style>\n",
              "  .colab-df-quickchart {\n",
              "      --bg-color: #E8F0FE;\n",
              "      --fill-color: #1967D2;\n",
              "      --hover-bg-color: #E2EBFA;\n",
              "      --hover-fill-color: #174EA6;\n",
              "      --disabled-fill-color: #AAA;\n",
              "      --disabled-bg-color: #DDD;\n",
              "  }\n",
              "\n",
              "  [theme=dark] .colab-df-quickchart {\n",
              "      --bg-color: #3B4455;\n",
              "      --fill-color: #D2E3FC;\n",
              "      --hover-bg-color: #434B5C;\n",
              "      --hover-fill-color: #FFFFFF;\n",
              "      --disabled-bg-color: #3B4455;\n",
              "      --disabled-fill-color: #666;\n",
              "  }\n",
              "\n",
              "  .colab-df-quickchart {\n",
              "    background-color: var(--bg-color);\n",
              "    border: none;\n",
              "    border-radius: 50%;\n",
              "    cursor: pointer;\n",
              "    display: none;\n",
              "    fill: var(--fill-color);\n",
              "    height: 32px;\n",
              "    padding: 0;\n",
              "    width: 32px;\n",
              "  }\n",
              "\n",
              "  .colab-df-quickchart:hover {\n",
              "    background-color: var(--hover-bg-color);\n",
              "    box-shadow: 0 1px 2px rgba(60, 64, 67, 0.3), 0 1px 3px 1px rgba(60, 64, 67, 0.15);\n",
              "    fill: var(--button-hover-fill-color);\n",
              "  }\n",
              "\n",
              "  .colab-df-quickchart-complete:disabled,\n",
              "  .colab-df-quickchart-complete:disabled:hover {\n",
              "    background-color: var(--disabled-bg-color);\n",
              "    fill: var(--disabled-fill-color);\n",
              "    box-shadow: none;\n",
              "  }\n",
              "\n",
              "  .colab-df-spinner {\n",
              "    border: 2px solid var(--fill-color);\n",
              "    border-color: transparent;\n",
              "    border-bottom-color: var(--fill-color);\n",
              "    animation:\n",
              "      spin 1s steps(1) infinite;\n",
              "  }\n",
              "\n",
              "  @keyframes spin {\n",
              "    0% {\n",
              "      border-color: transparent;\n",
              "      border-bottom-color: var(--fill-color);\n",
              "      border-left-color: var(--fill-color);\n",
              "    }\n",
              "    20% {\n",
              "      border-color: transparent;\n",
              "      border-left-color: var(--fill-color);\n",
              "      border-top-color: var(--fill-color);\n",
              "    }\n",
              "    30% {\n",
              "      border-color: transparent;\n",
              "      border-left-color: var(--fill-color);\n",
              "      border-top-color: var(--fill-color);\n",
              "      border-right-color: var(--fill-color);\n",
              "    }\n",
              "    40% {\n",
              "      border-color: transparent;\n",
              "      border-right-color: var(--fill-color);\n",
              "      border-top-color: var(--fill-color);\n",
              "    }\n",
              "    60% {\n",
              "      border-color: transparent;\n",
              "      border-right-color: var(--fill-color);\n",
              "    }\n",
              "    80% {\n",
              "      border-color: transparent;\n",
              "      border-right-color: var(--fill-color);\n",
              "      border-bottom-color: var(--fill-color);\n",
              "    }\n",
              "    90% {\n",
              "      border-color: transparent;\n",
              "      border-bottom-color: var(--fill-color);\n",
              "    }\n",
              "  }\n",
              "</style>\n",
              "\n",
              "  <script>\n",
              "    async function quickchart(key) {\n",
              "      const quickchartButtonEl =\n",
              "        document.querySelector('#' + key + ' button');\n",
              "      quickchartButtonEl.disabled = true;  // To prevent multiple clicks.\n",
              "      quickchartButtonEl.classList.add('colab-df-spinner');\n",
              "      try {\n",
              "        const charts = await google.colab.kernel.invokeFunction(\n",
              "            'suggestCharts', [key], {});\n",
              "      } catch (error) {\n",
              "        console.error('Error during call to suggestCharts:', error);\n",
              "      }\n",
              "      quickchartButtonEl.classList.remove('colab-df-spinner');\n",
              "      quickchartButtonEl.classList.add('colab-df-quickchart-complete');\n",
              "    }\n",
              "    (() => {\n",
              "      let quickchartButtonEl =\n",
              "        document.querySelector('#df-78c19862-5988-4646-b08c-d16b5ca909af button');\n",
              "      quickchartButtonEl.style.display =\n",
              "        google.colab.kernel.accessAllowed ? 'block' : 'none';\n",
              "    })();\n",
              "  </script>\n",
              "</div>\n",
              "    </div>\n",
              "  </div>\n"
            ],
            "text/plain": [
              "      Area Code         Area  Item Code                              Item  \\\n",
              "0             2  Afghanistan        221               Almonds, with shell   \n",
              "1             2  Afghanistan        221               Almonds, with shell   \n",
              "2             2  Afghanistan        221               Almonds, with shell   \n",
              "3             2  Afghanistan        711  Anise, badian, fennel, coriander   \n",
              "4             2  Afghanistan        711  Anise, badian, fennel, coriander   \n",
              "...         ...          ...        ...                               ...   \n",
              "9633        249        Yemen       1729                   Treenuts, Total   \n",
              "9634        249        Yemen       1729                   Treenuts, Total   \n",
              "9635        249        Yemen       1735                Vegetables Primary   \n",
              "9636        249        Yemen       1735                Vegetables Primary   \n",
              "9637        249        Yemen       1735                Vegetables Primary   \n",
              "\n",
              "      Element Code         Element    Unit     Y1961 Y1961F     Y1962  ...  \\\n",
              "0             5312  Area harvested      ha       NaN    NaN       NaN  ...   \n",
              "1             5419           Yield   hg/ha       NaN    NaN       NaN  ...   \n",
              "2             5510      Production  tonnes       NaN    NaN       NaN  ...   \n",
              "3             5312  Area harvested      ha       NaN      M       NaN  ...   \n",
              "4             5419           Yield   hg/ha       NaN    NaN       NaN  ...   \n",
              "...            ...             ...     ...       ...    ...       ...  ...   \n",
              "9633          5419           Yield   hg/ha       NaN    NaN       NaN  ...   \n",
              "9634          5510      Production  tonnes       NaN    NaN       NaN  ...   \n",
              "9635          5312  Area harvested      ha    7000.0      A    7100.0  ...   \n",
              "9636          5419           Yield   hg/ha  107143.0     Fc  107042.0  ...   \n",
              "9637          5510      Production  tonnes   75000.0      A   76000.0  ...   \n",
              "\n",
              "         Y2015  Y2015F     Y2016  Y2016F     Y2017  Y2017F     Y2018  Y2018F  \\\n",
              "0      14676.0     NaN   19481.0     NaN   19793.0     NaN   20053.0     NaN   \n",
              "1      16521.0      Fc   16859.0      Fc   13788.0      Fc   17161.0      Fc   \n",
              "2      24246.0     NaN   32843.0     NaN   27291.0     NaN   34413.0     NaN   \n",
              "3      25000.0       F   25787.0      Im   28398.0      Im   26725.0      Im   \n",
              "4       7200.0      Fc    6982.0      Fc    6863.0      Fc    6898.0      Fc   \n",
              "...        ...     ...       ...     ...       ...     ...       ...     ...   \n",
              "9633   18805.0      Fc   18061.0      Fc   17863.0      Fc   17513.0      Fc   \n",
              "9634   11014.0       A   10591.0       A   10484.0       A   10483.0       A   \n",
              "9635   42489.0       A   39887.0       A   38612.0       A   40647.0       A   \n",
              "9636  113518.0      Fc  106887.0      Fc  107777.0      Fc  112627.0      Fc   \n",
              "9637  482325.0       A  426339.0       A  416147.0       A  457796.0       A   \n",
              "\n",
              "         Y2019  Y2019F  \n",
              "0      29203.0     NaN  \n",
              "1      13083.0      Fc  \n",
              "2      38205.0     NaN  \n",
              "3      27562.0      Im  \n",
              "4       6903.0      Fc  \n",
              "...        ...     ...  \n",
              "9633   17516.0      Fc  \n",
              "9634   11340.0       A  \n",
              "9635   41528.0       A  \n",
              "9636  115155.0      Fc  \n",
              "9637  478214.0       A  \n",
              "\n",
              "[9638 rows x 125 columns]"
            ]
          },
          "execution_count": 65,
          "metadata": {},
          "output_type": "execute_result"
        }
      ],
      "source": [
        "prod"
      ]
    },
    {
      "cell_type": "markdown",
      "metadata": {
        "id": "iU5MsVJu3Xgc"
      },
      "source": [
        "How many unique countries are in the dataset? What are the names of the countries? Print a list of the unique countries from the 'Area' column as well as the number of unique countries."
      ]
    },
    {
      "cell_type": "code",
      "execution_count": null,
      "metadata": {
        "colab": {
          "base_uri": "https://localhost:8080/"
        },
        "id": "2lNR3pg63Xgc",
        "outputId": "5651b961-3090-4666-b646-f873861c9130"
      },
      "outputs": [
        {
          "name": "stdout",
          "output_type": "stream",
          "text": [
            "['Afghanistan' 'Armenia' 'Azerbaijan' 'Bahrain' 'Bangladesh' 'Bhutan'\n",
            " 'Brunei Darussalam' 'Cambodia' 'China, Hong Kong SAR' 'China, Macao SAR'\n",
            " 'China, mainland' 'China, Taiwan Province of' 'Cyprus'\n",
            " \"Democratic People's Republic of Korea\" 'Georgia' 'India' 'Indonesia'\n",
            " 'Iran (Islamic Republic of)' 'Iraq' 'Israel' 'Japan' 'Jordan'\n",
            " 'Kazakhstan' 'Kuwait' 'Kyrgyzstan' \"Lao People's Democratic Republic\"\n",
            " 'Lebanon' 'Malaysia' 'Maldives' 'Mongolia' 'Myanmar' 'Nepal' 'Oman'\n",
            " 'Pakistan' 'Palestine' 'Philippines' 'Qatar' 'Republic of Korea'\n",
            " 'Saudi Arabia' 'Singapore' 'Sri Lanka' 'Syrian Arab Republic'\n",
            " 'Tajikistan' 'Thailand' 'Timor-Leste' 'Turkey' 'Turkmenistan'\n",
            " 'United Arab Emirates' 'Uzbekistan' 'Viet Nam' 'Yemen']\n",
            "Number of unique countries: 51\n"
          ]
        }
      ],
      "source": [
        "print(prod['Area'].unique())\n",
        "print('Number of unique countries: {}'.format(len(prod['Area'].unique())))"
      ]
    },
    {
      "cell_type": "markdown",
      "metadata": {
        "id": "7C6rzZOH3Xgc"
      },
      "source": [
        "What are the most common crops included in the dataset across all countries? Use value_counts() to print the number of occurrences of each crop category (column 'Item') in the dataframe."
      ]
    },
    {
      "cell_type": "code",
      "execution_count": null,
      "metadata": {
        "colab": {
          "base_uri": "https://localhost:8080/"
        },
        "id": "k1BA3EZu3Xgc",
        "outputId": "487a9af3-3f18-4dca-88ee-dc2f843c58cc"
      },
      "outputs": [
        {
          "name": "stdout",
          "output_type": "stream",
          "text": [
            "Roots and Tubers, Total    152\n",
            "Vegetables, fresh nes      152\n",
            "Vegetables Primary         152\n",
            "Fruit Primary              150\n",
            "Cereals, Total             144\n",
            "                          ... \n",
            "Tallowtree seed              3\n",
            "Gooseberries                 3\n",
            "Agave fibres nes             3\n",
            "Karite nuts (sheanuts)       2\n",
            "Cassava leaves               2\n",
            "Name: Item, Length: 165, dtype: int64\n"
          ]
        }
      ],
      "source": [
        "common  = prod['Item'].value_counts()\n",
        "print(common)"
      ]
    },
    {
      "cell_type": "markdown",
      "metadata": {
        "id": "Pl3LUlNWh9QV"
      },
      "source": []
    },
    {
      "cell_type": "markdown",
      "metadata": {
        "id": "UtO5cdTq3Xgc"
      },
      "source": [
        "Print a list of the countries in the dataframe sorted by the number of rows in which it appears."
      ]
    },
    {
      "cell_type": "code",
      "execution_count": null,
      "metadata": {
        "colab": {
          "base_uri": "https://localhost:8080/"
        },
        "id": "S_nGbh_K3Xgd",
        "outputId": "bdcd14b5-ebb0-4275-c69f-a3cd10a0f908"
      },
      "outputs": [
        {
          "data": {
            "text/plain": [
              "[('China, mainland', 398),\n",
              " ('Turkey', 325),\n",
              " ('Iran (Islamic Republic of)', 302),\n",
              " ('Japan', 288),\n",
              " ('India', 284),\n",
              " ('Cyprus', 273),\n",
              " ('China, Taiwan Province of', 267),\n",
              " ('Uzbekistan', 264),\n",
              " ('Pakistan', 263),\n",
              " ('Israel', 259),\n",
              " ('Thailand', 257),\n",
              " ('Philippines', 254),\n",
              " ('Syrian Arab Republic', 254),\n",
              " ('Kyrgyzstan', 251),\n",
              " ('Palestine', 243),\n",
              " ('Azerbaijan', 230),\n",
              " ('Kazakhstan', 230),\n",
              " ('Republic of Korea', 230),\n",
              " ('Lebanon', 228),\n",
              " ('Jordan', 224),\n",
              " ('Bangladesh', 223),\n",
              " ('Indonesia', 221),\n",
              " ('Iraq', 220),\n",
              " ('Yemen', 208),\n",
              " ('Nepal', 199),\n",
              " ('Georgia', 190),\n",
              " ('Sri Lanka', 180),\n",
              " ('Bhutan', 178),\n",
              " ('Malaysia', 174),\n",
              " ('Tajikistan', 172),\n",
              " ('Myanmar', 168),\n",
              " ('Viet Nam', 165),\n",
              " ('Armenia', 164),\n",
              " ('Afghanistan', 145),\n",
              " (\"Democratic People's Republic of Korea\", 138),\n",
              " (\"Lao People's Democratic Republic\", 138),\n",
              " ('Cambodia', 128),\n",
              " ('Kuwait', 119),\n",
              " ('Timor-Leste', 119),\n",
              " ('Turkmenistan', 119),\n",
              " ('Saudi Arabia', 112),\n",
              " ('United Arab Emirates', 112),\n",
              " ('Brunei Darussalam', 105),\n",
              " ('Oman', 102),\n",
              " ('Qatar', 101),\n",
              " ('Maldives', 93),\n",
              " ('Bahrain', 89),\n",
              " ('Singapore', 76),\n",
              " ('Mongolia', 74),\n",
              " ('China, Hong Kong SAR', 59),\n",
              " ('China, Macao SAR', 23)]"
            ]
          },
          "execution_count": 68,
          "metadata": {},
          "output_type": "execute_result"
        }
      ],
      "source": [
        "sorted_countries = sorted([(country, df.shape[0]) for country, df in prod.groupby('Area')],\n",
        "                          key=lambda x: x[1],\n",
        "                          reverse=True)\n",
        "\n",
        "# Display the sorted list\n",
        "sorted_countries"
      ]
    },
    {
      "cell_type": "markdown",
      "metadata": {
        "id": "IOQD2loo3Xgd"
      },
      "source": [
        "What are the trends in crop production for cereal crops (includes maize, wheat, etc.) from 1961 to 2019? Plot a line plot of crop production for the following countries: India, Japan, Iran, Turkey, and China (mainland). Only plot the values in the columns with format 'YXXXX'."
      ]
    },
    {
      "cell_type": "markdown",
      "metadata": {
        "id": "h6BCB4dv3Xgd"
      },
      "source": [
        "Step 1: filter the dataframe to only include rows for the specified countries."
      ]
    },
    {
      "cell_type": "code",
      "execution_count": null,
      "metadata": {
        "colab": {
          "base_uri": "https://localhost:8080/"
        },
        "id": "KYaQ1FOg3Xgd",
        "outputId": "9495e703-ca79-4c7f-d0c8-f3401c6f5361"
      },
      "outputs": [
        {
          "name": "stdout",
          "output_type": "stream",
          "text": [
            "      Area Code             Area  Item Code                              Item  \\\n",
            "1344         41  China, mainland        221               Almonds, with shell   \n",
            "1345         41  China, mainland        221               Almonds, with shell   \n",
            "1346         41  China, mainland        221               Almonds, with shell   \n",
            "1347         41  China, mainland        711  Anise, badian, fennel, coriander   \n",
            "1348         41  China, mainland        711  Anise, badian, fennel, coriander   \n",
            "...         ...              ...        ...                               ...   \n",
            "8765        223           Turkey       1729                   Treenuts, Total   \n",
            "8766        223           Turkey       1729                   Treenuts, Total   \n",
            "8767        223           Turkey       1735                Vegetables Primary   \n",
            "8768        223           Turkey       1735                Vegetables Primary   \n",
            "8769        223           Turkey       1735                Vegetables Primary   \n",
            "\n",
            "      Element Code         Element    Unit      Y1961 Y1961F      Y1962  ...  \\\n",
            "1344          5312  Area harvested      ha        NaN      M        NaN  ...   \n",
            "1345          5419           Yield   hg/ha        NaN    NaN        NaN  ...   \n",
            "1346          5510      Production  tonnes     5000.0      F     5500.0  ...   \n",
            "1347          5312  Area harvested      ha        NaN      M        NaN  ...   \n",
            "1348          5419           Yield   hg/ha        NaN    NaN        NaN  ...   \n",
            "...            ...             ...     ...        ...    ...        ...  ...   \n",
            "8765          5419           Yield   hg/ha     6935.0     Fc     8080.0  ...   \n",
            "8766          5510      Production  tonnes   227780.0      A   272310.0  ...   \n",
            "8767          5312  Area harvested      ha   318710.0      A   316735.0  ...   \n",
            "8768          5419           Yield   hg/ha   118770.0     Fc   122731.0  ...   \n",
            "8769          5510      Production  tonnes  3785315.0      A  3887315.0  ...   \n",
            "\n",
            "           Y2015  Y2015F       Y2016  Y2016F       Y2017  Y2017F       Y2018  \\\n",
            "1344     13493.0      Im     13159.0      Im     12797.0      Im     12513.0   \n",
            "1345     31928.0      Fc     32838.0      Fc     33602.0      Fc     34364.0   \n",
            "1346     43080.0      Im     43212.0      Im     43000.0       *     43000.0   \n",
            "1347     40304.0      Im     40862.0      Im     41629.0      Im     42375.0   \n",
            "1348     13026.0      Fc     13220.0      Fc     13408.0      Fc     13597.0   \n",
            "...          ...     ...         ...     ...         ...     ...         ...   \n",
            "8765     17743.0      Fc     10118.0      Fc     11865.0      Fc      8898.0   \n",
            "8766   1126505.0       A    937521.0       A   1118704.0       A   1136407.0   \n",
            "8767    688476.0       A    718405.0       A    742198.0       A    727822.0   \n",
            "8768    344183.0      Fc    339939.0      Fc    335806.0      Fc    331537.0   \n",
            "8769  23696207.0       A  24421408.0       A  24923427.0       A  24130023.0   \n",
            "\n",
            "      Y2018F       Y2019  Y2019F  \n",
            "1344      Im     12811.0      Im  \n",
            "1345      Fc     35126.0      Fc  \n",
            "1346       *     45000.0       *  \n",
            "1347      Im     43101.0      Im  \n",
            "1348      Fc     13785.0      Fc  \n",
            "...      ...         ...     ...  \n",
            "8765      Fc     10197.0      Fc  \n",
            "8766       A   1311555.0       A  \n",
            "8767       A    747417.0       A  \n",
            "8768      Fc    339021.0      Fc  \n",
            "8769       A  25338974.0       A  \n",
            "\n",
            "[1597 rows x 125 columns]\n"
          ]
        }
      ],
      "source": [
        "selected_countries = ['India', 'Japan', 'Iran (Islamic Republic of)', 'Turkey', 'China, mainland']\n",
        "sel_prod = prod[prod['Area'].isin(selected_countries)]\n",
        "print(sel_prod)\n",
        "# sel_prod['Area'].unique()"
      ]
    },
    {
      "cell_type": "markdown",
      "metadata": {
        "id": "HP5EPGKo3Xgd"
      },
      "source": [
        "Step 2: filter the columns to only include Area, Item, Element, and those matching the pattern 'YXXXX'."
      ]
    },
    {
      "cell_type": "code",
      "execution_count": null,
      "metadata": {
        "id": "7lSt84Vy3Xgd"
      },
      "outputs": [],
      "source": [
        "year_cols = [col for col in sel_prod.columns if (col.startswith('Y') and len(col) == 5)]"
      ]
    },
    {
      "cell_type": "code",
      "execution_count": null,
      "metadata": {
        "id": "X_7GZ4kR3Xgd"
      },
      "outputs": [],
      "source": [
        "sel_prod = sel_prod[['Area', 'Item', 'Element'] + year_cols]"
      ]
    },
    {
      "cell_type": "code",
      "execution_count": null,
      "metadata": {
        "colab": {
          "base_uri": "https://localhost:8080/",
          "height": 686
        },
        "id": "kSx8epTS3Xgd",
        "outputId": "6ee41de3-9add-4c59-9c49-8954ffd01b37"
      },
      "outputs": [
        {
          "data": {
            "text/html": [
              "\n",
              "  <div id=\"df-00e4b02a-bf4c-48ba-baea-ae3c8ec58bc6\" class=\"colab-df-container\">\n",
              "    <div>\n",
              "<style scoped>\n",
              "    .dataframe tbody tr th:only-of-type {\n",
              "        vertical-align: middle;\n",
              "    }\n",
              "\n",
              "    .dataframe tbody tr th {\n",
              "        vertical-align: top;\n",
              "    }\n",
              "\n",
              "    .dataframe thead th {\n",
              "        text-align: right;\n",
              "    }\n",
              "</style>\n",
              "<table border=\"1\" class=\"dataframe\">\n",
              "  <thead>\n",
              "    <tr style=\"text-align: right;\">\n",
              "      <th></th>\n",
              "      <th>Area</th>\n",
              "      <th>Item</th>\n",
              "      <th>Element</th>\n",
              "      <th>Y1961</th>\n",
              "      <th>Y1962</th>\n",
              "      <th>Y1963</th>\n",
              "      <th>Y1964</th>\n",
              "      <th>Y1965</th>\n",
              "      <th>Y1966</th>\n",
              "      <th>Y1967</th>\n",
              "      <th>...</th>\n",
              "      <th>Y2010</th>\n",
              "      <th>Y2011</th>\n",
              "      <th>Y2012</th>\n",
              "      <th>Y2013</th>\n",
              "      <th>Y2014</th>\n",
              "      <th>Y2015</th>\n",
              "      <th>Y2016</th>\n",
              "      <th>Y2017</th>\n",
              "      <th>Y2018</th>\n",
              "      <th>Y2019</th>\n",
              "    </tr>\n",
              "  </thead>\n",
              "  <tbody>\n",
              "    <tr>\n",
              "      <th>1344</th>\n",
              "      <td>China, mainland</td>\n",
              "      <td>Almonds, with shell</td>\n",
              "      <td>Area harvested</td>\n",
              "      <td>NaN</td>\n",
              "      <td>NaN</td>\n",
              "      <td>NaN</td>\n",
              "      <td>NaN</td>\n",
              "      <td>NaN</td>\n",
              "      <td>NaN</td>\n",
              "      <td>NaN</td>\n",
              "      <td>...</td>\n",
              "      <td>13000.0</td>\n",
              "      <td>14000.0</td>\n",
              "      <td>14500.0</td>\n",
              "      <td>14500.0</td>\n",
              "      <td>13994.0</td>\n",
              "      <td>13493.0</td>\n",
              "      <td>13159.0</td>\n",
              "      <td>12797.0</td>\n",
              "      <td>12513.0</td>\n",
              "      <td>12811.0</td>\n",
              "    </tr>\n",
              "    <tr>\n",
              "      <th>1345</th>\n",
              "      <td>China, mainland</td>\n",
              "      <td>Almonds, with shell</td>\n",
              "      <td>Yield</td>\n",
              "      <td>NaN</td>\n",
              "      <td>NaN</td>\n",
              "      <td>NaN</td>\n",
              "      <td>NaN</td>\n",
              "      <td>NaN</td>\n",
              "      <td>NaN</td>\n",
              "      <td>NaN</td>\n",
              "      <td>...</td>\n",
              "      <td>29231.0</td>\n",
              "      <td>30000.0</td>\n",
              "      <td>29655.0</td>\n",
              "      <td>29655.0</td>\n",
              "      <td>30660.0</td>\n",
              "      <td>31928.0</td>\n",
              "      <td>32838.0</td>\n",
              "      <td>33602.0</td>\n",
              "      <td>34364.0</td>\n",
              "      <td>35126.0</td>\n",
              "    </tr>\n",
              "    <tr>\n",
              "      <th>1346</th>\n",
              "      <td>China, mainland</td>\n",
              "      <td>Almonds, with shell</td>\n",
              "      <td>Production</td>\n",
              "      <td>5000.0</td>\n",
              "      <td>5500.0</td>\n",
              "      <td>5800.0</td>\n",
              "      <td>6500.0</td>\n",
              "      <td>7500.0</td>\n",
              "      <td>8000.0</td>\n",
              "      <td>7800.0</td>\n",
              "      <td>...</td>\n",
              "      <td>38000.0</td>\n",
              "      <td>42000.0</td>\n",
              "      <td>43000.0</td>\n",
              "      <td>43000.0</td>\n",
              "      <td>42905.0</td>\n",
              "      <td>43080.0</td>\n",
              "      <td>43212.0</td>\n",
              "      <td>43000.0</td>\n",
              "      <td>43000.0</td>\n",
              "      <td>45000.0</td>\n",
              "    </tr>\n",
              "    <tr>\n",
              "      <th>1347</th>\n",
              "      <td>China, mainland</td>\n",
              "      <td>Anise, badian, fennel, coriander</td>\n",
              "      <td>Area harvested</td>\n",
              "      <td>NaN</td>\n",
              "      <td>NaN</td>\n",
              "      <td>NaN</td>\n",
              "      <td>NaN</td>\n",
              "      <td>NaN</td>\n",
              "      <td>NaN</td>\n",
              "      <td>NaN</td>\n",
              "      <td>...</td>\n",
              "      <td>37000.0</td>\n",
              "      <td>37522.0</td>\n",
              "      <td>37000.0</td>\n",
              "      <td>37500.0</td>\n",
              "      <td>38630.0</td>\n",
              "      <td>40304.0</td>\n",
              "      <td>40862.0</td>\n",
              "      <td>41629.0</td>\n",
              "      <td>42375.0</td>\n",
              "      <td>43101.0</td>\n",
              "    </tr>\n",
              "    <tr>\n",
              "      <th>1348</th>\n",
              "      <td>China, mainland</td>\n",
              "      <td>Anise, badian, fennel, coriander</td>\n",
              "      <td>Yield</td>\n",
              "      <td>NaN</td>\n",
              "      <td>NaN</td>\n",
              "      <td>NaN</td>\n",
              "      <td>NaN</td>\n",
              "      <td>NaN</td>\n",
              "      <td>NaN</td>\n",
              "      <td>NaN</td>\n",
              "      <td>...</td>\n",
              "      <td>11892.0</td>\n",
              "      <td>12153.0</td>\n",
              "      <td>12703.0</td>\n",
              "      <td>12587.0</td>\n",
              "      <td>12756.0</td>\n",
              "      <td>13026.0</td>\n",
              "      <td>13220.0</td>\n",
              "      <td>13408.0</td>\n",
              "      <td>13597.0</td>\n",
              "      <td>13785.0</td>\n",
              "    </tr>\n",
              "    <tr>\n",
              "      <th>...</th>\n",
              "      <td>...</td>\n",
              "      <td>...</td>\n",
              "      <td>...</td>\n",
              "      <td>...</td>\n",
              "      <td>...</td>\n",
              "      <td>...</td>\n",
              "      <td>...</td>\n",
              "      <td>...</td>\n",
              "      <td>...</td>\n",
              "      <td>...</td>\n",
              "      <td>...</td>\n",
              "      <td>...</td>\n",
              "      <td>...</td>\n",
              "      <td>...</td>\n",
              "      <td>...</td>\n",
              "      <td>...</td>\n",
              "      <td>...</td>\n",
              "      <td>...</td>\n",
              "      <td>...</td>\n",
              "      <td>...</td>\n",
              "      <td>...</td>\n",
              "    </tr>\n",
              "    <tr>\n",
              "      <th>8765</th>\n",
              "      <td>Turkey</td>\n",
              "      <td>Treenuts, Total</td>\n",
              "      <td>Yield</td>\n",
              "      <td>6935.0</td>\n",
              "      <td>8080.0</td>\n",
              "      <td>6837.0</td>\n",
              "      <td>9836.0</td>\n",
              "      <td>5754.0</td>\n",
              "      <td>9213.0</td>\n",
              "      <td>6391.0</td>\n",
              "      <td>...</td>\n",
              "      <td>16450.0</td>\n",
              "      <td>13676.0</td>\n",
              "      <td>18066.0</td>\n",
              "      <td>16407.0</td>\n",
              "      <td>13789.0</td>\n",
              "      <td>17743.0</td>\n",
              "      <td>10118.0</td>\n",
              "      <td>11865.0</td>\n",
              "      <td>8898.0</td>\n",
              "      <td>10197.0</td>\n",
              "    </tr>\n",
              "    <tr>\n",
              "      <th>8766</th>\n",
              "      <td>Turkey</td>\n",
              "      <td>Treenuts, Total</td>\n",
              "      <td>Production</td>\n",
              "      <td>227780.0</td>\n",
              "      <td>272310.0</td>\n",
              "      <td>232590.0</td>\n",
              "      <td>344415.0</td>\n",
              "      <td>204670.0</td>\n",
              "      <td>331900.0</td>\n",
              "      <td>233800.0</td>\n",
              "      <td>...</td>\n",
              "      <td>1023186.0</td>\n",
              "      <td>857854.0</td>\n",
              "      <td>1153854.0</td>\n",
              "      <td>995221.0</td>\n",
              "      <td>850484.0</td>\n",
              "      <td>1126505.0</td>\n",
              "      <td>937521.0</td>\n",
              "      <td>1118704.0</td>\n",
              "      <td>1136407.0</td>\n",
              "      <td>1311555.0</td>\n",
              "    </tr>\n",
              "    <tr>\n",
              "      <th>8767</th>\n",
              "      <td>Turkey</td>\n",
              "      <td>Vegetables Primary</td>\n",
              "      <td>Area harvested</td>\n",
              "      <td>318710.0</td>\n",
              "      <td>316735.0</td>\n",
              "      <td>329450.0</td>\n",
              "      <td>343860.0</td>\n",
              "      <td>341070.0</td>\n",
              "      <td>354635.0</td>\n",
              "      <td>353450.0</td>\n",
              "      <td>...</td>\n",
              "      <td>656866.0</td>\n",
              "      <td>668519.0</td>\n",
              "      <td>688339.0</td>\n",
              "      <td>674210.0</td>\n",
              "      <td>666577.0</td>\n",
              "      <td>688476.0</td>\n",
              "      <td>718405.0</td>\n",
              "      <td>742198.0</td>\n",
              "      <td>727822.0</td>\n",
              "      <td>747417.0</td>\n",
              "    </tr>\n",
              "    <tr>\n",
              "      <th>8768</th>\n",
              "      <td>Turkey</td>\n",
              "      <td>Vegetables Primary</td>\n",
              "      <td>Yield</td>\n",
              "      <td>118770.0</td>\n",
              "      <td>122731.0</td>\n",
              "      <td>124784.0</td>\n",
              "      <td>123632.0</td>\n",
              "      <td>126244.0</td>\n",
              "      <td>118046.0</td>\n",
              "      <td>124751.0</td>\n",
              "      <td>...</td>\n",
              "      <td>314461.0</td>\n",
              "      <td>328767.0</td>\n",
              "      <td>320240.0</td>\n",
              "      <td>338086.0</td>\n",
              "      <td>340307.0</td>\n",
              "      <td>344183.0</td>\n",
              "      <td>339939.0</td>\n",
              "      <td>335806.0</td>\n",
              "      <td>331537.0</td>\n",
              "      <td>339021.0</td>\n",
              "    </tr>\n",
              "    <tr>\n",
              "      <th>8769</th>\n",
              "      <td>Turkey</td>\n",
              "      <td>Vegetables Primary</td>\n",
              "      <td>Production</td>\n",
              "      <td>3785315.0</td>\n",
              "      <td>3887315.0</td>\n",
              "      <td>4111015.0</td>\n",
              "      <td>4251215.0</td>\n",
              "      <td>4305815.0</td>\n",
              "      <td>4186315.0</td>\n",
              "      <td>4409315.0</td>\n",
              "      <td>...</td>\n",
              "      <td>20655850.0</td>\n",
              "      <td>21978709.0</td>\n",
              "      <td>22043387.0</td>\n",
              "      <td>22794099.0</td>\n",
              "      <td>22684068.0</td>\n",
              "      <td>23696207.0</td>\n",
              "      <td>24421408.0</td>\n",
              "      <td>24923427.0</td>\n",
              "      <td>24130023.0</td>\n",
              "      <td>25338974.0</td>\n",
              "    </tr>\n",
              "  </tbody>\n",
              "</table>\n",
              "<p>1597 rows × 62 columns</p>\n",
              "</div>\n",
              "    <div class=\"colab-df-buttons\">\n",
              "\n",
              "  <div class=\"colab-df-container\">\n",
              "    <button class=\"colab-df-convert\" onclick=\"convertToInteractive('df-00e4b02a-bf4c-48ba-baea-ae3c8ec58bc6')\"\n",
              "            title=\"Convert this dataframe to an interactive table.\"\n",
              "            style=\"display:none;\">\n",
              "\n",
              "  <svg xmlns=\"http://www.w3.org/2000/svg\" height=\"24px\" viewBox=\"0 -960 960 960\">\n",
              "    <path d=\"M120-120v-720h720v720H120Zm60-500h600v-160H180v160Zm220 220h160v-160H400v160Zm0 220h160v-160H400v160ZM180-400h160v-160H180v160Zm440 0h160v-160H620v160ZM180-180h160v-160H180v160Zm440 0h160v-160H620v160Z\"/>\n",
              "  </svg>\n",
              "    </button>\n",
              "\n",
              "  <style>\n",
              "    .colab-df-container {\n",
              "      display:flex;\n",
              "      gap: 12px;\n",
              "    }\n",
              "\n",
              "    .colab-df-convert {\n",
              "      background-color: #E8F0FE;\n",
              "      border: none;\n",
              "      border-radius: 50%;\n",
              "      cursor: pointer;\n",
              "      display: none;\n",
              "      fill: #1967D2;\n",
              "      height: 32px;\n",
              "      padding: 0 0 0 0;\n",
              "      width: 32px;\n",
              "    }\n",
              "\n",
              "    .colab-df-convert:hover {\n",
              "      background-color: #E2EBFA;\n",
              "      box-shadow: 0px 1px 2px rgba(60, 64, 67, 0.3), 0px 1px 3px 1px rgba(60, 64, 67, 0.15);\n",
              "      fill: #174EA6;\n",
              "    }\n",
              "\n",
              "    .colab-df-buttons div {\n",
              "      margin-bottom: 4px;\n",
              "    }\n",
              "\n",
              "    [theme=dark] .colab-df-convert {\n",
              "      background-color: #3B4455;\n",
              "      fill: #D2E3FC;\n",
              "    }\n",
              "\n",
              "    [theme=dark] .colab-df-convert:hover {\n",
              "      background-color: #434B5C;\n",
              "      box-shadow: 0px 1px 3px 1px rgba(0, 0, 0, 0.15);\n",
              "      filter: drop-shadow(0px 1px 2px rgba(0, 0, 0, 0.3));\n",
              "      fill: #FFFFFF;\n",
              "    }\n",
              "  </style>\n",
              "\n",
              "    <script>\n",
              "      const buttonEl =\n",
              "        document.querySelector('#df-00e4b02a-bf4c-48ba-baea-ae3c8ec58bc6 button.colab-df-convert');\n",
              "      buttonEl.style.display =\n",
              "        google.colab.kernel.accessAllowed ? 'block' : 'none';\n",
              "\n",
              "      async function convertToInteractive(key) {\n",
              "        const element = document.querySelector('#df-00e4b02a-bf4c-48ba-baea-ae3c8ec58bc6');\n",
              "        const dataTable =\n",
              "          await google.colab.kernel.invokeFunction('convertToInteractive',\n",
              "                                                    [key], {});\n",
              "        if (!dataTable) return;\n",
              "\n",
              "        const docLinkHtml = 'Like what you see? Visit the ' +\n",
              "          '<a target=\"_blank\" href=https://colab.research.google.com/notebooks/data_table.ipynb>data table notebook</a>'\n",
              "          + ' to learn more about interactive tables.';\n",
              "        element.innerHTML = '';\n",
              "        dataTable['output_type'] = 'display_data';\n",
              "        await google.colab.output.renderOutput(dataTable, element);\n",
              "        const docLink = document.createElement('div');\n",
              "        docLink.innerHTML = docLinkHtml;\n",
              "        element.appendChild(docLink);\n",
              "      }\n",
              "    </script>\n",
              "  </div>\n",
              "\n",
              "\n",
              "<div id=\"df-dd1fa351-84c8-4233-9ec5-17135832e509\">\n",
              "  <button class=\"colab-df-quickchart\" onclick=\"quickchart('df-dd1fa351-84c8-4233-9ec5-17135832e509')\"\n",
              "            title=\"Suggest charts\"\n",
              "            style=\"display:none;\">\n",
              "\n",
              "<svg xmlns=\"http://www.w3.org/2000/svg\" height=\"24px\"viewBox=\"0 0 24 24\"\n",
              "     width=\"24px\">\n",
              "    <g>\n",
              "        <path d=\"M19 3H5c-1.1 0-2 .9-2 2v14c0 1.1.9 2 2 2h14c1.1 0 2-.9 2-2V5c0-1.1-.9-2-2-2zM9 17H7v-7h2v7zm4 0h-2V7h2v10zm4 0h-2v-4h2v4z\"/>\n",
              "    </g>\n",
              "</svg>\n",
              "  </button>\n",
              "\n",
              "<style>\n",
              "  .colab-df-quickchart {\n",
              "      --bg-color: #E8F0FE;\n",
              "      --fill-color: #1967D2;\n",
              "      --hover-bg-color: #E2EBFA;\n",
              "      --hover-fill-color: #174EA6;\n",
              "      --disabled-fill-color: #AAA;\n",
              "      --disabled-bg-color: #DDD;\n",
              "  }\n",
              "\n",
              "  [theme=dark] .colab-df-quickchart {\n",
              "      --bg-color: #3B4455;\n",
              "      --fill-color: #D2E3FC;\n",
              "      --hover-bg-color: #434B5C;\n",
              "      --hover-fill-color: #FFFFFF;\n",
              "      --disabled-bg-color: #3B4455;\n",
              "      --disabled-fill-color: #666;\n",
              "  }\n",
              "\n",
              "  .colab-df-quickchart {\n",
              "    background-color: var(--bg-color);\n",
              "    border: none;\n",
              "    border-radius: 50%;\n",
              "    cursor: pointer;\n",
              "    display: none;\n",
              "    fill: var(--fill-color);\n",
              "    height: 32px;\n",
              "    padding: 0;\n",
              "    width: 32px;\n",
              "  }\n",
              "\n",
              "  .colab-df-quickchart:hover {\n",
              "    background-color: var(--hover-bg-color);\n",
              "    box-shadow: 0 1px 2px rgba(60, 64, 67, 0.3), 0 1px 3px 1px rgba(60, 64, 67, 0.15);\n",
              "    fill: var(--button-hover-fill-color);\n",
              "  }\n",
              "\n",
              "  .colab-df-quickchart-complete:disabled,\n",
              "  .colab-df-quickchart-complete:disabled:hover {\n",
              "    background-color: var(--disabled-bg-color);\n",
              "    fill: var(--disabled-fill-color);\n",
              "    box-shadow: none;\n",
              "  }\n",
              "\n",
              "  .colab-df-spinner {\n",
              "    border: 2px solid var(--fill-color);\n",
              "    border-color: transparent;\n",
              "    border-bottom-color: var(--fill-color);\n",
              "    animation:\n",
              "      spin 1s steps(1) infinite;\n",
              "  }\n",
              "\n",
              "  @keyframes spin {\n",
              "    0% {\n",
              "      border-color: transparent;\n",
              "      border-bottom-color: var(--fill-color);\n",
              "      border-left-color: var(--fill-color);\n",
              "    }\n",
              "    20% {\n",
              "      border-color: transparent;\n",
              "      border-left-color: var(--fill-color);\n",
              "      border-top-color: var(--fill-color);\n",
              "    }\n",
              "    30% {\n",
              "      border-color: transparent;\n",
              "      border-left-color: var(--fill-color);\n",
              "      border-top-color: var(--fill-color);\n",
              "      border-right-color: var(--fill-color);\n",
              "    }\n",
              "    40% {\n",
              "      border-color: transparent;\n",
              "      border-right-color: var(--fill-color);\n",
              "      border-top-color: var(--fill-color);\n",
              "    }\n",
              "    60% {\n",
              "      border-color: transparent;\n",
              "      border-right-color: var(--fill-color);\n",
              "    }\n",
              "    80% {\n",
              "      border-color: transparent;\n",
              "      border-right-color: var(--fill-color);\n",
              "      border-bottom-color: var(--fill-color);\n",
              "    }\n",
              "    90% {\n",
              "      border-color: transparent;\n",
              "      border-bottom-color: var(--fill-color);\n",
              "    }\n",
              "  }\n",
              "</style>\n",
              "\n",
              "  <script>\n",
              "    async function quickchart(key) {\n",
              "      const quickchartButtonEl =\n",
              "        document.querySelector('#' + key + ' button');\n",
              "      quickchartButtonEl.disabled = true;  // To prevent multiple clicks.\n",
              "      quickchartButtonEl.classList.add('colab-df-spinner');\n",
              "      try {\n",
              "        const charts = await google.colab.kernel.invokeFunction(\n",
              "            'suggestCharts', [key], {});\n",
              "      } catch (error) {\n",
              "        console.error('Error during call to suggestCharts:', error);\n",
              "      }\n",
              "      quickchartButtonEl.classList.remove('colab-df-spinner');\n",
              "      quickchartButtonEl.classList.add('colab-df-quickchart-complete');\n",
              "    }\n",
              "    (() => {\n",
              "      let quickchartButtonEl =\n",
              "        document.querySelector('#df-dd1fa351-84c8-4233-9ec5-17135832e509 button');\n",
              "      quickchartButtonEl.style.display =\n",
              "        google.colab.kernel.accessAllowed ? 'block' : 'none';\n",
              "    })();\n",
              "  </script>\n",
              "</div>\n",
              "    </div>\n",
              "  </div>\n"
            ],
            "text/plain": [
              "                 Area                              Item         Element  \\\n",
              "1344  China, mainland               Almonds, with shell  Area harvested   \n",
              "1345  China, mainland               Almonds, with shell           Yield   \n",
              "1346  China, mainland               Almonds, with shell      Production   \n",
              "1347  China, mainland  Anise, badian, fennel, coriander  Area harvested   \n",
              "1348  China, mainland  Anise, badian, fennel, coriander           Yield   \n",
              "...               ...                               ...             ...   \n",
              "8765           Turkey                   Treenuts, Total           Yield   \n",
              "8766           Turkey                   Treenuts, Total      Production   \n",
              "8767           Turkey                Vegetables Primary  Area harvested   \n",
              "8768           Turkey                Vegetables Primary           Yield   \n",
              "8769           Turkey                Vegetables Primary      Production   \n",
              "\n",
              "          Y1961      Y1962      Y1963      Y1964      Y1965      Y1966  \\\n",
              "1344        NaN        NaN        NaN        NaN        NaN        NaN   \n",
              "1345        NaN        NaN        NaN        NaN        NaN        NaN   \n",
              "1346     5000.0     5500.0     5800.0     6500.0     7500.0     8000.0   \n",
              "1347        NaN        NaN        NaN        NaN        NaN        NaN   \n",
              "1348        NaN        NaN        NaN        NaN        NaN        NaN   \n",
              "...         ...        ...        ...        ...        ...        ...   \n",
              "8765     6935.0     8080.0     6837.0     9836.0     5754.0     9213.0   \n",
              "8766   227780.0   272310.0   232590.0   344415.0   204670.0   331900.0   \n",
              "8767   318710.0   316735.0   329450.0   343860.0   341070.0   354635.0   \n",
              "8768   118770.0   122731.0   124784.0   123632.0   126244.0   118046.0   \n",
              "8769  3785315.0  3887315.0  4111015.0  4251215.0  4305815.0  4186315.0   \n",
              "\n",
              "          Y1967  ...       Y2010       Y2011       Y2012       Y2013  \\\n",
              "1344        NaN  ...     13000.0     14000.0     14500.0     14500.0   \n",
              "1345        NaN  ...     29231.0     30000.0     29655.0     29655.0   \n",
              "1346     7800.0  ...     38000.0     42000.0     43000.0     43000.0   \n",
              "1347        NaN  ...     37000.0     37522.0     37000.0     37500.0   \n",
              "1348        NaN  ...     11892.0     12153.0     12703.0     12587.0   \n",
              "...         ...  ...         ...         ...         ...         ...   \n",
              "8765     6391.0  ...     16450.0     13676.0     18066.0     16407.0   \n",
              "8766   233800.0  ...   1023186.0    857854.0   1153854.0    995221.0   \n",
              "8767   353450.0  ...    656866.0    668519.0    688339.0    674210.0   \n",
              "8768   124751.0  ...    314461.0    328767.0    320240.0    338086.0   \n",
              "8769  4409315.0  ...  20655850.0  21978709.0  22043387.0  22794099.0   \n",
              "\n",
              "           Y2014       Y2015       Y2016       Y2017       Y2018       Y2019  \n",
              "1344     13994.0     13493.0     13159.0     12797.0     12513.0     12811.0  \n",
              "1345     30660.0     31928.0     32838.0     33602.0     34364.0     35126.0  \n",
              "1346     42905.0     43080.0     43212.0     43000.0     43000.0     45000.0  \n",
              "1347     38630.0     40304.0     40862.0     41629.0     42375.0     43101.0  \n",
              "1348     12756.0     13026.0     13220.0     13408.0     13597.0     13785.0  \n",
              "...          ...         ...         ...         ...         ...         ...  \n",
              "8765     13789.0     17743.0     10118.0     11865.0      8898.0     10197.0  \n",
              "8766    850484.0   1126505.0    937521.0   1118704.0   1136407.0   1311555.0  \n",
              "8767    666577.0    688476.0    718405.0    742198.0    727822.0    747417.0  \n",
              "8768    340307.0    344183.0    339939.0    335806.0    331537.0    339021.0  \n",
              "8769  22684068.0  23696207.0  24421408.0  24923427.0  24130023.0  25338974.0  \n",
              "\n",
              "[1597 rows x 62 columns]"
            ]
          },
          "execution_count": 72,
          "metadata": {},
          "output_type": "execute_result"
        }
      ],
      "source": [
        "sel_prod"
      ]
    },
    {
      "cell_type": "markdown",
      "metadata": {
        "id": "pRTvvDNl3Xgd"
      },
      "source": [
        "Step 3: filter that dataframe to include only the rows for which Element has the value 'Production' and Item contains 'Cereals, Total'."
      ]
    },
    {
      "cell_type": "code",
      "execution_count": null,
      "metadata": {
        "colab": {
          "base_uri": "https://localhost:8080/"
        },
        "id": "BDrNHb1S3Xgd",
        "outputId": "37a5b935-3e1c-456d-d05f-4008e9d6ed13"
      },
      "outputs": [
        {
          "name": "stdout",
          "output_type": "stream",
          "text": [
            "        Area            Item     Element       Y1961       Y1962       Y1963  \\\n",
            "2860   India  Cereals, Total  Production  87376496.0  87257552.0  90373008.0   \n",
            "4150   Japan  Cereals, Total  Production  20318660.0  20635150.0  19470310.0   \n",
            "8736  Turkey  Cereals, Total  Production  12729100.0  14728000.0  17487100.0   \n",
            "\n",
            "           Y1964       Y1965       Y1966       Y1967  ...        Y2010  \\\n",
            "2860  93706000.0  79699504.0  80137608.0  95453504.0  ...  267838308.0   \n",
            "4150  19079380.0  18925506.0  18915600.0  21023600.0  ...   11454614.0   \n",
            "8736  14454700.0  14756700.0  16511200.0  16962300.0  ...   32764875.0   \n",
            "\n",
            "            Y2011        Y2012        Y2013        Y2014        Y2015  \\\n",
            "2860  287860000.0  293290000.0  294909510.0  296010000.0  284333000.0   \n",
            "4150   11657492.0   12166481.0   12264625.0   12285001.0   12141378.0   \n",
            "8736   35195055.0   33370865.0   37475610.0   32708005.0   38632438.0   \n",
            "\n",
            "            Y2016        Y2017        Y2018        Y2019  \n",
            "2860  297850000.0  310782330.0  321556400.0  324300640.0  \n",
            "4150   11924607.0   11903422.0   11575093.0   11829777.0  \n",
            "8736   35276615.0   36126157.0   34395628.0   34398698.0  \n",
            "\n",
            "[3 rows x 62 columns]\n"
          ]
        }
      ],
      "source": [
        "sel_prod = sel_prod[(sel_prod['Element'] == 'Production') & (sel_prod['Item'].str.contains('Cereals, Total'))]\n",
        "sel_prod = sel_prod[sel_prod['Area'].isin(['India', 'Japan', 'Turkey']) ]\n",
        "print(sel_prod)"
      ]
    },
    {
      "cell_type": "markdown",
      "metadata": {
        "id": "7O_vVGUv3Xgd"
      },
      "source": [
        "Step 4: Plot the line plot of production values from 1961 to 2019 for each of the 3 countries (each country should be a separate line). Only the 'YXXXX' columns should be used for the line plot values.\n",
        "\n",
        "Note: pandas by default plots by column, so to plot each of the countries as its own line, we need to transpose the dataframe so that each column contains the values for one country."
      ]
    },
    {
      "cell_type": "code",
      "execution_count": null,
      "metadata": {
        "id": "p2nsOe0s3Xgd"
      },
      "outputs": [],
      "source": [
        "sel_prod_t = sel_prod.T"
      ]
    },
    {
      "cell_type": "code",
      "execution_count": null,
      "metadata": {
        "colab": {
          "base_uri": "https://localhost:8080/",
          "height": 423
        },
        "id": "Huiphs203Xgd",
        "outputId": "adaef872-2bb6-442e-8da5-d33180ca992e"
      },
      "outputs": [
        {
          "data": {
            "text/html": [
              "\n",
              "  <div id=\"df-97cd33fd-7be4-4d85-bbc4-fcae85e6f013\" class=\"colab-df-container\">\n",
              "    <div>\n",
              "<style scoped>\n",
              "    .dataframe tbody tr th:only-of-type {\n",
              "        vertical-align: middle;\n",
              "    }\n",
              "\n",
              "    .dataframe tbody tr th {\n",
              "        vertical-align: top;\n",
              "    }\n",
              "\n",
              "    .dataframe thead th {\n",
              "        text-align: right;\n",
              "    }\n",
              "</style>\n",
              "<table border=\"1\" class=\"dataframe\">\n",
              "  <thead>\n",
              "    <tr style=\"text-align: right;\">\n",
              "      <th></th>\n",
              "      <th>2860</th>\n",
              "      <th>4150</th>\n",
              "      <th>8736</th>\n",
              "    </tr>\n",
              "  </thead>\n",
              "  <tbody>\n",
              "    <tr>\n",
              "      <th>Area</th>\n",
              "      <td>India</td>\n",
              "      <td>Japan</td>\n",
              "      <td>Turkey</td>\n",
              "    </tr>\n",
              "    <tr>\n",
              "      <th>Item</th>\n",
              "      <td>Cereals, Total</td>\n",
              "      <td>Cereals, Total</td>\n",
              "      <td>Cereals, Total</td>\n",
              "    </tr>\n",
              "    <tr>\n",
              "      <th>Element</th>\n",
              "      <td>Production</td>\n",
              "      <td>Production</td>\n",
              "      <td>Production</td>\n",
              "    </tr>\n",
              "    <tr>\n",
              "      <th>Y1961</th>\n",
              "      <td>87376496.0</td>\n",
              "      <td>20318660.0</td>\n",
              "      <td>12729100.0</td>\n",
              "    </tr>\n",
              "    <tr>\n",
              "      <th>Y1962</th>\n",
              "      <td>87257552.0</td>\n",
              "      <td>20635150.0</td>\n",
              "      <td>14728000.0</td>\n",
              "    </tr>\n",
              "    <tr>\n",
              "      <th>...</th>\n",
              "      <td>...</td>\n",
              "      <td>...</td>\n",
              "      <td>...</td>\n",
              "    </tr>\n",
              "    <tr>\n",
              "      <th>Y2015</th>\n",
              "      <td>284333000.0</td>\n",
              "      <td>12141378.0</td>\n",
              "      <td>38632438.0</td>\n",
              "    </tr>\n",
              "    <tr>\n",
              "      <th>Y2016</th>\n",
              "      <td>297850000.0</td>\n",
              "      <td>11924607.0</td>\n",
              "      <td>35276615.0</td>\n",
              "    </tr>\n",
              "    <tr>\n",
              "      <th>Y2017</th>\n",
              "      <td>310782330.0</td>\n",
              "      <td>11903422.0</td>\n",
              "      <td>36126157.0</td>\n",
              "    </tr>\n",
              "    <tr>\n",
              "      <th>Y2018</th>\n",
              "      <td>321556400.0</td>\n",
              "      <td>11575093.0</td>\n",
              "      <td>34395628.0</td>\n",
              "    </tr>\n",
              "    <tr>\n",
              "      <th>Y2019</th>\n",
              "      <td>324300640.0</td>\n",
              "      <td>11829777.0</td>\n",
              "      <td>34398698.0</td>\n",
              "    </tr>\n",
              "  </tbody>\n",
              "</table>\n",
              "<p>62 rows × 3 columns</p>\n",
              "</div>\n",
              "    <div class=\"colab-df-buttons\">\n",
              "\n",
              "  <div class=\"colab-df-container\">\n",
              "    <button class=\"colab-df-convert\" onclick=\"convertToInteractive('df-97cd33fd-7be4-4d85-bbc4-fcae85e6f013')\"\n",
              "            title=\"Convert this dataframe to an interactive table.\"\n",
              "            style=\"display:none;\">\n",
              "\n",
              "  <svg xmlns=\"http://www.w3.org/2000/svg\" height=\"24px\" viewBox=\"0 -960 960 960\">\n",
              "    <path d=\"M120-120v-720h720v720H120Zm60-500h600v-160H180v160Zm220 220h160v-160H400v160Zm0 220h160v-160H400v160ZM180-400h160v-160H180v160Zm440 0h160v-160H620v160ZM180-180h160v-160H180v160Zm440 0h160v-160H620v160Z\"/>\n",
              "  </svg>\n",
              "    </button>\n",
              "\n",
              "  <style>\n",
              "    .colab-df-container {\n",
              "      display:flex;\n",
              "      gap: 12px;\n",
              "    }\n",
              "\n",
              "    .colab-df-convert {\n",
              "      background-color: #E8F0FE;\n",
              "      border: none;\n",
              "      border-radius: 50%;\n",
              "      cursor: pointer;\n",
              "      display: none;\n",
              "      fill: #1967D2;\n",
              "      height: 32px;\n",
              "      padding: 0 0 0 0;\n",
              "      width: 32px;\n",
              "    }\n",
              "\n",
              "    .colab-df-convert:hover {\n",
              "      background-color: #E2EBFA;\n",
              "      box-shadow: 0px 1px 2px rgba(60, 64, 67, 0.3), 0px 1px 3px 1px rgba(60, 64, 67, 0.15);\n",
              "      fill: #174EA6;\n",
              "    }\n",
              "\n",
              "    .colab-df-buttons div {\n",
              "      margin-bottom: 4px;\n",
              "    }\n",
              "\n",
              "    [theme=dark] .colab-df-convert {\n",
              "      background-color: #3B4455;\n",
              "      fill: #D2E3FC;\n",
              "    }\n",
              "\n",
              "    [theme=dark] .colab-df-convert:hover {\n",
              "      background-color: #434B5C;\n",
              "      box-shadow: 0px 1px 3px 1px rgba(0, 0, 0, 0.15);\n",
              "      filter: drop-shadow(0px 1px 2px rgba(0, 0, 0, 0.3));\n",
              "      fill: #FFFFFF;\n",
              "    }\n",
              "  </style>\n",
              "\n",
              "    <script>\n",
              "      const buttonEl =\n",
              "        document.querySelector('#df-97cd33fd-7be4-4d85-bbc4-fcae85e6f013 button.colab-df-convert');\n",
              "      buttonEl.style.display =\n",
              "        google.colab.kernel.accessAllowed ? 'block' : 'none';\n",
              "\n",
              "      async function convertToInteractive(key) {\n",
              "        const element = document.querySelector('#df-97cd33fd-7be4-4d85-bbc4-fcae85e6f013');\n",
              "        const dataTable =\n",
              "          await google.colab.kernel.invokeFunction('convertToInteractive',\n",
              "                                                    [key], {});\n",
              "        if (!dataTable) return;\n",
              "\n",
              "        const docLinkHtml = 'Like what you see? Visit the ' +\n",
              "          '<a target=\"_blank\" href=https://colab.research.google.com/notebooks/data_table.ipynb>data table notebook</a>'\n",
              "          + ' to learn more about interactive tables.';\n",
              "        element.innerHTML = '';\n",
              "        dataTable['output_type'] = 'display_data';\n",
              "        await google.colab.output.renderOutput(dataTable, element);\n",
              "        const docLink = document.createElement('div');\n",
              "        docLink.innerHTML = docLinkHtml;\n",
              "        element.appendChild(docLink);\n",
              "      }\n",
              "    </script>\n",
              "  </div>\n",
              "\n",
              "\n",
              "<div id=\"df-346d9235-c531-43e9-bb42-a1dce4bda277\">\n",
              "  <button class=\"colab-df-quickchart\" onclick=\"quickchart('df-346d9235-c531-43e9-bb42-a1dce4bda277')\"\n",
              "            title=\"Suggest charts\"\n",
              "            style=\"display:none;\">\n",
              "\n",
              "<svg xmlns=\"http://www.w3.org/2000/svg\" height=\"24px\"viewBox=\"0 0 24 24\"\n",
              "     width=\"24px\">\n",
              "    <g>\n",
              "        <path d=\"M19 3H5c-1.1 0-2 .9-2 2v14c0 1.1.9 2 2 2h14c1.1 0 2-.9 2-2V5c0-1.1-.9-2-2-2zM9 17H7v-7h2v7zm4 0h-2V7h2v10zm4 0h-2v-4h2v4z\"/>\n",
              "    </g>\n",
              "</svg>\n",
              "  </button>\n",
              "\n",
              "<style>\n",
              "  .colab-df-quickchart {\n",
              "      --bg-color: #E8F0FE;\n",
              "      --fill-color: #1967D2;\n",
              "      --hover-bg-color: #E2EBFA;\n",
              "      --hover-fill-color: #174EA6;\n",
              "      --disabled-fill-color: #AAA;\n",
              "      --disabled-bg-color: #DDD;\n",
              "  }\n",
              "\n",
              "  [theme=dark] .colab-df-quickchart {\n",
              "      --bg-color: #3B4455;\n",
              "      --fill-color: #D2E3FC;\n",
              "      --hover-bg-color: #434B5C;\n",
              "      --hover-fill-color: #FFFFFF;\n",
              "      --disabled-bg-color: #3B4455;\n",
              "      --disabled-fill-color: #666;\n",
              "  }\n",
              "\n",
              "  .colab-df-quickchart {\n",
              "    background-color: var(--bg-color);\n",
              "    border: none;\n",
              "    border-radius: 50%;\n",
              "    cursor: pointer;\n",
              "    display: none;\n",
              "    fill: var(--fill-color);\n",
              "    height: 32px;\n",
              "    padding: 0;\n",
              "    width: 32px;\n",
              "  }\n",
              "\n",
              "  .colab-df-quickchart:hover {\n",
              "    background-color: var(--hover-bg-color);\n",
              "    box-shadow: 0 1px 2px rgba(60, 64, 67, 0.3), 0 1px 3px 1px rgba(60, 64, 67, 0.15);\n",
              "    fill: var(--button-hover-fill-color);\n",
              "  }\n",
              "\n",
              "  .colab-df-quickchart-complete:disabled,\n",
              "  .colab-df-quickchart-complete:disabled:hover {\n",
              "    background-color: var(--disabled-bg-color);\n",
              "    fill: var(--disabled-fill-color);\n",
              "    box-shadow: none;\n",
              "  }\n",
              "\n",
              "  .colab-df-spinner {\n",
              "    border: 2px solid var(--fill-color);\n",
              "    border-color: transparent;\n",
              "    border-bottom-color: var(--fill-color);\n",
              "    animation:\n",
              "      spin 1s steps(1) infinite;\n",
              "  }\n",
              "\n",
              "  @keyframes spin {\n",
              "    0% {\n",
              "      border-color: transparent;\n",
              "      border-bottom-color: var(--fill-color);\n",
              "      border-left-color: var(--fill-color);\n",
              "    }\n",
              "    20% {\n",
              "      border-color: transparent;\n",
              "      border-left-color: var(--fill-color);\n",
              "      border-top-color: var(--fill-color);\n",
              "    }\n",
              "    30% {\n",
              "      border-color: transparent;\n",
              "      border-left-color: var(--fill-color);\n",
              "      border-top-color: var(--fill-color);\n",
              "      border-right-color: var(--fill-color);\n",
              "    }\n",
              "    40% {\n",
              "      border-color: transparent;\n",
              "      border-right-color: var(--fill-color);\n",
              "      border-top-color: var(--fill-color);\n",
              "    }\n",
              "    60% {\n",
              "      border-color: transparent;\n",
              "      border-right-color: var(--fill-color);\n",
              "    }\n",
              "    80% {\n",
              "      border-color: transparent;\n",
              "      border-right-color: var(--fill-color);\n",
              "      border-bottom-color: var(--fill-color);\n",
              "    }\n",
              "    90% {\n",
              "      border-color: transparent;\n",
              "      border-bottom-color: var(--fill-color);\n",
              "    }\n",
              "  }\n",
              "</style>\n",
              "\n",
              "  <script>\n",
              "    async function quickchart(key) {\n",
              "      const quickchartButtonEl =\n",
              "        document.querySelector('#' + key + ' button');\n",
              "      quickchartButtonEl.disabled = true;  // To prevent multiple clicks.\n",
              "      quickchartButtonEl.classList.add('colab-df-spinner');\n",
              "      try {\n",
              "        const charts = await google.colab.kernel.invokeFunction(\n",
              "            'suggestCharts', [key], {});\n",
              "      } catch (error) {\n",
              "        console.error('Error during call to suggestCharts:', error);\n",
              "      }\n",
              "      quickchartButtonEl.classList.remove('colab-df-spinner');\n",
              "      quickchartButtonEl.classList.add('colab-df-quickchart-complete');\n",
              "    }\n",
              "    (() => {\n",
              "      let quickchartButtonEl =\n",
              "        document.querySelector('#df-346d9235-c531-43e9-bb42-a1dce4bda277 button');\n",
              "      quickchartButtonEl.style.display =\n",
              "        google.colab.kernel.accessAllowed ? 'block' : 'none';\n",
              "    })();\n",
              "  </script>\n",
              "</div>\n",
              "    </div>\n",
              "  </div>\n"
            ],
            "text/plain": [
              "                   2860            4150            8736\n",
              "Area              India           Japan          Turkey\n",
              "Item     Cereals, Total  Cereals, Total  Cereals, Total\n",
              "Element      Production      Production      Production\n",
              "Y1961        87376496.0      20318660.0      12729100.0\n",
              "Y1962        87257552.0      20635150.0      14728000.0\n",
              "...                 ...             ...             ...\n",
              "Y2015       284333000.0      12141378.0      38632438.0\n",
              "Y2016       297850000.0      11924607.0      35276615.0\n",
              "Y2017       310782330.0      11903422.0      36126157.0\n",
              "Y2018       321556400.0      11575093.0      34395628.0\n",
              "Y2019       324300640.0      11829777.0      34398698.0\n",
              "\n",
              "[62 rows x 3 columns]"
            ]
          },
          "execution_count": 83,
          "metadata": {},
          "output_type": "execute_result"
        }
      ],
      "source": [
        "sel_prod_t"
      ]
    },
    {
      "cell_type": "code",
      "execution_count": null,
      "metadata": {
        "colab": {
          "base_uri": "https://localhost:8080/"
        },
        "id": "rOIfpoJE3Xgd",
        "outputId": "0c409135-6783-45ea-9b69-de031604f06f"
      },
      "outputs": [
        {
          "name": "stdout",
          "output_type": "stream",
          "text": [
            "Int64Index([2860, 4150, 8736], dtype='int64')\n"
          ]
        }
      ],
      "source": [
        "print(sel_prod_t.columns)\n",
        "sel_prod_t.columns = ['India', 'Japan', 'Turkey']"
      ]
    },
    {
      "cell_type": "code",
      "execution_count": null,
      "metadata": {
        "colab": {
          "base_uri": "https://localhost:8080/",
          "height": 469
        },
        "id": "uTAeQZoK3Xgd",
        "outputId": "02a3267e-0ba2-4936-a1e4-ada4d93b971f"
      },
      "outputs": [
        {
          "data": {
            "text/plain": [
              "<Axes: title={'center': 'Total Cereals Production from 1961 to 2019 (tonnes)'}>"
            ]
          },
          "execution_count": 85,
          "metadata": {},
          "output_type": "execute_result"
        },
        {
          "data": {
            "image/png": "[encoded data removed]",
            "text/plain": [
              "<Figure size 640x480 with 1 Axes>"
            ]
          },
          "metadata": {},
          "output_type": "display_data"
        }
      ],
      "source": [
        "sel_prod_t[3:].plot(kind='line', title='Total Cereals Production from 1961 to 2019 (tonnes)')"
      ]
    },
    {
      "cell_type": "code",
      "execution_count": null,
      "metadata": {
        "id": "6Dh6sNZOxnhz"
      },
      "outputs": [],
      "source": []
    }
  ],
  "metadata": {
    "colab": {
      "provenance": []
    },
    "kernelspec": {
      "display_name": "Python 3",
      "language": "python",
      "name": "python3"
    },
    "language_info": {
      "codemirror_mode": {
        "name": "ipython",
        "version": 3
      },
      "file_extension": ".py",
      "mimetype": "text/x-python",
      "name": "python",
      "nbconvert_exporter": "python",
      "pygments_lexer": "ipython3",
      "version": "3.8.8"
    }
  },
  "nbformat": 4,
  "nbformat_minor": 0
}
