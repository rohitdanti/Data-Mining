{
  "cells": [
    {
      "cell_type": "markdown",
      "metadata": {
        "id": "IynJNAMLaIAQ"
      },
      "source": [
        "# CSE 572: Lab 3\n",
        "\n",
        "In this lab, you will practice implementing some of the data preparation techniques we learned in class including sampling, splitting, discretization, and scaling transforms.\n",
        "\n",
        "To execute and make changes to this notebook, click File > Save a copy to save your own version in your Google Drive or Github. Read the step-by-step instructions below carefully. To execute the code, click on each cell below and press the SHIFT-ENTER keys simultaneously or by clicking the Play button.\n",
        "\n",
        "When you finish executing all code/exercises, save your notebook then download a copy (.ipynb file). Submit 1) a link to your Colab notebook, 2) the .ipynb file, and **3) a pdf of the executed notebook** on Canvas.\n",
        "\n",
        "To generate a pdf of the notebook, click File > Print > Save as PDF.\n"
      ]
    },
    {
      "cell_type": "markdown",
      "metadata": {
        "id": "9GDLeUN3aIAR"
      },
      "source": [
        "## Data preparation\n",
        "\n",
        "Data mining helps us find patterns in data that we can use to make predictions about new data points, e.g., to predict a target class or other value from a set of features. To help the data mining algorithm find the patterns we are looking for and make correct predictions, we need to construct the data set and transform the data correctly."
      ]
    },
    {
      "cell_type": "markdown",
      "metadata": {
        "id": "Y43QaIbuaIAS"
      },
      "source": [
        "First, load the Wisconsin Breast Cancer dataset and apply the operations to remove nans, duplicates, and outliers from Lab 2."
      ]
    },
    {
      "cell_type": "code",
      "execution_count": null,
      "metadata": {
        "id": "kGRJCWffaIAS",
        "outputId": "9adabeb1-f33c-49f8-bd94-73bb33130f56"
      },
      "outputs": [
        {
          "data": {
            "text/html": [
              "<div>\n",
              "<style scoped>\n",
              "    .dataframe tbody tr th:only-of-type {\n",
              "        vertical-align: middle;\n",
              "    }\n",
              "\n",
              "    .dataframe tbody tr th {\n",
              "        vertical-align: top;\n",
              "    }\n",
              "\n",
              "    .dataframe thead th {\n",
              "        text-align: right;\n",
              "    }\n",
              "</style>\n",
              "<table border=\"1\" class=\"dataframe\">\n",
              "  <thead>\n",
              "    <tr style=\"text-align: right;\">\n",
              "      <th></th>\n",
              "      <th>Clump Thickness</th>\n",
              "      <th>Uniformity of Cell Size</th>\n",
              "      <th>Uniformity of Cell Shape</th>\n",
              "      <th>Marginal Adhesion</th>\n",
              "      <th>Single Epithelial Cell Size</th>\n",
              "      <th>Bare Nuclei</th>\n",
              "      <th>Bland Chromatin</th>\n",
              "      <th>Normal Nucleoli</th>\n",
              "      <th>Mitoses</th>\n",
              "      <th>Class</th>\n",
              "    </tr>\n",
              "  </thead>\n",
              "  <tbody>\n",
              "    <tr>\n",
              "      <th>0</th>\n",
              "      <td>5</td>\n",
              "      <td>1</td>\n",
              "      <td>1</td>\n",
              "      <td>1</td>\n",
              "      <td>2</td>\n",
              "      <td>1.0</td>\n",
              "      <td>3</td>\n",
              "      <td>1</td>\n",
              "      <td>1</td>\n",
              "      <td>2</td>\n",
              "    </tr>\n",
              "    <tr>\n",
              "      <th>1</th>\n",
              "      <td>5</td>\n",
              "      <td>4</td>\n",
              "      <td>4</td>\n",
              "      <td>5</td>\n",
              "      <td>7</td>\n",
              "      <td>10.0</td>\n",
              "      <td>3</td>\n",
              "      <td>2</td>\n",
              "      <td>1</td>\n",
              "      <td>2</td>\n",
              "    </tr>\n",
              "    <tr>\n",
              "      <th>2</th>\n",
              "      <td>3</td>\n",
              "      <td>1</td>\n",
              "      <td>1</td>\n",
              "      <td>1</td>\n",
              "      <td>2</td>\n",
              "      <td>2.0</td>\n",
              "      <td>3</td>\n",
              "      <td>1</td>\n",
              "      <td>1</td>\n",
              "      <td>2</td>\n",
              "    </tr>\n",
              "    <tr>\n",
              "      <th>3</th>\n",
              "      <td>6</td>\n",
              "      <td>8</td>\n",
              "      <td>8</td>\n",
              "      <td>1</td>\n",
              "      <td>3</td>\n",
              "      <td>4.0</td>\n",
              "      <td>3</td>\n",
              "      <td>7</td>\n",
              "      <td>1</td>\n",
              "      <td>2</td>\n",
              "    </tr>\n",
              "    <tr>\n",
              "      <th>4</th>\n",
              "      <td>4</td>\n",
              "      <td>1</td>\n",
              "      <td>1</td>\n",
              "      <td>3</td>\n",
              "      <td>2</td>\n",
              "      <td>1.0</td>\n",
              "      <td>3</td>\n",
              "      <td>1</td>\n",
              "      <td>1</td>\n",
              "      <td>2</td>\n",
              "    </tr>\n",
              "    <tr>\n",
              "      <th>...</th>\n",
              "      <td>...</td>\n",
              "      <td>...</td>\n",
              "      <td>...</td>\n",
              "      <td>...</td>\n",
              "      <td>...</td>\n",
              "      <td>...</td>\n",
              "      <td>...</td>\n",
              "      <td>...</td>\n",
              "      <td>...</td>\n",
              "      <td>...</td>\n",
              "    </tr>\n",
              "    <tr>\n",
              "      <th>694</th>\n",
              "      <td>3</td>\n",
              "      <td>1</td>\n",
              "      <td>1</td>\n",
              "      <td>1</td>\n",
              "      <td>3</td>\n",
              "      <td>2.0</td>\n",
              "      <td>1</td>\n",
              "      <td>1</td>\n",
              "      <td>1</td>\n",
              "      <td>2</td>\n",
              "    </tr>\n",
              "    <tr>\n",
              "      <th>695</th>\n",
              "      <td>2</td>\n",
              "      <td>1</td>\n",
              "      <td>1</td>\n",
              "      <td>1</td>\n",
              "      <td>2</td>\n",
              "      <td>1.0</td>\n",
              "      <td>1</td>\n",
              "      <td>1</td>\n",
              "      <td>1</td>\n",
              "      <td>2</td>\n",
              "    </tr>\n",
              "    <tr>\n",
              "      <th>696</th>\n",
              "      <td>5</td>\n",
              "      <td>10</td>\n",
              "      <td>10</td>\n",
              "      <td>3</td>\n",
              "      <td>7</td>\n",
              "      <td>3.0</td>\n",
              "      <td>8</td>\n",
              "      <td>10</td>\n",
              "      <td>2</td>\n",
              "      <td>4</td>\n",
              "    </tr>\n",
              "    <tr>\n",
              "      <th>697</th>\n",
              "      <td>4</td>\n",
              "      <td>8</td>\n",
              "      <td>6</td>\n",
              "      <td>4</td>\n",
              "      <td>3</td>\n",
              "      <td>4.0</td>\n",
              "      <td>10</td>\n",
              "      <td>6</td>\n",
              "      <td>1</td>\n",
              "      <td>4</td>\n",
              "    </tr>\n",
              "    <tr>\n",
              "      <th>698</th>\n",
              "      <td>4</td>\n",
              "      <td>8</td>\n",
              "      <td>8</td>\n",
              "      <td>5</td>\n",
              "      <td>4</td>\n",
              "      <td>5.0</td>\n",
              "      <td>10</td>\n",
              "      <td>4</td>\n",
              "      <td>1</td>\n",
              "      <td>4</td>\n",
              "    </tr>\n",
              "  </tbody>\n",
              "</table>\n",
              "<p>699 rows × 10 columns</p>\n",
              "</div>"
            ],
            "text/plain": [
              "     Clump Thickness  Uniformity of Cell Size  Uniformity of Cell Shape  \\\n",
              "0                  5                        1                         1   \n",
              "1                  5                        4                         4   \n",
              "2                  3                        1                         1   \n",
              "3                  6                        8                         8   \n",
              "4                  4                        1                         1   \n",
              "..               ...                      ...                       ...   \n",
              "694                3                        1                         1   \n",
              "695                2                        1                         1   \n",
              "696                5                       10                        10   \n",
              "697                4                        8                         6   \n",
              "698                4                        8                         8   \n",
              "\n",
              "     Marginal Adhesion  Single Epithelial Cell Size  Bare Nuclei  \\\n",
              "0                    1                            2          1.0   \n",
              "1                    5                            7         10.0   \n",
              "2                    1                            2          2.0   \n",
              "3                    1                            3          4.0   \n",
              "4                    3                            2          1.0   \n",
              "..                 ...                          ...          ...   \n",
              "694                  1                            3          2.0   \n",
              "695                  1                            2          1.0   \n",
              "696                  3                            7          3.0   \n",
              "697                  4                            3          4.0   \n",
              "698                  5                            4          5.0   \n",
              "\n",
              "     Bland Chromatin  Normal Nucleoli  Mitoses  Class  \n",
              "0                  3                1        1      2  \n",
              "1                  3                2        1      2  \n",
              "2                  3                1        1      2  \n",
              "3                  3                7        1      2  \n",
              "4                  3                1        1      2  \n",
              "..               ...              ...      ...    ...  \n",
              "694                1                1        1      2  \n",
              "695                1                1        1      2  \n",
              "696                8               10        2      4  \n",
              "697               10                6        1      4  \n",
              "698               10                4        1      4  \n",
              "\n",
              "[699 rows x 10 columns]"
            ]
          },
          "execution_count": 1,
          "metadata": {},
          "output_type": "execute_result"
        }
      ],
      "source": [
        "# Load the original dataset\n",
        "import pandas as pd\n",
        "import numpy as np\n",
        "\n",
        "data = pd.read_csv('https://archive.ics.uci.edu/ml/machine-learning-databases/breast-cancer-wisconsin/breast-cancer-wisconsin.data', header=None)\n",
        "data.columns = ['Sample code', 'Clump Thickness', 'Uniformity of Cell Size', 'Uniformity of Cell Shape',\n",
        "                'Marginal Adhesion', 'Single Epithelial Cell Size', 'Bare Nuclei', 'Bland Chromatin',\n",
        "                'Normal Nucleoli', 'Mitoses','Class']\n",
        "\n",
        "data = data.drop(['Sample code'],axis=1)\n",
        "\n",
        "data = data.replace('?',np.NaN)\n",
        "data['Bare Nuclei'] = pd.to_numeric(data['Bare Nuclei'])\n",
        "\n",
        "data"
      ]
    },
    {
      "cell_type": "code",
      "execution_count": null,
      "metadata": {
        "id": "fyFhBDHEaIAT"
      },
      "outputs": [],
      "source": [
        "def inds_nans(df):\n",
        "    inds = df.isna().any(axis=1)\n",
        "    # print('Found {} rows that had NaN values.'.format(inds.sum()))\n",
        "    return inds\n",
        "\n",
        "def inds_dups(df):\n",
        "    inds = df.duplicated()\n",
        "    # print('Found {} rows that were duplicates.'.format(inds.sum()))\n",
        "    return inds\n",
        "\n",
        "def inds_outliers(df):\n",
        "    # In this example, we defined outliers as values that are +/- 3 standard deviations\n",
        "    # from the mean value. To identify such values, we need to compute the Z score for\n",
        "    # every value by subtracting the feature-wise mean and dividing by the feature-wise\n",
        "    # standard deviation (also known as standardizing the data).\n",
        "    df = df[df.columns[:-1]]\n",
        "    Z = (df-df.mean())/df.std()\n",
        "    # The below code will give a value of True or False for each row. The row will be\n",
        "    # True if all of the feature values for that row were within 3 standard deviations of\n",
        "    # the mean. The row will be False if at leaset one of the feature values for that row\n",
        "    # was NOT within 3 standard deviations of the mean.\n",
        "    inlier_inds = ((Z > -3).sum(axis=1)==9) & ((Z <= 3).sum(axis=1)==9)\n",
        "    # The outliers are the inverse boolean values of the above\n",
        "    outlier_inds = ~inlier_inds\n",
        "    # print('Found {} rows that were outliers.'.format(outlier_inds.sum()))\n",
        "    return outlier_inds"
      ]
    },
    {
      "cell_type": "code",
      "execution_count": null,
      "metadata": {
        "id": "0_b2tNNuaIAT",
        "outputId": "ef62d9af-b575-40e9-815b-9807ad6c90ce"
      },
      "outputs": [
        {
          "data": {
            "text/html": [
              "<div>\n",
              "<style scoped>\n",
              "    .dataframe tbody tr th:only-of-type {\n",
              "        vertical-align: middle;\n",
              "    }\n",
              "\n",
              "    .dataframe tbody tr th {\n",
              "        vertical-align: top;\n",
              "    }\n",
              "\n",
              "    .dataframe thead th {\n",
              "        text-align: right;\n",
              "    }\n",
              "</style>\n",
              "<table border=\"1\" class=\"dataframe\">\n",
              "  <thead>\n",
              "    <tr style=\"text-align: right;\">\n",
              "      <th></th>\n",
              "      <th>Clump Thickness</th>\n",
              "      <th>Uniformity of Cell Size</th>\n",
              "      <th>Uniformity of Cell Shape</th>\n",
              "      <th>Marginal Adhesion</th>\n",
              "      <th>Single Epithelial Cell Size</th>\n",
              "      <th>Bare Nuclei</th>\n",
              "      <th>Bland Chromatin</th>\n",
              "      <th>Normal Nucleoli</th>\n",
              "      <th>Mitoses</th>\n",
              "      <th>Class</th>\n",
              "    </tr>\n",
              "  </thead>\n",
              "  <tbody>\n",
              "    <tr>\n",
              "      <th>0</th>\n",
              "      <td>5</td>\n",
              "      <td>1</td>\n",
              "      <td>1</td>\n",
              "      <td>1</td>\n",
              "      <td>2</td>\n",
              "      <td>1.0</td>\n",
              "      <td>3</td>\n",
              "      <td>1</td>\n",
              "      <td>1</td>\n",
              "      <td>2</td>\n",
              "    </tr>\n",
              "    <tr>\n",
              "      <th>1</th>\n",
              "      <td>5</td>\n",
              "      <td>4</td>\n",
              "      <td>4</td>\n",
              "      <td>5</td>\n",
              "      <td>7</td>\n",
              "      <td>10.0</td>\n",
              "      <td>3</td>\n",
              "      <td>2</td>\n",
              "      <td>1</td>\n",
              "      <td>2</td>\n",
              "    </tr>\n",
              "    <tr>\n",
              "      <th>2</th>\n",
              "      <td>3</td>\n",
              "      <td>1</td>\n",
              "      <td>1</td>\n",
              "      <td>1</td>\n",
              "      <td>2</td>\n",
              "      <td>2.0</td>\n",
              "      <td>3</td>\n",
              "      <td>1</td>\n",
              "      <td>1</td>\n",
              "      <td>2</td>\n",
              "    </tr>\n",
              "    <tr>\n",
              "      <th>3</th>\n",
              "      <td>6</td>\n",
              "      <td>8</td>\n",
              "      <td>8</td>\n",
              "      <td>1</td>\n",
              "      <td>3</td>\n",
              "      <td>4.0</td>\n",
              "      <td>3</td>\n",
              "      <td>7</td>\n",
              "      <td>1</td>\n",
              "      <td>2</td>\n",
              "    </tr>\n",
              "    <tr>\n",
              "      <th>4</th>\n",
              "      <td>4</td>\n",
              "      <td>1</td>\n",
              "      <td>1</td>\n",
              "      <td>3</td>\n",
              "      <td>2</td>\n",
              "      <td>1.0</td>\n",
              "      <td>3</td>\n",
              "      <td>1</td>\n",
              "      <td>1</td>\n",
              "      <td>2</td>\n",
              "    </tr>\n",
              "    <tr>\n",
              "      <th>...</th>\n",
              "      <td>...</td>\n",
              "      <td>...</td>\n",
              "      <td>...</td>\n",
              "      <td>...</td>\n",
              "      <td>...</td>\n",
              "      <td>...</td>\n",
              "      <td>...</td>\n",
              "      <td>...</td>\n",
              "      <td>...</td>\n",
              "      <td>...</td>\n",
              "    </tr>\n",
              "    <tr>\n",
              "      <th>693</th>\n",
              "      <td>3</td>\n",
              "      <td>1</td>\n",
              "      <td>1</td>\n",
              "      <td>1</td>\n",
              "      <td>2</td>\n",
              "      <td>1.0</td>\n",
              "      <td>2</td>\n",
              "      <td>1</td>\n",
              "      <td>2</td>\n",
              "      <td>2</td>\n",
              "    </tr>\n",
              "    <tr>\n",
              "      <th>694</th>\n",
              "      <td>3</td>\n",
              "      <td>1</td>\n",
              "      <td>1</td>\n",
              "      <td>1</td>\n",
              "      <td>3</td>\n",
              "      <td>2.0</td>\n",
              "      <td>1</td>\n",
              "      <td>1</td>\n",
              "      <td>1</td>\n",
              "      <td>2</td>\n",
              "    </tr>\n",
              "    <tr>\n",
              "      <th>696</th>\n",
              "      <td>5</td>\n",
              "      <td>10</td>\n",
              "      <td>10</td>\n",
              "      <td>3</td>\n",
              "      <td>7</td>\n",
              "      <td>3.0</td>\n",
              "      <td>8</td>\n",
              "      <td>10</td>\n",
              "      <td>2</td>\n",
              "      <td>4</td>\n",
              "    </tr>\n",
              "    <tr>\n",
              "      <th>697</th>\n",
              "      <td>4</td>\n",
              "      <td>8</td>\n",
              "      <td>6</td>\n",
              "      <td>4</td>\n",
              "      <td>3</td>\n",
              "      <td>4.0</td>\n",
              "      <td>10</td>\n",
              "      <td>6</td>\n",
              "      <td>1</td>\n",
              "      <td>4</td>\n",
              "    </tr>\n",
              "    <tr>\n",
              "      <th>698</th>\n",
              "      <td>4</td>\n",
              "      <td>8</td>\n",
              "      <td>8</td>\n",
              "      <td>5</td>\n",
              "      <td>4</td>\n",
              "      <td>5.0</td>\n",
              "      <td>10</td>\n",
              "      <td>4</td>\n",
              "      <td>1</td>\n",
              "      <td>4</td>\n",
              "    </tr>\n",
              "  </tbody>\n",
              "</table>\n",
              "<p>399 rows × 10 columns</p>\n",
              "</div>"
            ],
            "text/plain": [
              "     Clump Thickness  Uniformity of Cell Size  Uniformity of Cell Shape  \\\n",
              "0                  5                        1                         1   \n",
              "1                  5                        4                         4   \n",
              "2                  3                        1                         1   \n",
              "3                  6                        8                         8   \n",
              "4                  4                        1                         1   \n",
              "..               ...                      ...                       ...   \n",
              "693                3                        1                         1   \n",
              "694                3                        1                         1   \n",
              "696                5                       10                        10   \n",
              "697                4                        8                         6   \n",
              "698                4                        8                         8   \n",
              "\n",
              "     Marginal Adhesion  Single Epithelial Cell Size  Bare Nuclei  \\\n",
              "0                    1                            2          1.0   \n",
              "1                    5                            7         10.0   \n",
              "2                    1                            2          2.0   \n",
              "3                    1                            3          4.0   \n",
              "4                    3                            2          1.0   \n",
              "..                 ...                          ...          ...   \n",
              "693                  1                            2          1.0   \n",
              "694                  1                            3          2.0   \n",
              "696                  3                            7          3.0   \n",
              "697                  4                            3          4.0   \n",
              "698                  5                            4          5.0   \n",
              "\n",
              "     Bland Chromatin  Normal Nucleoli  Mitoses  Class  \n",
              "0                  3                1        1      2  \n",
              "1                  3                2        1      2  \n",
              "2                  3                1        1      2  \n",
              "3                  3                7        1      2  \n",
              "4                  3                1        1      2  \n",
              "..               ...              ...      ...    ...  \n",
              "693                2                1        2      2  \n",
              "694                1                1        1      2  \n",
              "696                8               10        2      4  \n",
              "697               10                6        1      4  \n",
              "698               10                4        1      4  \n",
              "\n",
              "[399 rows x 10 columns]"
            ]
          },
          "execution_count": 3,
          "metadata": {},
          "output_type": "execute_result"
        }
      ],
      "source": [
        "# Select only the rows at index locations that were not nans, duplicates, or outliers\n",
        "data_clean = data.loc[~((inds_nans(data) | inds_dups(data)) | inds_outliers(data)),:]\n",
        "\n",
        "data_clean"
      ]
    },
    {
      "cell_type": "markdown",
      "metadata": {
        "id": "qq9i9hOfaIAT"
      },
      "source": [
        "### Sampling\n",
        "\n",
        "Sampling is an approach commonly used to facilitate (1) data reduction for exploratory data analysis and scaling up algorithms to big data applications and (2) quantifying uncertainties due to varying data distributions. There are various methods available for data sampling, such as simple random vs. stratified random sampling, or sampling without replacement (where each selected instance is removed from the dataset) vs. sampling with replacement (where each selected instance is not removed, thus allowing it to be selected more than once in the sample).\n",
        "\n",
        "In the example below, we will apply sampling with replacement and without replacement to the breast cancer dataset."
      ]
    },
    {
      "cell_type": "markdown",
      "metadata": {
        "id": "0qc56mrvaIAU"
      },
      "source": [
        "In the following code, a sample of size 3 is randomly selected (without replacement) from the original data."
      ]
    },
    {
      "cell_type": "code",
      "execution_count": null,
      "metadata": {
        "id": "ZfmLWePcaIAU",
        "outputId": "c9d90a74-305b-4182-bb09-905063f12fe1"
      },
      "outputs": [
        {
          "data": {
            "text/html": [
              "<div>\n",
              "<style scoped>\n",
              "    .dataframe tbody tr th:only-of-type {\n",
              "        vertical-align: middle;\n",
              "    }\n",
              "\n",
              "    .dataframe tbody tr th {\n",
              "        vertical-align: top;\n",
              "    }\n",
              "\n",
              "    .dataframe thead th {\n",
              "        text-align: right;\n",
              "    }\n",
              "</style>\n",
              "<table border=\"1\" class=\"dataframe\">\n",
              "  <thead>\n",
              "    <tr style=\"text-align: right;\">\n",
              "      <th></th>\n",
              "      <th>Clump Thickness</th>\n",
              "      <th>Uniformity of Cell Size</th>\n",
              "      <th>Uniformity of Cell Shape</th>\n",
              "      <th>Marginal Adhesion</th>\n",
              "      <th>Single Epithelial Cell Size</th>\n",
              "      <th>Bare Nuclei</th>\n",
              "      <th>Bland Chromatin</th>\n",
              "      <th>Normal Nucleoli</th>\n",
              "      <th>Mitoses</th>\n",
              "      <th>Class</th>\n",
              "    </tr>\n",
              "  </thead>\n",
              "  <tbody>\n",
              "    <tr>\n",
              "      <th>480</th>\n",
              "      <td>5</td>\n",
              "      <td>1</td>\n",
              "      <td>1</td>\n",
              "      <td>1</td>\n",
              "      <td>1</td>\n",
              "      <td>1.0</td>\n",
              "      <td>1</td>\n",
              "      <td>1</td>\n",
              "      <td>1</td>\n",
              "      <td>2</td>\n",
              "    </tr>\n",
              "    <tr>\n",
              "      <th>694</th>\n",
              "      <td>3</td>\n",
              "      <td>1</td>\n",
              "      <td>1</td>\n",
              "      <td>1</td>\n",
              "      <td>3</td>\n",
              "      <td>2.0</td>\n",
              "      <td>1</td>\n",
              "      <td>1</td>\n",
              "      <td>1</td>\n",
              "      <td>2</td>\n",
              "    </tr>\n",
              "    <tr>\n",
              "      <th>13</th>\n",
              "      <td>1</td>\n",
              "      <td>1</td>\n",
              "      <td>1</td>\n",
              "      <td>1</td>\n",
              "      <td>2</td>\n",
              "      <td>3.0</td>\n",
              "      <td>3</td>\n",
              "      <td>1</td>\n",
              "      <td>1</td>\n",
              "      <td>2</td>\n",
              "    </tr>\n",
              "  </tbody>\n",
              "</table>\n",
              "</div>"
            ],
            "text/plain": [
              "     Clump Thickness  Uniformity of Cell Size  Uniformity of Cell Shape  \\\n",
              "480                5                        1                         1   \n",
              "694                3                        1                         1   \n",
              "13                 1                        1                         1   \n",
              "\n",
              "     Marginal Adhesion  Single Epithelial Cell Size  Bare Nuclei  \\\n",
              "480                  1                            1          1.0   \n",
              "694                  1                            3          2.0   \n",
              "13                   1                            2          3.0   \n",
              "\n",
              "     Bland Chromatin  Normal Nucleoli  Mitoses  Class  \n",
              "480                1                1        1      2  \n",
              "694                1                1        1      2  \n",
              "13                 3                1        1      2  "
            ]
          },
          "execution_count": 4,
          "metadata": {},
          "output_type": "execute_result"
        }
      ],
      "source": [
        "sample = data_clean.sample(n=3)\n",
        "sample"
      ]
    },
    {
      "cell_type": "markdown",
      "metadata": {
        "id": "GGP6n8ptaIAU"
      },
      "source": [
        "In the next example, we randomly select 1% of the data (without replacement) and display the selected samples. The random_state argument of the function specifies the seed value of the random number generator."
      ]
    },
    {
      "cell_type": "code",
      "execution_count": null,
      "metadata": {
        "id": "Ogb4qZfLaIAU",
        "outputId": "4fe18604-4542-46ae-a11a-efc80dce709f"
      },
      "outputs": [
        {
          "data": {
            "text/html": [
              "<div>\n",
              "<style scoped>\n",
              "    .dataframe tbody tr th:only-of-type {\n",
              "        vertical-align: middle;\n",
              "    }\n",
              "\n",
              "    .dataframe tbody tr th {\n",
              "        vertical-align: top;\n",
              "    }\n",
              "\n",
              "    .dataframe thead th {\n",
              "        text-align: right;\n",
              "    }\n",
              "</style>\n",
              "<table border=\"1\" class=\"dataframe\">\n",
              "  <thead>\n",
              "    <tr style=\"text-align: right;\">\n",
              "      <th></th>\n",
              "      <th>Clump Thickness</th>\n",
              "      <th>Uniformity of Cell Size</th>\n",
              "      <th>Uniformity of Cell Shape</th>\n",
              "      <th>Marginal Adhesion</th>\n",
              "      <th>Single Epithelial Cell Size</th>\n",
              "      <th>Bare Nuclei</th>\n",
              "      <th>Bland Chromatin</th>\n",
              "      <th>Normal Nucleoli</th>\n",
              "      <th>Mitoses</th>\n",
              "      <th>Class</th>\n",
              "    </tr>\n",
              "  </thead>\n",
              "  <tbody>\n",
              "    <tr>\n",
              "      <th>266</th>\n",
              "      <td>10</td>\n",
              "      <td>10</td>\n",
              "      <td>6</td>\n",
              "      <td>3</td>\n",
              "      <td>3</td>\n",
              "      <td>10.0</td>\n",
              "      <td>4</td>\n",
              "      <td>3</td>\n",
              "      <td>2</td>\n",
              "      <td>4</td>\n",
              "    </tr>\n",
              "    <tr>\n",
              "      <th>610</th>\n",
              "      <td>10</td>\n",
              "      <td>4</td>\n",
              "      <td>3</td>\n",
              "      <td>10</td>\n",
              "      <td>3</td>\n",
              "      <td>10.0</td>\n",
              "      <td>7</td>\n",
              "      <td>1</td>\n",
              "      <td>2</td>\n",
              "      <td>4</td>\n",
              "    </tr>\n",
              "    <tr>\n",
              "      <th>404</th>\n",
              "      <td>1</td>\n",
              "      <td>2</td>\n",
              "      <td>1</td>\n",
              "      <td>3</td>\n",
              "      <td>2</td>\n",
              "      <td>1.0</td>\n",
              "      <td>1</td>\n",
              "      <td>2</td>\n",
              "      <td>1</td>\n",
              "      <td>2</td>\n",
              "    </tr>\n",
              "    <tr>\n",
              "      <th>442</th>\n",
              "      <td>1</td>\n",
              "      <td>1</td>\n",
              "      <td>1</td>\n",
              "      <td>3</td>\n",
              "      <td>2</td>\n",
              "      <td>3.0</td>\n",
              "      <td>1</td>\n",
              "      <td>1</td>\n",
              "      <td>1</td>\n",
              "      <td>2</td>\n",
              "    </tr>\n",
              "  </tbody>\n",
              "</table>\n",
              "</div>"
            ],
            "text/plain": [
              "     Clump Thickness  Uniformity of Cell Size  Uniformity of Cell Shape  \\\n",
              "266               10                       10                         6   \n",
              "610               10                        4                         3   \n",
              "404                1                        2                         1   \n",
              "442                1                        1                         1   \n",
              "\n",
              "     Marginal Adhesion  Single Epithelial Cell Size  Bare Nuclei  \\\n",
              "266                  3                            3         10.0   \n",
              "610                 10                            3         10.0   \n",
              "404                  3                            2          1.0   \n",
              "442                  3                            2          3.0   \n",
              "\n",
              "     Bland Chromatin  Normal Nucleoli  Mitoses  Class  \n",
              "266                4                3        2      4  \n",
              "610                7                1        2      4  \n",
              "404                1                2        1      2  \n",
              "442                1                1        1      2  "
            ]
          },
          "execution_count": 5,
          "metadata": {},
          "output_type": "execute_result"
        }
      ],
      "source": [
        "sample = data_clean.sample(frac=0.01, random_state=1)\n",
        "sample"
      ]
    },
    {
      "cell_type": "markdown",
      "metadata": {
        "id": "1x830AnvaIAU"
      },
      "source": [
        "Alternatively, we could perform a sampling with replacement to create a sample whose size is equal to 1% of the entire data. You should be able to observe duplicate instances in the sample by increasing the sample size. You can identify duplicate instances in this sample by their row index (bold far-left column)."
      ]
    },
    {
      "cell_type": "code",
      "execution_count": null,
      "metadata": {
        "id": "aXNm3y5eaIAU",
        "outputId": "58bbe5dc-5016-48f5-d0f4-57a9a722a96a"
      },
      "outputs": [
        {
          "data": {
            "text/html": [
              "<div>\n",
              "<style scoped>\n",
              "    .dataframe tbody tr th:only-of-type {\n",
              "        vertical-align: middle;\n",
              "    }\n",
              "\n",
              "    .dataframe tbody tr th {\n",
              "        vertical-align: top;\n",
              "    }\n",
              "\n",
              "    .dataframe thead th {\n",
              "        text-align: right;\n",
              "    }\n",
              "</style>\n",
              "<table border=\"1\" class=\"dataframe\">\n",
              "  <thead>\n",
              "    <tr style=\"text-align: right;\">\n",
              "      <th></th>\n",
              "      <th>Clump Thickness</th>\n",
              "      <th>Uniformity of Cell Size</th>\n",
              "      <th>Uniformity of Cell Shape</th>\n",
              "      <th>Marginal Adhesion</th>\n",
              "      <th>Single Epithelial Cell Size</th>\n",
              "      <th>Bare Nuclei</th>\n",
              "      <th>Bland Chromatin</th>\n",
              "      <th>Normal Nucleoli</th>\n",
              "      <th>Mitoses</th>\n",
              "      <th>Class</th>\n",
              "    </tr>\n",
              "  </thead>\n",
              "  <tbody>\n",
              "    <tr>\n",
              "      <th>41</th>\n",
              "      <td>10</td>\n",
              "      <td>4</td>\n",
              "      <td>3</td>\n",
              "      <td>1</td>\n",
              "      <td>3</td>\n",
              "      <td>3.0</td>\n",
              "      <td>6</td>\n",
              "      <td>5</td>\n",
              "      <td>2</td>\n",
              "      <td>4</td>\n",
              "    </tr>\n",
              "    <tr>\n",
              "      <th>382</th>\n",
              "      <td>3</td>\n",
              "      <td>2</td>\n",
              "      <td>2</td>\n",
              "      <td>2</td>\n",
              "      <td>2</td>\n",
              "      <td>1.0</td>\n",
              "      <td>3</td>\n",
              "      <td>2</td>\n",
              "      <td>1</td>\n",
              "      <td>2</td>\n",
              "    </tr>\n",
              "    <tr>\n",
              "      <th>696</th>\n",
              "      <td>5</td>\n",
              "      <td>10</td>\n",
              "      <td>10</td>\n",
              "      <td>3</td>\n",
              "      <td>7</td>\n",
              "      <td>3.0</td>\n",
              "      <td>8</td>\n",
              "      <td>10</td>\n",
              "      <td>2</td>\n",
              "      <td>4</td>\n",
              "    </tr>\n",
              "    <tr>\n",
              "      <th>87</th>\n",
              "      <td>3</td>\n",
              "      <td>6</td>\n",
              "      <td>6</td>\n",
              "      <td>6</td>\n",
              "      <td>5</td>\n",
              "      <td>10.0</td>\n",
              "      <td>6</td>\n",
              "      <td>8</td>\n",
              "      <td>3</td>\n",
              "      <td>4</td>\n",
              "    </tr>\n",
              "  </tbody>\n",
              "</table>\n",
              "</div>"
            ],
            "text/plain": [
              "     Clump Thickness  Uniformity of Cell Size  Uniformity of Cell Shape  \\\n",
              "41                10                        4                         3   \n",
              "382                3                        2                         2   \n",
              "696                5                       10                        10   \n",
              "87                 3                        6                         6   \n",
              "\n",
              "     Marginal Adhesion  Single Epithelial Cell Size  Bare Nuclei  \\\n",
              "41                   1                            3          3.0   \n",
              "382                  2                            2          1.0   \n",
              "696                  3                            7          3.0   \n",
              "87                   6                            5         10.0   \n",
              "\n",
              "     Bland Chromatin  Normal Nucleoli  Mitoses  Class  \n",
              "41                 6                5        2      4  \n",
              "382                3                2        1      2  \n",
              "696                8               10        2      4  \n",
              "87                 6                8        3      4  "
            ]
          },
          "execution_count": 6,
          "metadata": {},
          "output_type": "execute_result"
        }
      ],
      "source": [
        "sample = data_clean.sample(frac=0.01, replace=True, random_state=1)\n",
        "sample"
      ]
    },
    {
      "cell_type": "code",
      "execution_count": null,
      "metadata": {
        "id": "G0m5KRopaIAU",
        "outputId": "218c8c80-55ab-453e-9fd4-5d98d7227d14"
      },
      "outputs": [
        {
          "data": {
            "text/plain": [
              "Text(0, 0.5, 'Number of duplicate rows in sample')"
            ]
          },
          "execution_count": 7,
          "metadata": {},
          "output_type": "execute_result"
        },
        {
          "data": {
            "image/png": "[encoded data removed]",
            "text/plain": [
              "<Figure size 432x288 with 1 Axes>"
            ]
          },
          "metadata": {
            "needs_background": "light"
          },
          "output_type": "display_data"
        }
      ],
      "source": [
        "import matplotlib.pyplot as plt\n",
        "%matplotlib inline\n",
        "\n",
        "fig, ax = plt.subplots(1)\n",
        "\n",
        "dups = []\n",
        "# Sample fractions from 0.01 to 0.20 and observe how the number of duplicates increases\n",
        "for frac in range(1, 21, 1):\n",
        "    sample = data_clean.sample(frac=frac/100., replace=True, random_state=1)\n",
        "    num_dups = inds_dups(sample)[inds_dups(sample)==True].shape[0]\n",
        "    dups.append(num_dups)\n",
        "\n",
        "ax.plot(range(1, 21, 1), dups)\n",
        "ax.set_xlabel('Percent of dataset sampled (with replacement)')\n",
        "ax.set_ylabel('Number of duplicate rows in sample')"
      ]
    },
    {
      "cell_type": "markdown",
      "metadata": {
        "id": "HMy9dv_oaIAU"
      },
      "source": [
        "The previous examples use a simple random sampling strategy in which each sample has equal probability of inclusion in the sample. Another sampling strategy is *stratified* random sampling, in which we split the data into several partitions (i.e., groups) then randomly sample from each partition. The next example demonstrates a stratified random sample that uses the Class values as groups to sample from."
      ]
    },
    {
      "cell_type": "code",
      "execution_count": null,
      "metadata": {
        "id": "i_qQaj_AaIAU",
        "outputId": "2df93091-c2e2-4e55-b70f-a0fe986ae271"
      },
      "outputs": [
        {
          "data": {
            "text/html": [
              "<div>\n",
              "<style scoped>\n",
              "    .dataframe tbody tr th:only-of-type {\n",
              "        vertical-align: middle;\n",
              "    }\n",
              "\n",
              "    .dataframe tbody tr th {\n",
              "        vertical-align: top;\n",
              "    }\n",
              "\n",
              "    .dataframe thead th {\n",
              "        text-align: right;\n",
              "    }\n",
              "</style>\n",
              "<table border=\"1\" class=\"dataframe\">\n",
              "  <thead>\n",
              "    <tr style=\"text-align: right;\">\n",
              "      <th></th>\n",
              "      <th>Clump Thickness</th>\n",
              "      <th>Uniformity of Cell Size</th>\n",
              "      <th>Uniformity of Cell Shape</th>\n",
              "      <th>Marginal Adhesion</th>\n",
              "      <th>Single Epithelial Cell Size</th>\n",
              "      <th>Bare Nuclei</th>\n",
              "      <th>Bland Chromatin</th>\n",
              "      <th>Normal Nucleoli</th>\n",
              "      <th>Mitoses</th>\n",
              "      <th>Class</th>\n",
              "    </tr>\n",
              "  </thead>\n",
              "  <tbody>\n",
              "    <tr>\n",
              "      <th>108</th>\n",
              "      <td>1</td>\n",
              "      <td>1</td>\n",
              "      <td>1</td>\n",
              "      <td>1</td>\n",
              "      <td>2</td>\n",
              "      <td>1.0</td>\n",
              "      <td>2</td>\n",
              "      <td>3</td>\n",
              "      <td>1</td>\n",
              "      <td>2</td>\n",
              "    </tr>\n",
              "    <tr>\n",
              "      <th>622</th>\n",
              "      <td>7</td>\n",
              "      <td>1</td>\n",
              "      <td>2</td>\n",
              "      <td>3</td>\n",
              "      <td>2</td>\n",
              "      <td>1.0</td>\n",
              "      <td>2</td>\n",
              "      <td>1</td>\n",
              "      <td>1</td>\n",
              "      <td>2</td>\n",
              "    </tr>\n",
              "    <tr>\n",
              "      <th>120</th>\n",
              "      <td>1</td>\n",
              "      <td>1</td>\n",
              "      <td>2</td>\n",
              "      <td>2</td>\n",
              "      <td>2</td>\n",
              "      <td>1.0</td>\n",
              "      <td>3</td>\n",
              "      <td>1</td>\n",
              "      <td>1</td>\n",
              "      <td>2</td>\n",
              "    </tr>\n",
              "    <tr>\n",
              "      <th>673</th>\n",
              "      <td>5</td>\n",
              "      <td>3</td>\n",
              "      <td>2</td>\n",
              "      <td>1</td>\n",
              "      <td>3</td>\n",
              "      <td>1.0</td>\n",
              "      <td>1</td>\n",
              "      <td>1</td>\n",
              "      <td>1</td>\n",
              "      <td>2</td>\n",
              "    </tr>\n",
              "    <tr>\n",
              "      <th>79</th>\n",
              "      <td>2</td>\n",
              "      <td>1</td>\n",
              "      <td>1</td>\n",
              "      <td>1</td>\n",
              "      <td>3</td>\n",
              "      <td>1.0</td>\n",
              "      <td>2</td>\n",
              "      <td>1</td>\n",
              "      <td>1</td>\n",
              "      <td>2</td>\n",
              "    </tr>\n",
              "    <tr>\n",
              "      <th>86</th>\n",
              "      <td>3</td>\n",
              "      <td>3</td>\n",
              "      <td>6</td>\n",
              "      <td>4</td>\n",
              "      <td>5</td>\n",
              "      <td>8.0</td>\n",
              "      <td>4</td>\n",
              "      <td>4</td>\n",
              "      <td>1</td>\n",
              "      <td>4</td>\n",
              "    </tr>\n",
              "    <tr>\n",
              "      <th>211</th>\n",
              "      <td>8</td>\n",
              "      <td>10</td>\n",
              "      <td>8</td>\n",
              "      <td>8</td>\n",
              "      <td>4</td>\n",
              "      <td>8.0</td>\n",
              "      <td>7</td>\n",
              "      <td>7</td>\n",
              "      <td>1</td>\n",
              "      <td>4</td>\n",
              "    </tr>\n",
              "    <tr>\n",
              "      <th>330</th>\n",
              "      <td>10</td>\n",
              "      <td>4</td>\n",
              "      <td>7</td>\n",
              "      <td>2</td>\n",
              "      <td>2</td>\n",
              "      <td>8.0</td>\n",
              "      <td>6</td>\n",
              "      <td>1</td>\n",
              "      <td>1</td>\n",
              "      <td>4</td>\n",
              "    </tr>\n",
              "    <tr>\n",
              "      <th>353</th>\n",
              "      <td>2</td>\n",
              "      <td>7</td>\n",
              "      <td>10</td>\n",
              "      <td>10</td>\n",
              "      <td>7</td>\n",
              "      <td>10.0</td>\n",
              "      <td>4</td>\n",
              "      <td>9</td>\n",
              "      <td>4</td>\n",
              "      <td>4</td>\n",
              "    </tr>\n",
              "    <tr>\n",
              "      <th>246</th>\n",
              "      <td>8</td>\n",
              "      <td>10</td>\n",
              "      <td>10</td>\n",
              "      <td>8</td>\n",
              "      <td>5</td>\n",
              "      <td>10.0</td>\n",
              "      <td>7</td>\n",
              "      <td>8</td>\n",
              "      <td>1</td>\n",
              "      <td>4</td>\n",
              "    </tr>\n",
              "  </tbody>\n",
              "</table>\n",
              "</div>"
            ],
            "text/plain": [
              "     Clump Thickness  Uniformity of Cell Size  Uniformity of Cell Shape  \\\n",
              "108                1                        1                         1   \n",
              "622                7                        1                         2   \n",
              "120                1                        1                         2   \n",
              "673                5                        3                         2   \n",
              "79                 2                        1                         1   \n",
              "86                 3                        3                         6   \n",
              "211                8                       10                         8   \n",
              "330               10                        4                         7   \n",
              "353                2                        7                        10   \n",
              "246                8                       10                        10   \n",
              "\n",
              "     Marginal Adhesion  Single Epithelial Cell Size  Bare Nuclei  \\\n",
              "108                  1                            2          1.0   \n",
              "622                  3                            2          1.0   \n",
              "120                  2                            2          1.0   \n",
              "673                  1                            3          1.0   \n",
              "79                   1                            3          1.0   \n",
              "86                   4                            5          8.0   \n",
              "211                  8                            4          8.0   \n",
              "330                  2                            2          8.0   \n",
              "353                 10                            7         10.0   \n",
              "246                  8                            5         10.0   \n",
              "\n",
              "     Bland Chromatin  Normal Nucleoli  Mitoses  Class  \n",
              "108                2                3        1      2  \n",
              "622                2                1        1      2  \n",
              "120                3                1        1      2  \n",
              "673                1                1        1      2  \n",
              "79                 2                1        1      2  \n",
              "86                 4                4        1      4  \n",
              "211                7                7        1      4  \n",
              "330                6                1        1      4  \n",
              "353                4                9        4      4  \n",
              "246                7                8        1      4  "
            ]
          },
          "execution_count": 8,
          "metadata": {},
          "output_type": "execute_result"
        }
      ],
      "source": [
        "data_clean.groupby('Class', group_keys=False).apply(lambda grp: grp.sample(n=5, random_state=1))"
      ]
    },
    {
      "cell_type": "markdown",
      "metadata": {
        "id": "9xPPVKZiaIAV"
      },
      "source": [
        "Instead of specifying the number of samples from each group, use the `frac` argument to sample 5% of the instances from each class. Set the `random_state = 1` for reproducibility and make sure to sample from `data_clean`."
      ]
    },
    {
      "cell_type": "code",
      "execution_count": null,
      "metadata": {
        "id": "n7Dvl-WgaIAV",
        "outputId": "09af5093-e267-4a60-c39d-299ebc8125ba"
      },
      "outputs": [
        {
          "data": {
            "text/plain": [
              "Class\n",
              "2    10\n",
              "4     9\n",
              "dtype: int64"
            ]
          },
          "execution_count": 9,
          "metadata": {},
          "output_type": "execute_result"
        }
      ],
      "source": [
        "# YOUR CODE HERE\n",
        "data_clean.groupby('Class', group_keys=False).apply(lambda grp: grp.sample(frac=0.05, random_state=1)).value_counts('Class')"
      ]
    },
    {
      "cell_type": "markdown",
      "metadata": {
        "id": "xx9lBdLYaIAV"
      },
      "source": [
        "**Question 1: How many instances of the benign vs. malevolent class does this sample result in?**\n",
        "\n",
        "**Answer:**\n",
        "10 benign, 9 malevolent"
      ]
    },
    {
      "cell_type": "markdown",
      "metadata": {
        "id": "cn2ROyGzaIAV"
      },
      "source": [
        "### Discretization\n",
        "\n",
        "Discretization is a data preprocessing step that is often used to transform a continuous-valued attribute to a categorical attribute. The example below illustrates two simple but widely-used unsupervised discretization methods (equal width and equal depth) applied to the 'Clump Thickness' attribute of the breast cancer dataset."
      ]
    },
    {
      "cell_type": "markdown",
      "metadata": {
        "id": "jdxPV3GIaIAV"
      },
      "source": [
        "First, we plot a histogram that shows the distribution of the attribute values. The value_counts() function can also be applied to count the frequency of each attribute value."
      ]
    },
    {
      "cell_type": "code",
      "execution_count": null,
      "metadata": {
        "id": "mqoNQ5--aIAV",
        "outputId": "b7d78ba1-95c6-49e3-9756-303f88076f82"
      },
      "outputs": [
        {
          "data": {
            "text/plain": [
              "1     48\n",
              "2     24\n",
              "3     54\n",
              "4     45\n",
              "5     87\n",
              "6     25\n",
              "7     19\n",
              "8     36\n",
              "9      9\n",
              "10    52\n",
              "Name: Clump Thickness, dtype: int64"
            ]
          },
          "execution_count": 10,
          "metadata": {},
          "output_type": "execute_result"
        },
        {
          "data": {
            "image/png": "[encoded data removed]",
            "text/plain": [
              "<Figure size 432x288 with 1 Axes>"
            ]
          },
          "metadata": {
            "needs_background": "light"
          },
          "output_type": "display_data"
        }
      ],
      "source": [
        "data_clean['Clump Thickness'].hist(bins=10)\n",
        "data_clean['Clump Thickness'].value_counts(sort=False)"
      ]
    },
    {
      "cell_type": "markdown",
      "metadata": {
        "id": "5CuLc35daIAV"
      },
      "source": [
        "For the equal width method, we can apply the cut() function to discretize the attribute into 4 bins of similar interval widths. The value_counts() function can be used to determine the number of instances in each bin."
      ]
    },
    {
      "cell_type": "code",
      "execution_count": null,
      "metadata": {
        "id": "em3moU9TaIAV",
        "outputId": "1a11b14e-2a7e-4a0d-89df-cca0ddcd73e6"
      },
      "outputs": [
        {
          "data": {
            "text/plain": [
              "(0.991, 3.25]    126\n",
              "(3.25, 5.5]      132\n",
              "(5.5, 7.75]       44\n",
              "(7.75, 10.0]      97\n",
              "Name: Clump Thickness, dtype: int64"
            ]
          },
          "execution_count": 11,
          "metadata": {},
          "output_type": "execute_result"
        }
      ],
      "source": [
        "bins = pd.cut(data_clean['Clump Thickness'], 4)\n",
        "bins.value_counts(sort=False)"
      ]
    },
    {
      "cell_type": "code",
      "execution_count": null,
      "metadata": {
        "id": "avXio-GRaIAV",
        "outputId": "93bd27b7-f07b-402a-bc24-180b2c8412a1"
      },
      "outputs": [
        {
          "data": {
            "image/png": "[encoded data removed]",
            "text/plain": [
              "<Figure size 432x288 with 1 Axes>"
            ]
          },
          "metadata": {
            "needs_background": "light"
          },
          "output_type": "display_data"
        }
      ],
      "source": [
        "# Plot the boundaries of the bin intervals resulting from the cut\n",
        "fig, ax = plt.subplots(1)\n",
        "data_clean['Clump Thickness'].hist(bins=10, ax=ax)\n",
        "\n",
        "for b in bins:\n",
        "    ax.axvline(x=b.left, color='red', linestyle='--')\n",
        "    ax.axvline(x=b.right, color='red', linestyle='--')"
      ]
    },
    {
      "cell_type": "markdown",
      "metadata": {
        "id": "QbxDzXF0aIAV"
      },
      "source": [
        "For the equal frequency method, the qcut() function can be used to partition the values into 4 bins such that each bin has a similar number of instances."
      ]
    },
    {
      "cell_type": "code",
      "execution_count": null,
      "metadata": {
        "id": "kvGYIX__aIAV",
        "outputId": "009a18c6-1c96-4b68-941b-8ea6bec53a9f"
      },
      "outputs": [
        {
          "data": {
            "text/plain": [
              "(0.999, 3.0]    126\n",
              "(3.0, 5.0]      132\n",
              "(5.0, 7.0]       44\n",
              "(7.0, 10.0]      97\n",
              "Name: Clump Thickness, dtype: int64"
            ]
          },
          "execution_count": 13,
          "metadata": {},
          "output_type": "execute_result"
        }
      ],
      "source": [
        "bins = pd.qcut(data_clean['Clump Thickness'], 4)\n",
        "bins.value_counts(sort=False)"
      ]
    },
    {
      "cell_type": "code",
      "execution_count": null,
      "metadata": {
        "id": "rx3wLB90aIAV",
        "outputId": "519aa07a-369e-49a9-86bb-413a9b1ef162"
      },
      "outputs": [
        {
          "data": {
            "image/png": "[encoded data removed]",
            "text/plain": [
              "<Figure size 432x288 with 1 Axes>"
            ]
          },
          "metadata": {
            "needs_background": "light"
          },
          "output_type": "display_data"
        }
      ],
      "source": [
        "# Plot the boundaries of the bin intervals resulting from the cut\n",
        "fig, ax = plt.subplots(1)\n",
        "data_clean['Clump Thickness'].hist(bins=10, ax=ax)\n",
        "\n",
        "for b in bins:\n",
        "    ax.axvline(x=b.left, color='red', linestyle='--')\n",
        "    ax.axvline(x=b.right, color='red', linestyle='--')"
      ]
    },
    {
      "cell_type": "markdown",
      "metadata": {
        "id": "uMxPtRqKaIAV"
      },
      "source": [
        "Use the qcut() function to partition the Clump Thickness data into 3 intervals with approximately equal frequency."
      ]
    },
    {
      "cell_type": "code",
      "execution_count": null,
      "metadata": {
        "id": "IJrfhap1aIAV"
      },
      "outputs": [],
      "source": [
        "# YOUR CODE HERE\n",
        "bins = pd.qcut(data_clean['Clump Thickness'], 3)"
      ]
    },
    {
      "cell_type": "markdown",
      "metadata": {
        "id": "fmREYgIeaIAV"
      },
      "source": [
        "Get the value counts in each bin."
      ]
    },
    {
      "cell_type": "code",
      "execution_count": null,
      "metadata": {
        "id": "iGH3MouoaIAW",
        "outputId": "fe70472b-dea1-42d0-d255-7001cdcdf139"
      },
      "outputs": [
        {
          "data": {
            "text/plain": [
              "(0.999, 4.0]    171\n",
              "(4.0, 6.0]      112\n",
              "(6.0, 10.0]     116\n",
              "Name: Clump Thickness, dtype: int64"
            ]
          },
          "execution_count": 16,
          "metadata": {},
          "output_type": "execute_result"
        }
      ],
      "source": [
        "# YOUR CODE HERE\n",
        "bins.value_counts(sort=False)"
      ]
    },
    {
      "cell_type": "markdown",
      "metadata": {
        "id": "NY2pQcbsaIAW"
      },
      "source": [
        "Plot the histogram and bin intervals for the Clump Thickness data partitioned into 3 equal frequency intervals."
      ]
    },
    {
      "cell_type": "code",
      "execution_count": null,
      "metadata": {
        "id": "lX5NF5GNaIAW",
        "outputId": "784ef63c-79ab-402c-b33c-9ce36f99dd16"
      },
      "outputs": [
        {
          "data": {
            "image/png": "[encoded data removed]",
            "text/plain": [
              "<Figure size 432x288 with 1 Axes>"
            ]
          },
          "metadata": {
            "needs_background": "light"
          },
          "output_type": "display_data"
        }
      ],
      "source": [
        "# YOUR CODE HERE\n",
        "# Plot the boundaries of the bin intervals resulting from the cut\n",
        "fig, ax = plt.subplots(1)\n",
        "data_clean['Clump Thickness'].hist(bins=10, ax=ax)\n",
        "\n",
        "for b in bins:\n",
        "    ax.axvline(x=b.left, color='red', linestyle='--')\n",
        "    ax.axvline(x=b.right, color='red', linestyle='--')"
      ]
    },
    {
      "cell_type": "markdown",
      "metadata": {
        "id": "z0xEVYMhaIAW"
      },
      "source": [
        "**Question 2: We'll refer to these three bins as small, medium, and large categories of Clump Thickneses. How many samples are in the small, medium, and large bins?**\n",
        "\n",
        "**Answer:**\n",
        "\n",
        "YOUR ANSWER HERE\n",
        "\n",
        "small: 171, medium: 112, large: 116\n",
        "\n",
        "Alternative accepted answer:\n",
        "\n",
        "small: 112, medium: 116, large: 171"
      ]
    },
    {
      "cell_type": "markdown",
      "metadata": {
        "id": "vXPkAxXXaIAW"
      },
      "source": [
        "### Dataset splits\n",
        "\n",
        "It is common practice in data mining and machine learning to split a dataset into training, validation, and test sets.\n",
        "\n",
        "- Training set: subset of dataset used for training/fitting model parameters\n",
        "- Validation set: subset of dataset used to evaluate model generalization performance and tune hyperparameters (model choices)\n",
        "- Test set: subset of dataset used to test performance after initial vetting using validation set\n",
        "\n",
        "The training set is usually allocated the largest percentage of the total dataset. For example, a common split might be 60/20/20\\% or 80/10/10\\% of the data assigned to training/validation/test subsets respectively.\n",
        "\n",
        "This example shows how to split the dataset into training, validation, and test subsets using a simple random sampling strategy (without replacement)."
      ]
    },
    {
      "cell_type": "code",
      "execution_count": null,
      "metadata": {
        "id": "W5mZ7gDhaIAW",
        "outputId": "59c77afb-2532-45d2-8e7e-dc40c2c116b7"
      },
      "outputs": [
        {
          "data": {
            "text/html": [
              "<div>\n",
              "<style scoped>\n",
              "    .dataframe tbody tr th:only-of-type {\n",
              "        vertical-align: middle;\n",
              "    }\n",
              "\n",
              "    .dataframe tbody tr th {\n",
              "        vertical-align: top;\n",
              "    }\n",
              "\n",
              "    .dataframe thead th {\n",
              "        text-align: right;\n",
              "    }\n",
              "</style>\n",
              "<table border=\"1\" class=\"dataframe\">\n",
              "  <thead>\n",
              "    <tr style=\"text-align: right;\">\n",
              "      <th></th>\n",
              "      <th>Clump Thickness</th>\n",
              "      <th>Uniformity of Cell Size</th>\n",
              "      <th>Uniformity of Cell Shape</th>\n",
              "      <th>Marginal Adhesion</th>\n",
              "      <th>Single Epithelial Cell Size</th>\n",
              "      <th>Bare Nuclei</th>\n",
              "      <th>Bland Chromatin</th>\n",
              "      <th>Normal Nucleoli</th>\n",
              "      <th>Mitoses</th>\n",
              "      <th>Class</th>\n",
              "    </tr>\n",
              "  </thead>\n",
              "  <tbody>\n",
              "    <tr>\n",
              "      <th>266</th>\n",
              "      <td>10</td>\n",
              "      <td>10</td>\n",
              "      <td>6</td>\n",
              "      <td>3</td>\n",
              "      <td>3</td>\n",
              "      <td>10.0</td>\n",
              "      <td>4</td>\n",
              "      <td>3</td>\n",
              "      <td>2</td>\n",
              "      <td>4</td>\n",
              "    </tr>\n",
              "    <tr>\n",
              "      <th>610</th>\n",
              "      <td>10</td>\n",
              "      <td>4</td>\n",
              "      <td>3</td>\n",
              "      <td>10</td>\n",
              "      <td>3</td>\n",
              "      <td>10.0</td>\n",
              "      <td>7</td>\n",
              "      <td>1</td>\n",
              "      <td>2</td>\n",
              "      <td>4</td>\n",
              "    </tr>\n",
              "    <tr>\n",
              "      <th>404</th>\n",
              "      <td>1</td>\n",
              "      <td>2</td>\n",
              "      <td>1</td>\n",
              "      <td>3</td>\n",
              "      <td>2</td>\n",
              "      <td>1.0</td>\n",
              "      <td>1</td>\n",
              "      <td>2</td>\n",
              "      <td>1</td>\n",
              "      <td>2</td>\n",
              "    </tr>\n",
              "    <tr>\n",
              "      <th>442</th>\n",
              "      <td>1</td>\n",
              "      <td>1</td>\n",
              "      <td>1</td>\n",
              "      <td>3</td>\n",
              "      <td>2</td>\n",
              "      <td>3.0</td>\n",
              "      <td>1</td>\n",
              "      <td>1</td>\n",
              "      <td>1</td>\n",
              "      <td>2</td>\n",
              "    </tr>\n",
              "    <tr>\n",
              "      <th>456</th>\n",
              "      <td>10</td>\n",
              "      <td>6</td>\n",
              "      <td>5</td>\n",
              "      <td>8</td>\n",
              "      <td>5</td>\n",
              "      <td>10.0</td>\n",
              "      <td>8</td>\n",
              "      <td>6</td>\n",
              "      <td>1</td>\n",
              "      <td>4</td>\n",
              "    </tr>\n",
              "    <tr>\n",
              "      <th>...</th>\n",
              "      <td>...</td>\n",
              "      <td>...</td>\n",
              "      <td>...</td>\n",
              "      <td>...</td>\n",
              "      <td>...</td>\n",
              "      <td>...</td>\n",
              "      <td>...</td>\n",
              "      <td>...</td>\n",
              "      <td>...</td>\n",
              "      <td>...</td>\n",
              "    </tr>\n",
              "    <tr>\n",
              "      <th>54</th>\n",
              "      <td>10</td>\n",
              "      <td>5</td>\n",
              "      <td>5</td>\n",
              "      <td>6</td>\n",
              "      <td>8</td>\n",
              "      <td>8.0</td>\n",
              "      <td>7</td>\n",
              "      <td>1</td>\n",
              "      <td>1</td>\n",
              "      <td>4</td>\n",
              "    </tr>\n",
              "    <tr>\n",
              "      <th>154</th>\n",
              "      <td>1</td>\n",
              "      <td>1</td>\n",
              "      <td>1</td>\n",
              "      <td>1</td>\n",
              "      <td>2</td>\n",
              "      <td>1.0</td>\n",
              "      <td>1</td>\n",
              "      <td>1</td>\n",
              "      <td>1</td>\n",
              "      <td>2</td>\n",
              "    </tr>\n",
              "    <tr>\n",
              "      <th>273</th>\n",
              "      <td>7</td>\n",
              "      <td>2</td>\n",
              "      <td>4</td>\n",
              "      <td>1</td>\n",
              "      <td>3</td>\n",
              "      <td>4.0</td>\n",
              "      <td>3</td>\n",
              "      <td>3</td>\n",
              "      <td>1</td>\n",
              "      <td>4</td>\n",
              "    </tr>\n",
              "    <tr>\n",
              "      <th>352</th>\n",
              "      <td>3</td>\n",
              "      <td>4</td>\n",
              "      <td>5</td>\n",
              "      <td>3</td>\n",
              "      <td>7</td>\n",
              "      <td>3.0</td>\n",
              "      <td>4</td>\n",
              "      <td>6</td>\n",
              "      <td>1</td>\n",
              "      <td>2</td>\n",
              "    </tr>\n",
              "    <tr>\n",
              "      <th>489</th>\n",
              "      <td>6</td>\n",
              "      <td>3</td>\n",
              "      <td>2</td>\n",
              "      <td>1</td>\n",
              "      <td>3</td>\n",
              "      <td>4.0</td>\n",
              "      <td>4</td>\n",
              "      <td>1</td>\n",
              "      <td>1</td>\n",
              "      <td>4</td>\n",
              "    </tr>\n",
              "  </tbody>\n",
              "</table>\n",
              "<p>239 rows × 10 columns</p>\n",
              "</div>"
            ],
            "text/plain": [
              "     Clump Thickness  Uniformity of Cell Size  Uniformity of Cell Shape  \\\n",
              "266               10                       10                         6   \n",
              "610               10                        4                         3   \n",
              "404                1                        2                         1   \n",
              "442                1                        1                         1   \n",
              "456               10                        6                         5   \n",
              "..               ...                      ...                       ...   \n",
              "54                10                        5                         5   \n",
              "154                1                        1                         1   \n",
              "273                7                        2                         4   \n",
              "352                3                        4                         5   \n",
              "489                6                        3                         2   \n",
              "\n",
              "     Marginal Adhesion  Single Epithelial Cell Size  Bare Nuclei  \\\n",
              "266                  3                            3         10.0   \n",
              "610                 10                            3         10.0   \n",
              "404                  3                            2          1.0   \n",
              "442                  3                            2          3.0   \n",
              "456                  8                            5         10.0   \n",
              "..                 ...                          ...          ...   \n",
              "54                   6                            8          8.0   \n",
              "154                  1                            2          1.0   \n",
              "273                  1                            3          4.0   \n",
              "352                  3                            7          3.0   \n",
              "489                  1                            3          4.0   \n",
              "\n",
              "     Bland Chromatin  Normal Nucleoli  Mitoses  Class  \n",
              "266                4                3        2      4  \n",
              "610                7                1        2      4  \n",
              "404                1                2        1      2  \n",
              "442                1                1        1      2  \n",
              "456                8                6        1      4  \n",
              "..               ...              ...      ...    ...  \n",
              "54                 7                1        1      4  \n",
              "154                1                1        1      2  \n",
              "273                3                3        1      4  \n",
              "352                4                6        1      2  \n",
              "489                4                1        1      4  \n",
              "\n",
              "[239 rows x 10 columns]"
            ]
          },
          "execution_count": 18,
          "metadata": {},
          "output_type": "execute_result"
        }
      ],
      "source": [
        "# Sample 60% of the instances for the training set\n",
        "train = data_clean.sample(frac=0.6, random_state=1)\n",
        "train"
      ]
    },
    {
      "cell_type": "code",
      "execution_count": null,
      "metadata": {
        "id": "r1AOX3BlaIAW",
        "outputId": "f81c44a9-08bd-4958-a272-2c2f91d3bf67"
      },
      "outputs": [
        {
          "data": {
            "text/html": [
              "<div>\n",
              "<style scoped>\n",
              "    .dataframe tbody tr th:only-of-type {\n",
              "        vertical-align: middle;\n",
              "    }\n",
              "\n",
              "    .dataframe tbody tr th {\n",
              "        vertical-align: top;\n",
              "    }\n",
              "\n",
              "    .dataframe thead th {\n",
              "        text-align: right;\n",
              "    }\n",
              "</style>\n",
              "<table border=\"1\" class=\"dataframe\">\n",
              "  <thead>\n",
              "    <tr style=\"text-align: right;\">\n",
              "      <th></th>\n",
              "      <th>Clump Thickness</th>\n",
              "      <th>Uniformity of Cell Size</th>\n",
              "      <th>Uniformity of Cell Shape</th>\n",
              "      <th>Marginal Adhesion</th>\n",
              "      <th>Single Epithelial Cell Size</th>\n",
              "      <th>Bare Nuclei</th>\n",
              "      <th>Bland Chromatin</th>\n",
              "      <th>Normal Nucleoli</th>\n",
              "      <th>Mitoses</th>\n",
              "      <th>Class</th>\n",
              "    </tr>\n",
              "  </thead>\n",
              "  <tbody>\n",
              "    <tr>\n",
              "      <th>87</th>\n",
              "      <td>3</td>\n",
              "      <td>6</td>\n",
              "      <td>6</td>\n",
              "      <td>6</td>\n",
              "      <td>5</td>\n",
              "      <td>10.0</td>\n",
              "      <td>6</td>\n",
              "      <td>8</td>\n",
              "      <td>3</td>\n",
              "      <td>4</td>\n",
              "    </tr>\n",
              "    <tr>\n",
              "      <th>138</th>\n",
              "      <td>4</td>\n",
              "      <td>1</td>\n",
              "      <td>2</td>\n",
              "      <td>1</td>\n",
              "      <td>2</td>\n",
              "      <td>1.0</td>\n",
              "      <td>2</td>\n",
              "      <td>1</td>\n",
              "      <td>1</td>\n",
              "      <td>2</td>\n",
              "    </tr>\n",
              "    <tr>\n",
              "      <th>41</th>\n",
              "      <td>10</td>\n",
              "      <td>4</td>\n",
              "      <td>3</td>\n",
              "      <td>1</td>\n",
              "      <td>3</td>\n",
              "      <td>3.0</td>\n",
              "      <td>6</td>\n",
              "      <td>5</td>\n",
              "      <td>2</td>\n",
              "      <td>4</td>\n",
              "    </tr>\n",
              "    <tr>\n",
              "      <th>347</th>\n",
              "      <td>1</td>\n",
              "      <td>1</td>\n",
              "      <td>1</td>\n",
              "      <td>1</td>\n",
              "      <td>1</td>\n",
              "      <td>1.0</td>\n",
              "      <td>1</td>\n",
              "      <td>3</td>\n",
              "      <td>1</td>\n",
              "      <td>2</td>\n",
              "    </tr>\n",
              "    <tr>\n",
              "      <th>316</th>\n",
              "      <td>5</td>\n",
              "      <td>5</td>\n",
              "      <td>5</td>\n",
              "      <td>2</td>\n",
              "      <td>5</td>\n",
              "      <td>10.0</td>\n",
              "      <td>4</td>\n",
              "      <td>3</td>\n",
              "      <td>1</td>\n",
              "      <td>4</td>\n",
              "    </tr>\n",
              "    <tr>\n",
              "      <th>...</th>\n",
              "      <td>...</td>\n",
              "      <td>...</td>\n",
              "      <td>...</td>\n",
              "      <td>...</td>\n",
              "      <td>...</td>\n",
              "      <td>...</td>\n",
              "      <td>...</td>\n",
              "      <td>...</td>\n",
              "      <td>...</td>\n",
              "      <td>...</td>\n",
              "    </tr>\n",
              "    <tr>\n",
              "      <th>234</th>\n",
              "      <td>3</td>\n",
              "      <td>3</td>\n",
              "      <td>2</td>\n",
              "      <td>1</td>\n",
              "      <td>3</td>\n",
              "      <td>1.0</td>\n",
              "      <td>3</td>\n",
              "      <td>6</td>\n",
              "      <td>1</td>\n",
              "      <td>2</td>\n",
              "    </tr>\n",
              "    <tr>\n",
              "      <th>209</th>\n",
              "      <td>5</td>\n",
              "      <td>1</td>\n",
              "      <td>1</td>\n",
              "      <td>1</td>\n",
              "      <td>1</td>\n",
              "      <td>1.0</td>\n",
              "      <td>3</td>\n",
              "      <td>1</td>\n",
              "      <td>1</td>\n",
              "      <td>2</td>\n",
              "    </tr>\n",
              "    <tr>\n",
              "      <th>325</th>\n",
              "      <td>3</td>\n",
              "      <td>2</td>\n",
              "      <td>2</td>\n",
              "      <td>1</td>\n",
              "      <td>2</td>\n",
              "      <td>1.0</td>\n",
              "      <td>2</td>\n",
              "      <td>3</td>\n",
              "      <td>1</td>\n",
              "      <td>2</td>\n",
              "    </tr>\n",
              "    <tr>\n",
              "      <th>333</th>\n",
              "      <td>5</td>\n",
              "      <td>4</td>\n",
              "      <td>6</td>\n",
              "      <td>6</td>\n",
              "      <td>4</td>\n",
              "      <td>10.0</td>\n",
              "      <td>4</td>\n",
              "      <td>3</td>\n",
              "      <td>1</td>\n",
              "      <td>4</td>\n",
              "    </tr>\n",
              "    <tr>\n",
              "      <th>159</th>\n",
              "      <td>9</td>\n",
              "      <td>9</td>\n",
              "      <td>10</td>\n",
              "      <td>3</td>\n",
              "      <td>6</td>\n",
              "      <td>10.0</td>\n",
              "      <td>7</td>\n",
              "      <td>10</td>\n",
              "      <td>6</td>\n",
              "      <td>4</td>\n",
              "    </tr>\n",
              "  </tbody>\n",
              "</table>\n",
              "<p>80 rows × 10 columns</p>\n",
              "</div>"
            ],
            "text/plain": [
              "     Clump Thickness  Uniformity of Cell Size  Uniformity of Cell Shape  \\\n",
              "87                 3                        6                         6   \n",
              "138                4                        1                         2   \n",
              "41                10                        4                         3   \n",
              "347                1                        1                         1   \n",
              "316                5                        5                         5   \n",
              "..               ...                      ...                       ...   \n",
              "234                3                        3                         2   \n",
              "209                5                        1                         1   \n",
              "325                3                        2                         2   \n",
              "333                5                        4                         6   \n",
              "159                9                        9                        10   \n",
              "\n",
              "     Marginal Adhesion  Single Epithelial Cell Size  Bare Nuclei  \\\n",
              "87                   6                            5         10.0   \n",
              "138                  1                            2          1.0   \n",
              "41                   1                            3          3.0   \n",
              "347                  1                            1          1.0   \n",
              "316                  2                            5         10.0   \n",
              "..                 ...                          ...          ...   \n",
              "234                  1                            3          1.0   \n",
              "209                  1                            1          1.0   \n",
              "325                  1                            2          1.0   \n",
              "333                  6                            4         10.0   \n",
              "159                  3                            6         10.0   \n",
              "\n",
              "     Bland Chromatin  Normal Nucleoli  Mitoses  Class  \n",
              "87                 6                8        3      4  \n",
              "138                2                1        1      2  \n",
              "41                 6                5        2      4  \n",
              "347                1                3        1      2  \n",
              "316                4                3        1      4  \n",
              "..               ...              ...      ...    ...  \n",
              "234                3                6        1      2  \n",
              "209                3                1        1      2  \n",
              "325                2                3        1      2  \n",
              "333                4                3        1      4  \n",
              "159                7               10        6      4  \n",
              "\n",
              "[80 rows x 10 columns]"
            ]
          },
          "execution_count": 19,
          "metadata": {},
          "output_type": "execute_result"
        }
      ],
      "source": [
        "# Sample 20% for the validation set.\n",
        "# First we need to drop the training instances from our dataframe to sample from the remaining instances.\n",
        "data_remaining = data_clean.drop(train.index)\n",
        "# Note that since we are sampling from the rows remaining after removing the training subset, which\n",
        "# leaves 40% of the total data, we need to sample 50% of the remaining dataset to result in 20% of\n",
        "# the original dataset.\n",
        "val = data_remaining.sample(frac=0.5, random_state=1)\n",
        "val"
      ]
    },
    {
      "cell_type": "code",
      "execution_count": null,
      "metadata": {
        "id": "dcD31FzMaIAW",
        "outputId": "3ea38faf-eb3b-4db6-ffd0-38b1d612bd59"
      },
      "outputs": [
        {
          "data": {
            "text/html": [
              "<div>\n",
              "<style scoped>\n",
              "    .dataframe tbody tr th:only-of-type {\n",
              "        vertical-align: middle;\n",
              "    }\n",
              "\n",
              "    .dataframe tbody tr th {\n",
              "        vertical-align: top;\n",
              "    }\n",
              "\n",
              "    .dataframe thead th {\n",
              "        text-align: right;\n",
              "    }\n",
              "</style>\n",
              "<table border=\"1\" class=\"dataframe\">\n",
              "  <thead>\n",
              "    <tr style=\"text-align: right;\">\n",
              "      <th></th>\n",
              "      <th>Clump Thickness</th>\n",
              "      <th>Uniformity of Cell Size</th>\n",
              "      <th>Uniformity of Cell Shape</th>\n",
              "      <th>Marginal Adhesion</th>\n",
              "      <th>Single Epithelial Cell Size</th>\n",
              "      <th>Bare Nuclei</th>\n",
              "      <th>Bland Chromatin</th>\n",
              "      <th>Normal Nucleoli</th>\n",
              "      <th>Mitoses</th>\n",
              "      <th>Class</th>\n",
              "    </tr>\n",
              "  </thead>\n",
              "  <tbody>\n",
              "    <tr>\n",
              "      <th>2</th>\n",
              "      <td>3</td>\n",
              "      <td>1</td>\n",
              "      <td>1</td>\n",
              "      <td>1</td>\n",
              "      <td>2</td>\n",
              "      <td>2.0</td>\n",
              "      <td>3</td>\n",
              "      <td>1</td>\n",
              "      <td>1</td>\n",
              "      <td>2</td>\n",
              "    </tr>\n",
              "    <tr>\n",
              "      <th>7</th>\n",
              "      <td>2</td>\n",
              "      <td>1</td>\n",
              "      <td>2</td>\n",
              "      <td>1</td>\n",
              "      <td>2</td>\n",
              "      <td>1.0</td>\n",
              "      <td>3</td>\n",
              "      <td>1</td>\n",
              "      <td>1</td>\n",
              "      <td>2</td>\n",
              "    </tr>\n",
              "    <tr>\n",
              "      <th>21</th>\n",
              "      <td>10</td>\n",
              "      <td>5</td>\n",
              "      <td>5</td>\n",
              "      <td>3</td>\n",
              "      <td>6</td>\n",
              "      <td>7.0</td>\n",
              "      <td>7</td>\n",
              "      <td>10</td>\n",
              "      <td>1</td>\n",
              "      <td>4</td>\n",
              "    </tr>\n",
              "    <tr>\n",
              "      <th>22</th>\n",
              "      <td>3</td>\n",
              "      <td>1</td>\n",
              "      <td>1</td>\n",
              "      <td>1</td>\n",
              "      <td>2</td>\n",
              "      <td>1.0</td>\n",
              "      <td>2</td>\n",
              "      <td>1</td>\n",
              "      <td>1</td>\n",
              "      <td>2</td>\n",
              "    </tr>\n",
              "    <tr>\n",
              "      <th>25</th>\n",
              "      <td>5</td>\n",
              "      <td>2</td>\n",
              "      <td>3</td>\n",
              "      <td>4</td>\n",
              "      <td>2</td>\n",
              "      <td>7.0</td>\n",
              "      <td>3</td>\n",
              "      <td>6</td>\n",
              "      <td>1</td>\n",
              "      <td>4</td>\n",
              "    </tr>\n",
              "    <tr>\n",
              "      <th>...</th>\n",
              "      <td>...</td>\n",
              "      <td>...</td>\n",
              "      <td>...</td>\n",
              "      <td>...</td>\n",
              "      <td>...</td>\n",
              "      <td>...</td>\n",
              "      <td>...</td>\n",
              "      <td>...</td>\n",
              "      <td>...</td>\n",
              "      <td>...</td>\n",
              "    </tr>\n",
              "    <tr>\n",
              "      <th>625</th>\n",
              "      <td>3</td>\n",
              "      <td>1</td>\n",
              "      <td>3</td>\n",
              "      <td>1</td>\n",
              "      <td>3</td>\n",
              "      <td>4.0</td>\n",
              "      <td>1</td>\n",
              "      <td>1</td>\n",
              "      <td>1</td>\n",
              "      <td>2</td>\n",
              "    </tr>\n",
              "    <tr>\n",
              "      <th>635</th>\n",
              "      <td>3</td>\n",
              "      <td>1</td>\n",
              "      <td>4</td>\n",
              "      <td>1</td>\n",
              "      <td>2</td>\n",
              "      <td>1.0</td>\n",
              "      <td>1</td>\n",
              "      <td>1</td>\n",
              "      <td>1</td>\n",
              "      <td>2</td>\n",
              "    </tr>\n",
              "    <tr>\n",
              "      <th>671</th>\n",
              "      <td>3</td>\n",
              "      <td>2</td>\n",
              "      <td>1</td>\n",
              "      <td>2</td>\n",
              "      <td>2</td>\n",
              "      <td>1.0</td>\n",
              "      <td>3</td>\n",
              "      <td>1</td>\n",
              "      <td>1</td>\n",
              "      <td>2</td>\n",
              "    </tr>\n",
              "    <tr>\n",
              "      <th>687</th>\n",
              "      <td>3</td>\n",
              "      <td>1</td>\n",
              "      <td>1</td>\n",
              "      <td>1</td>\n",
              "      <td>2</td>\n",
              "      <td>1.0</td>\n",
              "      <td>2</td>\n",
              "      <td>3</td>\n",
              "      <td>1</td>\n",
              "      <td>2</td>\n",
              "    </tr>\n",
              "    <tr>\n",
              "      <th>696</th>\n",
              "      <td>5</td>\n",
              "      <td>10</td>\n",
              "      <td>10</td>\n",
              "      <td>3</td>\n",
              "      <td>7</td>\n",
              "      <td>3.0</td>\n",
              "      <td>8</td>\n",
              "      <td>10</td>\n",
              "      <td>2</td>\n",
              "      <td>4</td>\n",
              "    </tr>\n",
              "  </tbody>\n",
              "</table>\n",
              "<p>80 rows × 10 columns</p>\n",
              "</div>"
            ],
            "text/plain": [
              "     Clump Thickness  Uniformity of Cell Size  Uniformity of Cell Shape  \\\n",
              "2                  3                        1                         1   \n",
              "7                  2                        1                         2   \n",
              "21                10                        5                         5   \n",
              "22                 3                        1                         1   \n",
              "25                 5                        2                         3   \n",
              "..               ...                      ...                       ...   \n",
              "625                3                        1                         3   \n",
              "635                3                        1                         4   \n",
              "671                3                        2                         1   \n",
              "687                3                        1                         1   \n",
              "696                5                       10                        10   \n",
              "\n",
              "     Marginal Adhesion  Single Epithelial Cell Size  Bare Nuclei  \\\n",
              "2                    1                            2          2.0   \n",
              "7                    1                            2          1.0   \n",
              "21                   3                            6          7.0   \n",
              "22                   1                            2          1.0   \n",
              "25                   4                            2          7.0   \n",
              "..                 ...                          ...          ...   \n",
              "625                  1                            3          4.0   \n",
              "635                  1                            2          1.0   \n",
              "671                  2                            2          1.0   \n",
              "687                  1                            2          1.0   \n",
              "696                  3                            7          3.0   \n",
              "\n",
              "     Bland Chromatin  Normal Nucleoli  Mitoses  Class  \n",
              "2                  3                1        1      2  \n",
              "7                  3                1        1      2  \n",
              "21                 7               10        1      4  \n",
              "22                 2                1        1      2  \n",
              "25                 3                6        1      4  \n",
              "..               ...              ...      ...    ...  \n",
              "625                1                1        1      2  \n",
              "635                1                1        1      2  \n",
              "671                3                1        1      2  \n",
              "687                2                3        1      2  \n",
              "696                8               10        2      4  \n",
              "\n",
              "[80 rows x 10 columns]"
            ]
          },
          "execution_count": 20,
          "metadata": {},
          "output_type": "execute_result"
        }
      ],
      "source": [
        "# Drop the validation instances from data_remaining\n",
        "# This leaves us with the remaining 20% of the original dataset,\n",
        "# which makes up our test set.\n",
        "test = data_remaining.drop(val.index)\n",
        "test"
      ]
    },
    {
      "cell_type": "markdown",
      "metadata": {
        "id": "U8CLVZZMaIAe"
      },
      "source": [
        "Use `value_counts()` to get the number of benign vs. malevolent examples in each subset."
      ]
    },
    {
      "cell_type": "code",
      "execution_count": null,
      "metadata": {
        "id": "NPL-Owu8aIAe",
        "outputId": "e50ca5da-e79a-4af9-c8b3-327a493d36a2"
      },
      "outputs": [
        {
          "name": "stdout",
          "output_type": "stream",
          "text": [
            "Class\n",
            "2    130\n",
            "4    109\n",
            "dtype: int64\n",
            "Class\n",
            "4    45\n",
            "2    35\n",
            "dtype: int64\n",
            "Class\n",
            "2    45\n",
            "4    35\n",
            "dtype: int64\n"
          ]
        }
      ],
      "source": [
        "# YOUR CODE HERE\n",
        "print(train.value_counts('Class'))\n",
        "print(val.value_counts('Class'))\n",
        "print(test.value_counts('Class'))"
      ]
    },
    {
      "cell_type": "markdown",
      "metadata": {
        "id": "UnF3zqauaIAe"
      },
      "source": [
        "**Question 3: How many benign and malevolent samples are in the training, validation, and test subset?**\n",
        "\n",
        "**Answer:**\n",
        "\n",
        "YOUR ANSWER HERE\n",
        "\n",
        "train: 130 benign, 109 malevolent; val: 35 benign, 45 malevolent; test: 45 benign, 35 malevolent"
      ]
    },
    {
      "cell_type": "markdown",
      "metadata": {
        "id": "Se9ghVLnaIAe"
      },
      "source": [
        "**Question 4: In this example, we sampled the dataset splits without replacement. Why is it important to use a sampling strategy *without* replacement, as opposed to using a sampling strategy *with* replacement?**\n",
        "\n",
        "**Answer:**\n",
        "\n",
        "YOUR ANSWER HERE\n",
        "\n",
        "Sampling with replacement would result in the same instances being included in the training, validation, and test sets, which would result in autocorrelation between the datasets and overestimate the performance of a model on the validation or test set since the subsets were not independent."
      ]
    },
    {
      "cell_type": "markdown",
      "metadata": {
        "id": "vRHu2TaaaIAe"
      },
      "source": [
        "## Feature scaling\n",
        "\n",
        "Many algorithms perform better when the values of all features have a similar range of values or are distributed a certain way (e.g., Gaussian-distributed). In lecture, we discussed several ways of transforming data. We will implement some of these scaling transformations here."
      ]
    },
    {
      "cell_type": "markdown",
      "metadata": {
        "id": "_VQ7gpFCaIAe"
      },
      "source": [
        "First, plot a histogram of the raw values for each feature."
      ]
    },
    {
      "cell_type": "code",
      "execution_count": null,
      "metadata": {
        "id": "qFHPFu5iaIAe"
      },
      "outputs": [],
      "source": [
        "# First let's drop the Class column since we only want to\n",
        "# apply transformations to the features, not the class values\n",
        "df = data_clean.drop(columns=['Class'])"
      ]
    },
    {
      "cell_type": "code",
      "execution_count": null,
      "metadata": {
        "id": "BSoMSEUDaIAe",
        "outputId": "2a2bd818-f48b-4055-d5b0-5a15bfa77804"
      },
      "outputs": [
        {
          "data": {
            "image/png": "[encoded data removed]",
            "text/plain": [
              "<Figure size 720x720 with 9 Axes>"
            ]
          },
          "metadata": {
            "needs_background": "light"
          },
          "output_type": "display_data"
        }
      ],
      "source": [
        "import matplotlib.pyplot as plt\n",
        "fig, axes = plt.subplots(nrows=3, ncols=3, figsize=(10,10))\n",
        "\n",
        "for i, col in enumerate(df):\n",
        "    df[col].hist(bins=10, ax=axes.flat[i])\n",
        "    axes.flat[i].set_xlabel(col)\n",
        "    axes.flat[i].set_ylabel('counts')\n",
        "\n",
        "fig.tight_layout()"
      ]
    },
    {
      "cell_type": "markdown",
      "metadata": {
        "id": "qiMui_KUaIAe"
      },
      "source": [
        "### Standardization\n",
        "\n",
        "We already applied one type of scaling transformation when we computed the Z scores to identify outliers earlier in Lab 3 and in Lab 2. Standardization (also called Z-score scaling) scales all features to have 0 mean and unit variance. For each sample, we subtract the mean and divide by the standard deviation; the mean and standard deviation are computed for each feature.\n",
        "\n",
        "We can compute the mean and standard deviation for each feature as follows:"
      ]
    },
    {
      "cell_type": "code",
      "execution_count": null,
      "metadata": {
        "id": "GBR4brQZaIAe",
        "outputId": "4d2655a7-58eb-411a-dab2-39b4cd187474"
      },
      "outputs": [
        {
          "data": {
            "text/plain": [
              "Clump Thickness                5.125313\n",
              "Uniformity of Cell Size        3.799499\n",
              "Uniformity of Cell Shape       3.872180\n",
              "Marginal Adhesion              3.426065\n",
              "Single Epithelial Cell Size    3.348371\n",
              "Bare Nuclei                    4.513784\n",
              "Bland Chromatin                3.949875\n",
              "Normal Nucleoli                3.536341\n",
              "Mitoses                        1.403509\n",
              "dtype: float64"
            ]
          },
          "execution_count": 24,
          "metadata": {},
          "output_type": "execute_result"
        }
      ],
      "source": [
        "df.mean()"
      ]
    },
    {
      "cell_type": "code",
      "execution_count": null,
      "metadata": {
        "id": "kNE6YUNDaIAf",
        "outputId": "f982850b-1dac-4fb5-a197-5ef9fa64cb64"
      },
      "outputs": [
        {
          "data": {
            "text/plain": [
              "Clump Thickness                2.794347\n",
              "Uniformity of Cell Size        3.045699\n",
              "Uniformity of Cell Shape       2.929868\n",
              "Marginal Adhesion              2.967821\n",
              "Single Epithelial Cell Size    1.824303\n",
              "Bare Nuclei                    3.829164\n",
              "Bland Chromatin                2.523755\n",
              "Normal Nucleoli                3.248201\n",
              "Mitoses                        0.929736\n",
              "dtype: float64"
            ]
          },
          "execution_count": 25,
          "metadata": {},
          "output_type": "execute_result"
        }
      ],
      "source": [
        "df.std()"
      ]
    },
    {
      "cell_type": "markdown",
      "metadata": {
        "id": "bcAIZnX3aIAf"
      },
      "source": [
        "The following example applies the Z-score scaling to the dataset."
      ]
    },
    {
      "cell_type": "code",
      "execution_count": null,
      "metadata": {
        "id": "RkoWvUe7aIAf",
        "outputId": "7b92f535-faa9-4442-9b53-fda7118bb548"
      },
      "outputs": [
        {
          "data": {
            "text/html": [
              "<div>\n",
              "<style scoped>\n",
              "    .dataframe tbody tr th:only-of-type {\n",
              "        vertical-align: middle;\n",
              "    }\n",
              "\n",
              "    .dataframe tbody tr th {\n",
              "        vertical-align: top;\n",
              "    }\n",
              "\n",
              "    .dataframe thead th {\n",
              "        text-align: right;\n",
              "    }\n",
              "</style>\n",
              "<table border=\"1\" class=\"dataframe\">\n",
              "  <thead>\n",
              "    <tr style=\"text-align: right;\">\n",
              "      <th></th>\n",
              "      <th>Clump Thickness</th>\n",
              "      <th>Uniformity of Cell Size</th>\n",
              "      <th>Uniformity of Cell Shape</th>\n",
              "      <th>Marginal Adhesion</th>\n",
              "      <th>Single Epithelial Cell Size</th>\n",
              "      <th>Bare Nuclei</th>\n",
              "      <th>Bland Chromatin</th>\n",
              "      <th>Normal Nucleoli</th>\n",
              "      <th>Mitoses</th>\n",
              "    </tr>\n",
              "  </thead>\n",
              "  <tbody>\n",
              "    <tr>\n",
              "      <th>0</th>\n",
              "      <td>-0.044845</td>\n",
              "      <td>-0.919165</td>\n",
              "      <td>-0.980311</td>\n",
              "      <td>-0.817457</td>\n",
              "      <td>-0.739116</td>\n",
              "      <td>-0.917637</td>\n",
              "      <td>-0.376374</td>\n",
              "      <td>-0.780845</td>\n",
              "      <td>-0.434003</td>\n",
              "    </tr>\n",
              "    <tr>\n",
              "      <th>1</th>\n",
              "      <td>-0.044845</td>\n",
              "      <td>0.065831</td>\n",
              "      <td>0.043626</td>\n",
              "      <td>0.530333</td>\n",
              "      <td>2.001657</td>\n",
              "      <td>1.432745</td>\n",
              "      <td>-0.376374</td>\n",
              "      <td>-0.472982</td>\n",
              "      <td>-0.434003</td>\n",
              "    </tr>\n",
              "    <tr>\n",
              "      <th>2</th>\n",
              "      <td>-0.760576</td>\n",
              "      <td>-0.919165</td>\n",
              "      <td>-0.980311</td>\n",
              "      <td>-0.817457</td>\n",
              "      <td>-0.739116</td>\n",
              "      <td>-0.656484</td>\n",
              "      <td>-0.376374</td>\n",
              "      <td>-0.780845</td>\n",
              "      <td>-0.434003</td>\n",
              "    </tr>\n",
              "    <tr>\n",
              "      <th>3</th>\n",
              "      <td>0.313020</td>\n",
              "      <td>1.379158</td>\n",
              "      <td>1.408876</td>\n",
              "      <td>-0.817457</td>\n",
              "      <td>-0.190961</td>\n",
              "      <td>-0.134177</td>\n",
              "      <td>-0.376374</td>\n",
              "      <td>1.066331</td>\n",
              "      <td>-0.434003</td>\n",
              "    </tr>\n",
              "    <tr>\n",
              "      <th>4</th>\n",
              "      <td>-0.402711</td>\n",
              "      <td>-0.919165</td>\n",
              "      <td>-0.980311</td>\n",
              "      <td>-0.143562</td>\n",
              "      <td>-0.739116</td>\n",
              "      <td>-0.917637</td>\n",
              "      <td>-0.376374</td>\n",
              "      <td>-0.780845</td>\n",
              "      <td>-0.434003</td>\n",
              "    </tr>\n",
              "    <tr>\n",
              "      <th>...</th>\n",
              "      <td>...</td>\n",
              "      <td>...</td>\n",
              "      <td>...</td>\n",
              "      <td>...</td>\n",
              "      <td>...</td>\n",
              "      <td>...</td>\n",
              "      <td>...</td>\n",
              "      <td>...</td>\n",
              "      <td>...</td>\n",
              "    </tr>\n",
              "    <tr>\n",
              "      <th>693</th>\n",
              "      <td>-0.760576</td>\n",
              "      <td>-0.919165</td>\n",
              "      <td>-0.980311</td>\n",
              "      <td>-0.817457</td>\n",
              "      <td>-0.739116</td>\n",
              "      <td>-0.917637</td>\n",
              "      <td>-0.772608</td>\n",
              "      <td>-0.780845</td>\n",
              "      <td>0.641570</td>\n",
              "    </tr>\n",
              "    <tr>\n",
              "      <th>694</th>\n",
              "      <td>-0.760576</td>\n",
              "      <td>-0.919165</td>\n",
              "      <td>-0.980311</td>\n",
              "      <td>-0.817457</td>\n",
              "      <td>-0.190961</td>\n",
              "      <td>-0.656484</td>\n",
              "      <td>-1.168843</td>\n",
              "      <td>-0.780845</td>\n",
              "      <td>-0.434003</td>\n",
              "    </tr>\n",
              "    <tr>\n",
              "      <th>696</th>\n",
              "      <td>-0.044845</td>\n",
              "      <td>2.035822</td>\n",
              "      <td>2.091501</td>\n",
              "      <td>-0.143562</td>\n",
              "      <td>2.001657</td>\n",
              "      <td>-0.395330</td>\n",
              "      <td>1.604801</td>\n",
              "      <td>1.989920</td>\n",
              "      <td>0.641570</td>\n",
              "    </tr>\n",
              "    <tr>\n",
              "      <th>697</th>\n",
              "      <td>-0.402711</td>\n",
              "      <td>1.379158</td>\n",
              "      <td>0.726251</td>\n",
              "      <td>0.193386</td>\n",
              "      <td>-0.190961</td>\n",
              "      <td>-0.134177</td>\n",
              "      <td>2.397271</td>\n",
              "      <td>0.758469</td>\n",
              "      <td>-0.434003</td>\n",
              "    </tr>\n",
              "    <tr>\n",
              "      <th>698</th>\n",
              "      <td>-0.402711</td>\n",
              "      <td>1.379158</td>\n",
              "      <td>1.408876</td>\n",
              "      <td>0.530333</td>\n",
              "      <td>0.357193</td>\n",
              "      <td>0.126977</td>\n",
              "      <td>2.397271</td>\n",
              "      <td>0.142743</td>\n",
              "      <td>-0.434003</td>\n",
              "    </tr>\n",
              "  </tbody>\n",
              "</table>\n",
              "<p>399 rows × 9 columns</p>\n",
              "</div>"
            ],
            "text/plain": [
              "     Clump Thickness  Uniformity of Cell Size  Uniformity of Cell Shape  \\\n",
              "0          -0.044845                -0.919165                 -0.980311   \n",
              "1          -0.044845                 0.065831                  0.043626   \n",
              "2          -0.760576                -0.919165                 -0.980311   \n",
              "3           0.313020                 1.379158                  1.408876   \n",
              "4          -0.402711                -0.919165                 -0.980311   \n",
              "..               ...                      ...                       ...   \n",
              "693        -0.760576                -0.919165                 -0.980311   \n",
              "694        -0.760576                -0.919165                 -0.980311   \n",
              "696        -0.044845                 2.035822                  2.091501   \n",
              "697        -0.402711                 1.379158                  0.726251   \n",
              "698        -0.402711                 1.379158                  1.408876   \n",
              "\n",
              "     Marginal Adhesion  Single Epithelial Cell Size  Bare Nuclei  \\\n",
              "0            -0.817457                    -0.739116    -0.917637   \n",
              "1             0.530333                     2.001657     1.432745   \n",
              "2            -0.817457                    -0.739116    -0.656484   \n",
              "3            -0.817457                    -0.190961    -0.134177   \n",
              "4            -0.143562                    -0.739116    -0.917637   \n",
              "..                 ...                          ...          ...   \n",
              "693          -0.817457                    -0.739116    -0.917637   \n",
              "694          -0.817457                    -0.190961    -0.656484   \n",
              "696          -0.143562                     2.001657    -0.395330   \n",
              "697           0.193386                    -0.190961    -0.134177   \n",
              "698           0.530333                     0.357193     0.126977   \n",
              "\n",
              "     Bland Chromatin  Normal Nucleoli   Mitoses  \n",
              "0          -0.376374        -0.780845 -0.434003  \n",
              "1          -0.376374        -0.472982 -0.434003  \n",
              "2          -0.376374        -0.780845 -0.434003  \n",
              "3          -0.376374         1.066331 -0.434003  \n",
              "4          -0.376374        -0.780845 -0.434003  \n",
              "..               ...              ...       ...  \n",
              "693        -0.772608        -0.780845  0.641570  \n",
              "694        -1.168843        -0.780845 -0.434003  \n",
              "696         1.604801         1.989920  0.641570  \n",
              "697         2.397271         0.758469 -0.434003  \n",
              "698         2.397271         0.142743 -0.434003  \n",
              "\n",
              "[399 rows x 9 columns]"
            ]
          },
          "execution_count": 26,
          "metadata": {},
          "output_type": "execute_result"
        }
      ],
      "source": [
        "Z = (df - df.mean()) / df.std()\n",
        "Z"
      ]
    },
    {
      "cell_type": "markdown",
      "metadata": {
        "id": "iR1oJ4ZPaIAf"
      },
      "source": [
        "Now, plot the histograms for the standardized features. Notice that the distributions look visually the same, but the ranges of the values on the x axes have been squashed into a smaller range. For example, Clump Thickness previously ranged from 1 to 10, but now ranges from approximately -1.5 to 1.5."
      ]
    },
    {
      "cell_type": "code",
      "execution_count": null,
      "metadata": {
        "id": "ptKuOmHPaIAf",
        "outputId": "e7f000fe-cd63-4c0d-880c-51986466674d"
      },
      "outputs": [
        {
          "data": {
            "image/png": "[encoded data removed]",
            "text/plain": [
              "<Figure size 720x720 with 9 Axes>"
            ]
          },
          "metadata": {
            "needs_background": "light"
          },
          "output_type": "display_data"
        }
      ],
      "source": [
        "import matplotlib.pyplot as plt\n",
        "fig, axes = plt.subplots(nrows=3, ncols=3, figsize=(10,10))\n",
        "\n",
        "for i, col in enumerate(df):\n",
        "    Z[col].hist(bins=10, ax=axes.flat[i])\n",
        "    axes.flat[i].set_xlabel(col)\n",
        "    axes.flat[i].set_ylabel('counts')\n",
        "\n",
        "fig.tight_layout()"
      ]
    },
    {
      "cell_type": "markdown",
      "metadata": {
        "id": "knmziU4ZaIAf"
      },
      "source": [
        "### Normalization\n",
        "\n",
        "Normalization scales all samples to have unit norm (vector length). The below example demonstrates normalizing the data using the L2 norm (Euclidean distance). Note that we use the library sklearn to do this transformation; sklearn has many preprocessing and scaling utilities that you can read more about here: https://scikit-learn.org/stable/modules/preprocessing.html"
      ]
    },
    {
      "cell_type": "code",
      "execution_count": null,
      "metadata": {
        "id": "6UilPu3DaIAf",
        "outputId": "e3d0190c-0506-4ce4-82ee-5ed595836fd9"
      },
      "outputs": [
        {
          "name": "stdout",
          "output_type": "stream",
          "text": [
            "1.0\n"
          ]
        }
      ],
      "source": [
        "from sklearn import preprocessing\n",
        "import numpy as np\n",
        "\n",
        "df_norm = preprocessing.normalize(df, norm='l2')\n",
        "\n",
        "# We can check that the features indeed have unit norm now by printing the L2 norm of one sample\n",
        "print(np.linalg.norm(df_norm[0], ord=2))"
      ]
    },
    {
      "cell_type": "markdown",
      "metadata": {
        "id": "fUfiYR01aIAf"
      },
      "source": [
        "Observe the effect of this normalization on the feature distributions. After *normal*ization, they now appear approximately *normally* distributed."
      ]
    },
    {
      "cell_type": "code",
      "execution_count": null,
      "metadata": {
        "id": "CXYZiZCwaIAf",
        "outputId": "8df96674-d179-4746-ec1a-702c9b523fb4"
      },
      "outputs": [
        {
          "data": {
            "image/png": "[encoded data removed]",
            "text/plain": [
              "<Figure size 720x720 with 9 Axes>"
            ]
          },
          "metadata": {
            "needs_background": "light"
          },
          "output_type": "display_data"
        }
      ],
      "source": [
        "import matplotlib.pyplot as plt\n",
        "fig, axes = plt.subplots(nrows=3, ncols=3, figsize=(10,10))\n",
        "\n",
        "for i, col in enumerate(df):\n",
        "    axes.flat[i].hist(df_norm[:,i], bins=10)\n",
        "    axes.flat[i].set_xlabel(col)\n",
        "    axes.flat[i].set_ylabel('counts')\n",
        "\n",
        "fig.tight_layout()"
      ]
    },
    {
      "cell_type": "markdown",
      "metadata": {
        "id": "aNjqcrbSaIAf"
      },
      "source": [
        "Instead of using the L2 norm to normalize the dataset, try using the L1 norm. You can do this simply by passing `norm=l1` instead of `l2` as we did above."
      ]
    },
    {
      "cell_type": "code",
      "execution_count": null,
      "metadata": {
        "id": "8My_0rChaIAf"
      },
      "outputs": [],
      "source": [
        "# YOUR CODE HERE\n",
        "df_norm_l1 = preprocessing.normalize(df, norm='l1')"
      ]
    },
    {
      "cell_type": "markdown",
      "metadata": {
        "id": "9ed4brf_aIAf"
      },
      "source": [
        "Check that the norm of each sample is 1 by printing the l1 norm of the first sample (same as we did in the above example)."
      ]
    },
    {
      "cell_type": "code",
      "execution_count": null,
      "metadata": {
        "id": "xy7ALlaWaIAf",
        "outputId": "908ac977-2d63-4702-be3a-d09fbac279cb"
      },
      "outputs": [
        {
          "name": "stdout",
          "output_type": "stream",
          "text": [
            "1.0\n"
          ]
        }
      ],
      "source": [
        "# YOUR CODE HERE\n",
        "print(np.linalg.norm(df_norm_l1[0], ord=1))"
      ]
    },
    {
      "cell_type": "markdown",
      "metadata": {
        "id": "SZtrCfUqaIAi"
      },
      "source": [
        "### Linear scaling\n",
        "\n",
        "The equation for linear scaling shown in lecture was the following:\n",
        "\n",
        "$x_i = (x_i - min_i ) / (max_i - min_i)$\n",
        "\n",
        "The code below demonstrates how to compute this transformation."
      ]
    },
    {
      "cell_type": "code",
      "execution_count": null,
      "metadata": {
        "id": "dl_ZVrEnaIAi"
      },
      "outputs": [],
      "source": [
        "linscale = (df - df.min()) / (df.max() - df.min())"
      ]
    },
    {
      "cell_type": "markdown",
      "metadata": {
        "id": "uUSqCn2uaIAi"
      },
      "source": [
        "Using the `describe()` function to describe the scaled dataset statistics, we see that the min and max range for each feature is now [0, 1]."
      ]
    },
    {
      "cell_type": "code",
      "execution_count": null,
      "metadata": {
        "id": "KnEqlujwaIAi",
        "outputId": "680aac33-f811-48f5-fc91-23ab9be764ce"
      },
      "outputs": [
        {
          "data": {
            "text/html": [
              "<div>\n",
              "<style scoped>\n",
              "    .dataframe tbody tr th:only-of-type {\n",
              "        vertical-align: middle;\n",
              "    }\n",
              "\n",
              "    .dataframe tbody tr th {\n",
              "        vertical-align: top;\n",
              "    }\n",
              "\n",
              "    .dataframe thead th {\n",
              "        text-align: right;\n",
              "    }\n",
              "</style>\n",
              "<table border=\"1\" class=\"dataframe\">\n",
              "  <thead>\n",
              "    <tr style=\"text-align: right;\">\n",
              "      <th></th>\n",
              "      <th>Clump Thickness</th>\n",
              "      <th>Uniformity of Cell Size</th>\n",
              "      <th>Uniformity of Cell Shape</th>\n",
              "      <th>Marginal Adhesion</th>\n",
              "      <th>Single Epithelial Cell Size</th>\n",
              "      <th>Bare Nuclei</th>\n",
              "      <th>Bland Chromatin</th>\n",
              "      <th>Normal Nucleoli</th>\n",
              "      <th>Mitoses</th>\n",
              "    </tr>\n",
              "  </thead>\n",
              "  <tbody>\n",
              "    <tr>\n",
              "      <th>count</th>\n",
              "      <td>399.000000</td>\n",
              "      <td>399.000000</td>\n",
              "      <td>399.000000</td>\n",
              "      <td>399.000000</td>\n",
              "      <td>399.000000</td>\n",
              "      <td>399.000000</td>\n",
              "      <td>399.000000</td>\n",
              "      <td>399.000000</td>\n",
              "      <td>399.000000</td>\n",
              "    </tr>\n",
              "    <tr>\n",
              "      <th>mean</th>\n",
              "      <td>0.458368</td>\n",
              "      <td>0.311055</td>\n",
              "      <td>0.319131</td>\n",
              "      <td>0.269563</td>\n",
              "      <td>0.293546</td>\n",
              "      <td>0.390420</td>\n",
              "      <td>0.327764</td>\n",
              "      <td>0.281816</td>\n",
              "      <td>0.080702</td>\n",
              "    </tr>\n",
              "    <tr>\n",
              "      <th>std</th>\n",
              "      <td>0.310483</td>\n",
              "      <td>0.338411</td>\n",
              "      <td>0.325541</td>\n",
              "      <td>0.329758</td>\n",
              "      <td>0.228038</td>\n",
              "      <td>0.425463</td>\n",
              "      <td>0.280417</td>\n",
              "      <td>0.360911</td>\n",
              "      <td>0.185947</td>\n",
              "    </tr>\n",
              "    <tr>\n",
              "      <th>min</th>\n",
              "      <td>0.000000</td>\n",
              "      <td>0.000000</td>\n",
              "      <td>0.000000</td>\n",
              "      <td>0.000000</td>\n",
              "      <td>0.000000</td>\n",
              "      <td>0.000000</td>\n",
              "      <td>0.000000</td>\n",
              "      <td>0.000000</td>\n",
              "      <td>0.000000</td>\n",
              "    </tr>\n",
              "    <tr>\n",
              "      <th>25%</th>\n",
              "      <td>0.222222</td>\n",
              "      <td>0.000000</td>\n",
              "      <td>0.000000</td>\n",
              "      <td>0.000000</td>\n",
              "      <td>0.125000</td>\n",
              "      <td>0.000000</td>\n",
              "      <td>0.111111</td>\n",
              "      <td>0.000000</td>\n",
              "      <td>0.000000</td>\n",
              "    </tr>\n",
              "    <tr>\n",
              "      <th>50%</th>\n",
              "      <td>0.444444</td>\n",
              "      <td>0.222222</td>\n",
              "      <td>0.222222</td>\n",
              "      <td>0.111111</td>\n",
              "      <td>0.250000</td>\n",
              "      <td>0.222222</td>\n",
              "      <td>0.222222</td>\n",
              "      <td>0.111111</td>\n",
              "      <td>0.000000</td>\n",
              "    </tr>\n",
              "    <tr>\n",
              "      <th>75%</th>\n",
              "      <td>0.666667</td>\n",
              "      <td>0.555556</td>\n",
              "      <td>0.555556</td>\n",
              "      <td>0.444444</td>\n",
              "      <td>0.437500</td>\n",
              "      <td>1.000000</td>\n",
              "      <td>0.555556</td>\n",
              "      <td>0.555556</td>\n",
              "      <td>0.000000</td>\n",
              "    </tr>\n",
              "    <tr>\n",
              "      <th>max</th>\n",
              "      <td>1.000000</td>\n",
              "      <td>1.000000</td>\n",
              "      <td>1.000000</td>\n",
              "      <td>1.000000</td>\n",
              "      <td>1.000000</td>\n",
              "      <td>1.000000</td>\n",
              "      <td>1.000000</td>\n",
              "      <td>1.000000</td>\n",
              "      <td>1.000000</td>\n",
              "    </tr>\n",
              "  </tbody>\n",
              "</table>\n",
              "</div>"
            ],
            "text/plain": [
              "       Clump Thickness  Uniformity of Cell Size  Uniformity of Cell Shape  \\\n",
              "count       399.000000               399.000000                399.000000   \n",
              "mean          0.458368                 0.311055                  0.319131   \n",
              "std           0.310483                 0.338411                  0.325541   \n",
              "min           0.000000                 0.000000                  0.000000   \n",
              "25%           0.222222                 0.000000                  0.000000   \n",
              "50%           0.444444                 0.222222                  0.222222   \n",
              "75%           0.666667                 0.555556                  0.555556   \n",
              "max           1.000000                 1.000000                  1.000000   \n",
              "\n",
              "       Marginal Adhesion  Single Epithelial Cell Size  Bare Nuclei  \\\n",
              "count         399.000000                   399.000000   399.000000   \n",
              "mean            0.269563                     0.293546     0.390420   \n",
              "std             0.329758                     0.228038     0.425463   \n",
              "min             0.000000                     0.000000     0.000000   \n",
              "25%             0.000000                     0.125000     0.000000   \n",
              "50%             0.111111                     0.250000     0.222222   \n",
              "75%             0.444444                     0.437500     1.000000   \n",
              "max             1.000000                     1.000000     1.000000   \n",
              "\n",
              "       Bland Chromatin  Normal Nucleoli     Mitoses  \n",
              "count       399.000000       399.000000  399.000000  \n",
              "mean          0.327764         0.281816    0.080702  \n",
              "std           0.280417         0.360911    0.185947  \n",
              "min           0.000000         0.000000    0.000000  \n",
              "25%           0.111111         0.000000    0.000000  \n",
              "50%           0.222222         0.111111    0.000000  \n",
              "75%           0.555556         0.555556    0.000000  \n",
              "max           1.000000         1.000000    1.000000  "
            ]
          },
          "execution_count": 33,
          "metadata": {},
          "output_type": "execute_result"
        }
      ],
      "source": [
        "linscale.describe()"
      ]
    },
    {
      "cell_type": "markdown",
      "metadata": {
        "id": "g9fM8vSqaIAj"
      },
      "source": [
        "### MinMax scaling\n",
        "\n",
        "MinMax scaling is similar to the above but allows us to specify the min and max that we want our data to have. This is described by the following equations:\n",
        "\n",
        "$std_i = (x_i - min_i ) / (max_i - min_i)$\n",
        "$x_i = std_i * (max - min) + min$\n",
        "\n",
        "where $max$ and $min$ are the desired max and min values.\n",
        "\n",
        "For example, if we want the features to range from [-1, 1], we would apply the following transformation:\n",
        "\n",
        "$x_i = std_i * (1 - (-1)) + (-1)$\n",
        "\n",
        "This is demonstrated in the code example below."
      ]
    },
    {
      "cell_type": "code",
      "execution_count": null,
      "metadata": {
        "id": "2wY2vYT3aIAj"
      },
      "outputs": [],
      "source": [
        "minmax = linscale * (1 - (-1)) + (-1)"
      ]
    },
    {
      "cell_type": "markdown",
      "metadata": {
        "id": "JRju6b8RaIAj"
      },
      "source": [
        "Using the `describe()` function to describe the scaled dataset statistics, we see that the min and max range for each feature is now [-1, 1]."
      ]
    },
    {
      "cell_type": "code",
      "execution_count": null,
      "metadata": {
        "id": "p3KDCf0TaIAj",
        "outputId": "089053e5-c32e-4705-f80a-c874a593f607"
      },
      "outputs": [
        {
          "data": {
            "text/html": [
              "<div>\n",
              "<style scoped>\n",
              "    .dataframe tbody tr th:only-of-type {\n",
              "        vertical-align: middle;\n",
              "    }\n",
              "\n",
              "    .dataframe tbody tr th {\n",
              "        vertical-align: top;\n",
              "    }\n",
              "\n",
              "    .dataframe thead th {\n",
              "        text-align: right;\n",
              "    }\n",
              "</style>\n",
              "<table border=\"1\" class=\"dataframe\">\n",
              "  <thead>\n",
              "    <tr style=\"text-align: right;\">\n",
              "      <th></th>\n",
              "      <th>Clump Thickness</th>\n",
              "      <th>Uniformity of Cell Size</th>\n",
              "      <th>Uniformity of Cell Shape</th>\n",
              "      <th>Marginal Adhesion</th>\n",
              "      <th>Single Epithelial Cell Size</th>\n",
              "      <th>Bare Nuclei</th>\n",
              "      <th>Bland Chromatin</th>\n",
              "      <th>Normal Nucleoli</th>\n",
              "      <th>Mitoses</th>\n",
              "    </tr>\n",
              "  </thead>\n",
              "  <tbody>\n",
              "    <tr>\n",
              "      <th>count</th>\n",
              "      <td>399.000000</td>\n",
              "      <td>399.000000</td>\n",
              "      <td>399.000000</td>\n",
              "      <td>399.000000</td>\n",
              "      <td>399.000000</td>\n",
              "      <td>399.000000</td>\n",
              "      <td>399.000000</td>\n",
              "      <td>399.000000</td>\n",
              "      <td>399.000000</td>\n",
              "    </tr>\n",
              "    <tr>\n",
              "      <th>mean</th>\n",
              "      <td>-0.083264</td>\n",
              "      <td>-0.377889</td>\n",
              "      <td>-0.361738</td>\n",
              "      <td>-0.460874</td>\n",
              "      <td>-0.412907</td>\n",
              "      <td>-0.219159</td>\n",
              "      <td>-0.344472</td>\n",
              "      <td>-0.436369</td>\n",
              "      <td>-0.838596</td>\n",
              "    </tr>\n",
              "    <tr>\n",
              "      <th>std</th>\n",
              "      <td>0.620966</td>\n",
              "      <td>0.676822</td>\n",
              "      <td>0.651082</td>\n",
              "      <td>0.659516</td>\n",
              "      <td>0.456076</td>\n",
              "      <td>0.850925</td>\n",
              "      <td>0.560834</td>\n",
              "      <td>0.721823</td>\n",
              "      <td>0.371895</td>\n",
              "    </tr>\n",
              "    <tr>\n",
              "      <th>min</th>\n",
              "      <td>-1.000000</td>\n",
              "      <td>-1.000000</td>\n",
              "      <td>-1.000000</td>\n",
              "      <td>-1.000000</td>\n",
              "      <td>-1.000000</td>\n",
              "      <td>-1.000000</td>\n",
              "      <td>-1.000000</td>\n",
              "      <td>-1.000000</td>\n",
              "      <td>-1.000000</td>\n",
              "    </tr>\n",
              "    <tr>\n",
              "      <th>25%</th>\n",
              "      <td>-0.555556</td>\n",
              "      <td>-1.000000</td>\n",
              "      <td>-1.000000</td>\n",
              "      <td>-1.000000</td>\n",
              "      <td>-0.750000</td>\n",
              "      <td>-1.000000</td>\n",
              "      <td>-0.777778</td>\n",
              "      <td>-1.000000</td>\n",
              "      <td>-1.000000</td>\n",
              "    </tr>\n",
              "    <tr>\n",
              "      <th>50%</th>\n",
              "      <td>-0.111111</td>\n",
              "      <td>-0.555556</td>\n",
              "      <td>-0.555556</td>\n",
              "      <td>-0.777778</td>\n",
              "      <td>-0.500000</td>\n",
              "      <td>-0.555556</td>\n",
              "      <td>-0.555556</td>\n",
              "      <td>-0.777778</td>\n",
              "      <td>-1.000000</td>\n",
              "    </tr>\n",
              "    <tr>\n",
              "      <th>75%</th>\n",
              "      <td>0.333333</td>\n",
              "      <td>0.111111</td>\n",
              "      <td>0.111111</td>\n",
              "      <td>-0.111111</td>\n",
              "      <td>-0.125000</td>\n",
              "      <td>1.000000</td>\n",
              "      <td>0.111111</td>\n",
              "      <td>0.111111</td>\n",
              "      <td>-1.000000</td>\n",
              "    </tr>\n",
              "    <tr>\n",
              "      <th>max</th>\n",
              "      <td>1.000000</td>\n",
              "      <td>1.000000</td>\n",
              "      <td>1.000000</td>\n",
              "      <td>1.000000</td>\n",
              "      <td>1.000000</td>\n",
              "      <td>1.000000</td>\n",
              "      <td>1.000000</td>\n",
              "      <td>1.000000</td>\n",
              "      <td>1.000000</td>\n",
              "    </tr>\n",
              "  </tbody>\n",
              "</table>\n",
              "</div>"
            ],
            "text/plain": [
              "       Clump Thickness  Uniformity of Cell Size  Uniformity of Cell Shape  \\\n",
              "count       399.000000               399.000000                399.000000   \n",
              "mean         -0.083264                -0.377889                 -0.361738   \n",
              "std           0.620966                 0.676822                  0.651082   \n",
              "min          -1.000000                -1.000000                 -1.000000   \n",
              "25%          -0.555556                -1.000000                 -1.000000   \n",
              "50%          -0.111111                -0.555556                 -0.555556   \n",
              "75%           0.333333                 0.111111                  0.111111   \n",
              "max           1.000000                 1.000000                  1.000000   \n",
              "\n",
              "       Marginal Adhesion  Single Epithelial Cell Size  Bare Nuclei  \\\n",
              "count         399.000000                   399.000000   399.000000   \n",
              "mean           -0.460874                    -0.412907    -0.219159   \n",
              "std             0.659516                     0.456076     0.850925   \n",
              "min            -1.000000                    -1.000000    -1.000000   \n",
              "25%            -1.000000                    -0.750000    -1.000000   \n",
              "50%            -0.777778                    -0.500000    -0.555556   \n",
              "75%            -0.111111                    -0.125000     1.000000   \n",
              "max             1.000000                     1.000000     1.000000   \n",
              "\n",
              "       Bland Chromatin  Normal Nucleoli     Mitoses  \n",
              "count       399.000000       399.000000  399.000000  \n",
              "mean         -0.344472        -0.436369   -0.838596  \n",
              "std           0.560834         0.721823    0.371895  \n",
              "min          -1.000000        -1.000000   -1.000000  \n",
              "25%          -0.777778        -1.000000   -1.000000  \n",
              "50%          -0.555556        -0.777778   -1.000000  \n",
              "75%           0.111111         0.111111   -1.000000  \n",
              "max           1.000000         1.000000    1.000000  "
            ]
          },
          "execution_count": 35,
          "metadata": {},
          "output_type": "execute_result"
        }
      ],
      "source": [
        "minmax.describe()"
      ]
    },
    {
      "cell_type": "code",
      "execution_count": null,
      "metadata": {
        "id": "4TxfCDZ8aIAj"
      },
      "outputs": [],
      "source": []
    }
  ],
  "metadata": {
    "kernelspec": {
      "display_name": "Python 3 (ipykernel)",
      "language": "python",
      "name": "python3"
    },
    "language_info": {
      "codemirror_mode": {
        "name": "ipython",
        "version": 3
      },
      "file_extension": ".py",
      "mimetype": "text/x-python",
      "name": "python",
      "nbconvert_exporter": "python",
      "pygments_lexer": "ipython3",
      "version": "3.9.7"
    },
    "colab": {
      "provenance": []
    }
  },
  "nbformat": 4,
  "nbformat_minor": 0
}