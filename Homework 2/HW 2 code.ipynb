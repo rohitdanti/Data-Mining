{
  "cells": [
    {
      "cell_type": "markdown",
      "metadata": {
        "id": "h407ltMXYnQR"
      },
      "source": [
        "\n",
        "HW 2 - DATA MINING"
      ]
    },
    {
      "cell_type": "code",
      "execution_count": 1,
      "metadata": {
        "colab": {
          "base_uri": "https://localhost:8080/"
        },
        "id": "kavnguRTjCnx",
        "outputId": "f8187acb-9689-435c-e529-6de8a7d7e293"
      },
      "outputs": [
        {
          "name": "stdout",
          "output_type": "stream",
          "text": [
            "Mounted at /content/gdrive\n"
          ]
        }
      ],
      "source": [
        "from google.colab import drive\n",
        "drive.mount('/content/gdrive')"
      ]
    },
    {
      "cell_type": "code",
      "execution_count": 2,
      "metadata": {
        "colab": {
          "base_uri": "https://localhost:8080/"
        },
        "id": "vterbUI3LTiP",
        "outputId": "31f9d00c-92a6-4505-dc55-9befefe2594e"
      },
      "outputs": [
        {
          "name": "stderr",
          "output_type": "stream",
          "text": [
            "[nltk_data] Downloading package punkt to /root/nltk_data...\n",
            "[nltk_data]   Package punkt is already up-to-date!\n",
            "[nltk_data] Downloading package stopwords to /root/nltk_data...\n",
            "[nltk_data]   Package stopwords is already up-to-date!\n"
          ]
        }
      ],
      "source": [
        "\n",
        "import nltk\n",
        "nltk.download('punkt')\n",
        "nltk.download('stopwords')\n",
        "import string\n",
        "from nltk.corpus import stopwords\n",
        "from nltk.stem.porter import *\n",
        "import pandas as pd\n",
        "from sklearn.model_selection import KFold\n",
        "from sklearn.feature_extraction.text import CountVectorizer, TfidfVectorizer\n",
        "from sklearn.neural_network import MLPClassifier\n",
        "from sklearn.preprocessing import LabelEncoder\n",
        "from sklearn.metrics import accuracy_score\n",
        "import numpy as np\n",
        "import matplotlib.pyplot as plt\n",
        "from tabulate import tabulate\n",
        "from gensim.models import KeyedVectors\n",
        "from sklearn.base import BaseEstimator, TransformerMixin\n",
        "from gensim.scripts.glove2word2vec import glove2word2vec\n",
        "from gensim.models.keyedvectors import KeyedVectors\n",
        "from sklearn.linear_model import LogisticRegression\n",
        "\n",
        "\n",
        "\n"
      ]
    },
    {
      "cell_type": "code",
      "execution_count": 3,
      "metadata": {
        "id": "GRb25paqLV4S"
      },
      "outputs": [],
      "source": [
        "# Load the data\n",
        "TrainData_df = pd.read_csv('24_train_1.csv') #Loading Raw Train Data\n",
        "TestData_df = pd.read_csv('news-test.csv') #Loading Raw Test Data"
      ]
    },
    {
      "cell_type": "markdown",
      "metadata": {
        "id": "OehZ-0IgdpKr"
      },
      "source": [
        "**PREPROCESSING**"
      ]
    },
    {
      "cell_type": "code",
      "execution_count": 4,
      "metadata": {
        "id": "LWmz6PX2LXsJ"
      },
      "outputs": [],
      "source": [
        "# Preprocessing function\n",
        "stemmer = PorterStemmer()\n",
        "remove_punctuation_map = dict((ord(char), None) for char in string.punctuation)\n",
        "\n",
        "def preprocess_text(text):\n",
        "    # Turn the document into lowercase\n",
        "    text = text.lower()\n",
        "    # Remove punctuations\n",
        "    text = text.translate(remove_punctuation_map)\n",
        "    # Tokenize the document\n",
        "    tokens = nltk.word_tokenize(text)\n",
        "    # Remove stop words and apply stemming\n",
        "    filtered_tokens = [stemmer.stem(word) for word in tokens if word not in stopwords.words('english')]\n",
        "    # Join the filtered tokens into a single string\n",
        "    return ' '.join(filtered_tokens)\n",
        "\n",
        "\n"
      ]
    },
    {
      "cell_type": "code",
      "execution_count": 5,
      "metadata": {
        "id": "Xho9hXQ0LaNO"
      },
      "outputs": [],
      "source": [
        "# Apply preprocessing\n",
        "TrainData_df['Text'] = TrainData_df['Text'].apply(preprocess_text)\n",
        "TestData_df['Text'] = TestData_df['Text'].apply(preprocess_text)\n"
      ]
    },
    {
      "cell_type": "markdown",
      "metadata": {
        "id": "tdbnRT39XH0k"
      },
      "source": [
        "# **1. A**\n",
        "\n",
        "**Neural Networks with 2 hidden layers, 128 neurons, extracting features from count vectorizer and using 5-fold cross-validation to evaluate the performance.**\n"
      ]
    },
    {
      "cell_type": "code",
      "execution_count": 6,
      "metadata": {
        "id": "lz1qmuTxcx0N"
      },
      "outputs": [],
      "source": [
        "# Neural Network Model\n",
        "def custom_cross_validate(X, y, model, cv=5):\n",
        "    kf = KFold(n_splits=cv, shuffle=True, random_state=42)\n",
        "    training_accuracies = []\n",
        "    validation_accuracies = []\n",
        "\n",
        "    for train_index, test_index in kf.split(X):\n",
        "        X_train, X_test = X[train_index], X[test_index]\n",
        "        y_train, y_test = y[train_index], y[test_index]\n",
        "\n",
        "        model.fit(X_train, y_train)\n",
        "\n",
        "        # Training accuracy\n",
        "        y_train_pred = model.predict(X_train)\n",
        "        training_accuracy = accuracy_score(y_train, y_train_pred)\n",
        "        training_accuracies.append(training_accuracy)\n",
        "\n",
        "        # Validation accuracy\n",
        "        y_test_pred = model.predict(X_test)\n",
        "        validation_accuracy = accuracy_score(y_test, y_test_pred)\n",
        "        validation_accuracies.append(validation_accuracy)\n",
        "\n",
        "    return np.mean(training_accuracies), np.std(training_accuracies), np.mean(validation_accuracies), np.std(validation_accuracies)\n",
        "\n",
        "mlp_model = MLPClassifier(hidden_layer_sizes=(128, 128), max_iter=300)\n",
        "\n"
      ]
    },
    {
      "cell_type": "markdown",
      "metadata": {
        "id": "VaAPZc8Mc8U8"
      },
      "source": [
        "### **1. B**"
      ]
    },
    {
      "cell_type": "markdown",
      "metadata": {
        "id": "tJgq5YuGc1Af"
      },
      "source": [
        "**COUNT VECTORIZER**"
      ]
    },
    {
      "cell_type": "code",
      "execution_count": 7,
      "metadata": {
        "id": "8ij7qw1lLb-E"
      },
      "outputs": [],
      "source": [
        "# Feature Generation\n",
        "count_vectorizer = CountVectorizer()\n",
        "X_count = count_vectorizer.fit_transform(TrainData_df['Text'])\n"
      ]
    },
    {
      "cell_type": "markdown",
      "metadata": {
        "id": "IOf4H0x6c4_F"
      },
      "source": [
        "word embeddings using **TFIDF**"
      ]
    },
    {
      "cell_type": "code",
      "execution_count": 8,
      "metadata": {
        "id": "p2dEN0NHclQy"
      },
      "outputs": [],
      "source": [
        "tfidf_vectorizer = TfidfVectorizer()\n",
        "X_tfidf = tfidf_vectorizer.fit_transform(TrainData_df['Text'])"
      ]
    },
    {
      "cell_type": "code",
      "execution_count": 9,
      "metadata": {
        "id": "EVEM1d4YLe6o"
      },
      "outputs": [],
      "source": [
        "# Encode the labels\n",
        "label_encoder = LabelEncoder()\n",
        "y_encoded = label_encoder.fit_transform(TrainData_df['Category'])\n",
        "\n"
      ]
    },
    {
      "cell_type": "code",
      "execution_count": 10,
      "metadata": {
        "id": "V7RxHHmmLi0E"
      },
      "outputs": [],
      "source": [
        "\n",
        "train_acc_mean_count, train_acc_std_count, val_acc_mean_count, val_acc_std_count = custom_cross_validate(X_count, y_encoded, mlp_model)\n",
        "\n",
        "train_acc_mean_tfidf, train_acc_std_tfidf, val_acc_mean_tfidf, val_acc_std_tfidf = custom_cross_validate(X_tfidf, y_encoded, mlp_model)\n"
      ]
    },
    {
      "cell_type": "markdown",
      "metadata": {
        "id": "LTjhyM9chuUz"
      },
      "source": [
        "# **BERT** -\n",
        "commented as the model takes 20 min to run and gives only 95% accuracy"
      ]
    },
    {
      "cell_type": "code",
      "execution_count": 11,
      "metadata": {
        "id": "CVGcNKfUjLpZ"
      },
      "outputs": [],
      "source": [
        "# pip install transformers"
      ]
    },
    {
      "cell_type": "code",
      "execution_count": 12,
      "metadata": {
        "id": "sFO-G4Y2y570"
      },
      "outputs": [],
      "source": [
        "# import tensorflow as tf\n",
        "# from tensorflow import keras\n",
        "# from tensorflow.keras import layers\n",
        "# import torch\n",
        "# from tabulate import tabulate\n",
        "# from transformers import BertTokenizer, BertModel\n",
        "\n",
        "# model_name = 'bert-base-uncased'\n",
        "# tokenizer = BertTokenizer.from_pretrained(model_name)\n",
        "# model = BertModel.from_pretrained(model_name)\n",
        "\n",
        "# def generate_bert_embeddings(text):\n",
        "#     input_ids = tokenizer(text, return_tensors='pt', padding=True, truncation=True, max_length=512)\n",
        "#     with torch.no_grad():\n",
        "#         outputs = model(**input_ids)\n",
        "#     embeddings = outputs.last_hidden_state.mean(dim=1)\n",
        "#     return embeddings[0].numpy()\n",
        "\n",
        "# # Create BERT embeddings for the dataset\n",
        "# bert_embeddings = np.array([generate_bert_embeddings(text) for text in TrainData_df['Text']])\n",
        "\n",
        "\n",
        "# #BERT EVALUATION\n",
        "# train_acc_mean_bert, train_acc_std_bert, val_acc_mean_bert, val_acc_std_bert = custom_cross_validate(bert_embeddings, y_encoded, mlp_model)"
      ]
    },
    {
      "cell_type": "markdown",
      "metadata": {
        "id": "JFqei2b-smb7"
      },
      "source": [
        "## **GLOVE**"
      ]
    },
    {
      "cell_type": "code",
      "execution_count": 13,
      "metadata": {
        "id": "VEr21duX0jNa"
      },
      "outputs": [],
      "source": [
        "glove_model =  KeyedVectors.load_word2vec_format('glove.6B.100d.word2vec.txt') # Need to download this file and save it on your drive"
      ]
    },
    {
      "cell_type": "code",
      "execution_count": 14,
      "metadata": {
        "id": "oGfIoDQ62j-S"
      },
      "outputs": [],
      "source": [
        "def get_average_word_embedding_gensim(text, model):\n",
        "    tokens = text.split()\n",
        "    word_vectors = [model[word] if word in model.key_to_index else np.zeros(model.vector_size) for word in tokens]\n",
        "    return np.mean(word_vectors, axis=0) if len(word_vectors) > 0 else np.zeros(model.vector_size)\n",
        "\n",
        "glove_embeddings = np.array([get_average_word_embedding_gensim(text, glove_model) for text in TrainData_df['Text']])\n",
        "train_acc_mean_glove, train_acc_std_glove, val_acc_mean_glove, val_acc_std_glove = custom_cross_validate(glove_embeddings, y_encoded, mlp_model)"
      ]
    },
    {
      "cell_type": "markdown",
      "metadata": {
        "id": "JCgd90fW7Rw2"
      },
      "source": [
        "## **1. C** - explained in description.pdf"
      ]
    },
    {
      "cell_type": "markdown",
      "metadata": {
        "id": "lWDdRwTs4ASD"
      },
      "source": [
        "## **1. D**\n",
        "table to displa the training and validation accuracies for TFIDF, CountVectorizer and GloVe"
      ]
    },
    {
      "cell_type": "code",
      "execution_count": 15,
      "metadata": {
        "colab": {
          "base_uri": "https://localhost:8080/"
        },
        "id": "vUUCoD01LmxZ",
        "outputId": "e109655c-b73e-44b0-b72e-1f52913e6cd7"
      },
      "outputs": [
        {
          "name": "stdout",
          "output_type": "stream",
          "text": [
            "| Feature Method   |   Training Accuracy Mean |   Training Accuracy Std |   Validation Accuracy Mean |   Validation Accuracy Std |\n",
            "|:-----------------|-------------------------:|------------------------:|---------------------------:|--------------------------:|\n",
            "| CountVectorizer  |                        1 |                       0 |                      0.971 |                0.0111355  |\n",
            "| TFIDF            |                        1 |                       0 |                      0.976 |                0.00583095 |\n",
            "| GloVe            |                        1 |                       0 |                      0.953 |                0.0107703  |\n"
          ]
        }
      ],
      "source": [
        "# DFisplaying the accuracies in a table\n",
        "# data = {\n",
        "#     \"Feature Method\": [\"CountVectorizer\", \"TFIDF\", \"BERT\", \"GloVe\"],\n",
        "#     \"Training Accuracy Mean\": [train_acc_mean_count, train_acc_mean_tfidf, train_acc_mean_bert, train_acc_mean_glove],\n",
        "#     \"Training Accuracy Std\": [train_acc_std_count, train_acc_std_tfidf, train_acc_std_bert, train_acc_std_glove],\n",
        "#     \"Validation Accuracy Mean\": [val_acc_mean_count, val_acc_mean_tfidf, val_acc_mean_bert, val_acc_mean_glove],\n",
        "#     \"Validation Accuracy Std\": [val_acc_std_count, val_acc_std_tfidf, val_acc_std_bert, val_acc_std_glove]\n",
        "# }\n",
        "\n",
        "data = {\n",
        "    \"Feature Method\": [\"CountVectorizer\", \"TFIDF\",  \"GloVe\"],\n",
        "    \"Training Accuracy Mean\": [train_acc_mean_count, train_acc_mean_tfidf,  train_acc_mean_glove],\n",
        "    \"Training Accuracy Std\": [train_acc_std_count, train_acc_std_tfidf,  train_acc_std_glove],\n",
        "    \"Validation Accuracy Mean\": [val_acc_mean_count, val_acc_mean_tfidf,  val_acc_mean_glove],\n",
        "    \"Validation Accuracy Std\": [val_acc_std_count, val_acc_std_tfidf,  val_acc_std_glove]\n",
        "}\n",
        "\n",
        "report_df = pd.DataFrame(data)\n",
        "from tabulate import tabulate\n",
        "\n",
        "table_string = tabulate(report_df, headers='keys', tablefmt='pipe', showindex=False)\n",
        "print(table_string)"
      ]
    },
    {
      "cell_type": "markdown",
      "metadata": {
        "id": "27k9he1N4V4k"
      },
      "source": [
        "## **1. E**\n",
        "Dipalying the bar chart showing the accuracies for TFIDF, CountVectorizer and GloVe"
      ]
    },
    {
      "cell_type": "code",
      "execution_count": 16,
      "metadata": {
        "colab": {
          "base_uri": "https://localhost:8080/",
          "height": 487
        },
        "id": "yG2osf9eLoAx",
        "outputId": "8eecff18-f7a9-4e12-c533-dde672c8eec1"
      },
      "outputs": [
        {
          "data": {
            "image/png": "[encoded data removed]",
            "text/plain": [
              "<Figure size 640x480 with 1 Axes>"
            ]
          },
          "metadata": {},
          "output_type": "display_data"
        }
      ],
      "source": [
        "# Drawing a bar chart\n",
        "features = ['CountVectorizer', 'TFIDF',\n",
        "          # ,  'BERT',\n",
        "            'GloVe']\n",
        "x = np.arange(len(features))\n",
        "width = 0.35\n",
        "\n",
        "fig, ax = plt.subplots()\n",
        "rects1 = ax.bar(x - width/2, data['Training Accuracy Mean'], width, yerr=data['Training Accuracy Std'], label='Training')\n",
        "rects2 = ax.bar(x + width/2, data['Validation Accuracy Mean'], width, yerr=data['Validation Accuracy Std'], label='Validation')\n",
        "\n",
        "\n",
        "ax.set_xlabel('Feature Construction Method')\n",
        "ax.set_ylabel('Accuracy')\n",
        "ax.set_title('Training and Validation Accuracy by Feature Construction Method')\n",
        "ax.set_xticks(x)\n",
        "ax.set_xticklabels(features)\n",
        "ax.legend(loc='upper right', bbox_to_anchor=(1.4, 1), title=\"Legend\")\n",
        "\n",
        "def autolabel(rects):\n",
        "    \"\"\"Attach a text label above each bar displaying its height.\"\"\"\n",
        "    for rect in rects:\n",
        "        height = rect.get_height()\n",
        "        ax.annotate('{}'.format(round(height,2)),\n",
        "                    xy=(rect.get_x() + rect.get_width() / 2, height),\n",
        "                    xytext=(0, 3),\n",
        "                    textcoords=\"offset points\",\n",
        "                    ha='center', va='bottom')\n",
        "\n",
        "autolabel(rects1)\n",
        "autolabel(rects2)\n",
        "\n",
        "fig.tight_layout()\n",
        "\n",
        "plt.show()"
      ]
    },
    {
      "cell_type": "markdown",
      "metadata": {
        "id": "PZgaPV487xjc"
      },
      "source": [
        "# **2. A**\n",
        "explained in description.pdf"
      ]
    },
    {
      "cell_type": "markdown",
      "metadata": {
        "id": "xIn9ktNG9_OT"
      },
      "source": [
        "# **2. B**\n",
        "\n",
        "The TFIDF gave the best performance from the previously used feature engineering method. The accuracy was 97.7%"
      ]
    },
    {
      "cell_type": "code",
      "execution_count": 17,
      "metadata": {
        "id": "lHDJsTup7xXO"
      },
      "outputs": [],
      "source": [
        "learning_rates = [0.0001, 0.0003, 0.001, 0.003, 0.01, 0.03, 0.1]\n",
        "results_df = pd.DataFrame(columns=['Learning Rate', 'Training Accuracy Mean', 'Training Accuracy Std', 'Validation Accuracy Mean', 'Validation Accuracy Std'])"
      ]
    },
    {
      "cell_type": "code",
      "execution_count": 18,
      "metadata": {
        "colab": {
          "base_uri": "https://localhost:8080/"
        },
        "id": "VS0Ws3Ho_ng5",
        "outputId": "d1d493fb-07c0-47f3-d151-06ff7950dfbb"
      },
      "outputs": [
        {
          "name": "stderr",
          "output_type": "stream",
          "text": [
            "<ipython-input-18-9307db61ae34>:9: FutureWarning: The frame.append method is deprecated and will be removed from pandas in a future version. Use pandas.concat instead.\n",
            "  results_df = results_df.append({\n",
            "<ipython-input-18-9307db61ae34>:9: FutureWarning: The frame.append method is deprecated and will be removed from pandas in a future version. Use pandas.concat instead.\n",
            "  results_df = results_df.append({\n",
            "<ipython-input-18-9307db61ae34>:9: FutureWarning: The frame.append method is deprecated and will be removed from pandas in a future version. Use pandas.concat instead.\n",
            "  results_df = results_df.append({\n",
            "<ipython-input-18-9307db61ae34>:9: FutureWarning: The frame.append method is deprecated and will be removed from pandas in a future version. Use pandas.concat instead.\n",
            "  results_df = results_df.append({\n",
            "<ipython-input-18-9307db61ae34>:9: FutureWarning: The frame.append method is deprecated and will be removed from pandas in a future version. Use pandas.concat instead.\n",
            "  results_df = results_df.append({\n",
            "<ipython-input-18-9307db61ae34>:9: FutureWarning: The frame.append method is deprecated and will be removed from pandas in a future version. Use pandas.concat instead.\n",
            "  results_df = results_df.append({\n",
            "<ipython-input-18-9307db61ae34>:9: FutureWarning: The frame.append method is deprecated and will be removed from pandas in a future version. Use pandas.concat instead.\n",
            "  results_df = results_df.append({\n"
          ]
        }
      ],
      "source": [
        "for lr in learning_rates:\n",
        "\n",
        "    mlp_model = MLPClassifier(hidden_layer_sizes=(128, 128), max_iter=300, learning_rate_init=lr)\n",
        "\n",
        "\n",
        "    train_acc_mean, train_acc_std, val_acc_mean, val_acc_std = custom_cross_validate(X_tfidf, y_encoded, mlp_model)\n",
        "\n",
        "\n",
        "    results_df = results_df.append({\n",
        "        'Learning Rate': lr,\n",
        "        'Training Accuracy Mean': train_acc_mean,\n",
        "        'Training Accuracy Std': train_acc_std,\n",
        "        'Validation Accuracy Mean': val_acc_mean,\n",
        "        'Validation Accuracy Std': val_acc_std\n",
        "    }, ignore_index=True)"
      ]
    },
    {
      "cell_type": "markdown",
      "metadata": {
        "id": "DSpUWrhfDhYk"
      },
      "source": [
        "# **2. B. 1**"
      ]
    },
    {
      "cell_type": "code",
      "execution_count": 19,
      "metadata": {
        "colab": {
          "base_uri": "https://localhost:8080/"
        },
        "id": "ez95KGGL_o5D",
        "outputId": "1b19b1c6-11eb-40bd-db3d-bc91ea63e942"
      },
      "outputs": [
        {
          "name": "stdout",
          "output_type": "stream",
          "text": [
            "|   Learning Rate |   Training Accuracy Mean |   Training Accuracy Std |   Validation Accuracy Mean |   Validation Accuracy Std |\n",
            "|----------------:|-------------------------:|------------------------:|---------------------------:|--------------------------:|\n",
            "|          0.0001 |                    1     |                   0     |                      0.972 |                0.00979796 |\n",
            "|          0.0003 |                    1     |                   0     |                      0.976 |                0.00583095 |\n",
            "|          0.001  |                    1     |                   0     |                      0.973 |                0.00748331 |\n",
            "|          0.003  |                    1     |                   0     |                      0.975 |                0.00547723 |\n",
            "|          0.01   |                    1     |                   0     |                      0.965 |                0.0130384  |\n",
            "|          0.03   |                    1     |                   0     |                      0.908 |                0.0263818  |\n",
            "|          0.1    |                    0.996 |                   0.008 |                      0.92  |                0.0268328  |\n"
          ]
        }
      ],
      "source": [
        "print(tabulate(results_df, headers='keys', tablefmt='pipe', showindex=False))"
      ]
    },
    {
      "cell_type": "markdown",
      "metadata": {
        "id": "XsfGC-ZVDk_8"
      },
      "source": [
        "# **2. B. 2**"
      ]
    },
    {
      "cell_type": "code",
      "execution_count": 20,
      "metadata": {
        "colab": {
          "base_uri": "https://localhost:8080/",
          "height": 569
        },
        "id": "wLOXcCWH_o2q",
        "outputId": "7826f93c-c0c0-4c48-9f25-24172654bffc"
      },
      "outputs": [
        {
          "data": {
            "image/png": "[encoded data removed]",
            "text/plain": [
              "<Figure size 1000x600 with 1 Axes>"
            ]
          },
          "metadata": {},
          "output_type": "display_data"
        }
      ],
      "source": [
        "plt.figure(figsize=(10, 6))\n",
        "plt.errorbar(results_df['Learning Rate'], results_df['Training Accuracy Mean'], yerr=results_df['Training Accuracy Std'], label='Training Accuracy', fmt='-o')\n",
        "plt.errorbar(results_df['Learning Rate'], results_df['Validation Accuracy Mean'], yerr=results_df['Validation Accuracy Std'], label='Validation Accuracy', fmt='-o')\n",
        "\n",
        "plt.xscale('log')\n",
        "plt.xlabel('Learning Rate')\n",
        "plt.ylabel('Accuracy')\n",
        "plt.title('Training and Validation Accuracy vs Learning Rate')\n",
        "plt.legend()\n",
        "plt.grid(True)\n",
        "plt.show()"
      ]
    },
    {
      "cell_type": "markdown",
      "metadata": {
        "id": "5Kb0EEdUFVnn"
      },
      "source": [
        "**PRINTING THE BEST PERFORMANCE**"
      ]
    },
    {
      "cell_type": "code",
      "execution_count": 21,
      "metadata": {
        "colab": {
          "base_uri": "https://localhost:8080/"
        },
        "id": "0vdxcea2_oz3",
        "outputId": "11ca8396-2869-49be-d1af-7eba2b0e42eb"
      },
      "outputs": [
        {
          "name": "stdout",
          "output_type": "stream",
          "text": [
            "The highest validation accuracy achieved is 0.976, with a learning rate of 0.0003.\n"
          ]
        }
      ],
      "source": [
        "\n",
        "best_accuracy_row = results_df.loc[results_df[\"Validation Accuracy Mean\"].idxmax()]\n",
        "best_learning_rate = best_accuracy_row[\"Learning Rate\"]\n",
        "best_validation_accuracy = best_accuracy_row[\"Validation Accuracy Mean\"]\n",
        "\n",
        "print(f\"The highest validation accuracy achieved is {best_validation_accuracy}, with a learning rate of {best_learning_rate}.\")\n"
      ]
    },
    {
      "cell_type": "markdown",
      "metadata": {
        "id": "vi-QhnIuGEmU"
      },
      "source": [
        "# **2. C**\n",
        " 5-fold cross-validation to evaluate the performance with respect to\n",
        " SGD, Adam, RMSprop optimizers"
      ]
    },
    {
      "cell_type": "code",
      "execution_count": 22,
      "metadata": {
        "colab": {
          "base_uri": "https://localhost:8080/"
        },
        "id": "hgKz2mSH_ow9",
        "outputId": "f619b69c-3a9e-4d99-9e3a-60ff48f4c054"
      },
      "outputs": [
        {
          "name": "stdout",
          "output_type": "stream",
          "text": [
            "Dimensions of the TF-IDF feature matrix: (1000, 10000)\n"
          ]
        }
      ],
      "source": [
        "import numpy as np\n",
        "import pandas as pd\n",
        "import matplotlib.pyplot as plt\n",
        "from sklearn.feature_extraction.text import TfidfVectorizer\n",
        "from sklearn.model_selection import StratifiedKFold\n",
        "from tensorflow.keras.models import Sequential\n",
        "from tensorflow.keras.layers import Dense, InputLayer\n",
        "from tensorflow.keras.optimizers import legacy as keras_legacy_optimizers\n",
        "\n",
        "# Transforming the documents using TF-IDF\n",
        "tfidf_transformer = TfidfVectorizer(max_features=10000)\n",
        "tfidf_features = tfidf_transformer.fit_transform(TrainData_df['Text']).toarray()\n",
        "print(\"Dimensions of the TF-IDF feature matrix:\", tfidf_features.shape)\n",
        "\n"
      ]
    },
    {
      "cell_type": "code",
      "execution_count": 23,
      "metadata": {
        "id": "plW3prZAc3e3"
      },
      "outputs": [],
      "source": [
        "# Define optimizers to test\n",
        "optimizer_options = [keras_legacy_optimizers.SGD(), keras_legacy_optimizers.Adam(), keras_legacy_optimizers.RMSprop()]\n",
        "optimizer_labels = ['SGD', 'Adam', 'RMSprop']\n",
        "\n",
        "# Initialize dictionary to store the performance results\n",
        "eval_metrics = {label: {'train_acc': [], 'test_acc': []} for label in optimizer_labels}\n",
        "class_labels = y_encoded\n",
        "\n",
        "# Configuring Stratified K-Fold for validation\n",
        "cross_val = StratifiedKFold(n_splits=5, shuffle=True, random_state=42)\n",
        "\n",
        "# Training and evaluation loop\n",
        "for optimizer, label in zip(optimizer_options, optimizer_labels):\n",
        "    for train_indices, test_indices in cross_val.split(tfidf_features, class_labels):\n",
        "        X_train, X_test = tfidf_features[train_indices], tfidf_features[test_indices]\n",
        "        y_train, y_test = class_labels[train_indices], class_labels[test_indices]\n",
        "\n",
        "        model = Sequential([\n",
        "            InputLayer(input_shape=(X_train.shape[1],)),\n",
        "            Dense(128, activation='relu'),\n",
        "            Dense(128, activation='relu'),\n",
        "            Dense(len(np.unique(class_labels)), activation='softmax')\n",
        "        ])\n",
        "\n",
        "        model.compile(optimizer=optimizer, loss='sparse_categorical_crossentropy', metrics=['accuracy'])\n",
        "        model.fit(X_train, y_train, epochs=10, batch_size=32, verbose=0)\n",
        "\n",
        "        _, accuracy_train = model.evaluate(X_train, y_train, verbose=0)\n",
        "        _, accuracy_test = model.evaluate(X_test, y_test, verbose=0)\n",
        "\n",
        "        eval_metrics[label]['train_acc'].append(accuracy_train)\n",
        "        eval_metrics[label]['test_acc'].append(accuracy_test)\n",
        "\n",
        "\n",
        "\n",
        "\n"
      ]
    },
    {
      "cell_type": "code",
      "execution_count": 24,
      "metadata": {
        "colab": {
          "base_uri": "https://localhost:8080/",
          "height": 143
        },
        "id": "jePqFnJ1dIVu",
        "outputId": "b9740b65-2b0c-497c-f30e-411a5691f4e3"
      },
      "outputs": [
        {
          "data": {
            "application/vnd.google.colaboratory.intrinsic+json": {
              "summary": "{\n  \"name\": \"summary_df\",\n  \"rows\": 3,\n  \"fields\": [\n    {\n      \"column\": \"Optimizer\",\n      \"properties\": {\n        \"dtype\": \"string\",\n        \"num_unique_values\": 3,\n        \"samples\": [\n          \"SGD\",\n          \"Adam\",\n          \"RMSprop\"\n        ],\n        \"semantic_type\": \"\",\n        \"description\": \"\"\n      }\n    },\n    {\n      \"column\": \"Train Accuracy Mean\",\n      \"properties\": {\n        \"dtype\": \"number\",\n        \"std\": 0.43070330129723944,\n        \"min\": 0.25399999916553495,\n        \"max\": 1.0,\n        \"num_unique_values\": 2,\n        \"samples\": [\n          1.0,\n          0.25399999916553495\n        ],\n        \"semantic_type\": \"\",\n        \"description\": \"\"\n      }\n    },\n    {\n      \"column\": \"Train Accuracy STD\",\n      \"properties\": {\n        \"dtype\": \"number\",\n        \"std\": 0.014608785261059796,\n        \"min\": 0.0,\n        \"max\": 0.025303158309018935,\n        \"num_unique_values\": 2,\n        \"samples\": [\n          0.0,\n          0.025303158309018935\n        ],\n        \"semantic_type\": \"\",\n        \"description\": \"\"\n      }\n    },\n    {\n      \"column\": \"Validation Accuracy Mean\",\n      \"properties\": {\n        \"dtype\": \"number\",\n        \"std\": 0.4151160530822194,\n        \"min\": 0.24999999701976777,\n        \"max\": 0.9700000166893006,\n        \"num_unique_values\": 3,\n        \"samples\": [\n          0.24999999701976777,\n          0.9679999947547913\n        ],\n        \"semantic_type\": \"\",\n        \"description\": \"\"\n      }\n    },\n    {\n      \"column\": \"Validation Accuracy STD\",\n      \"properties\": {\n        \"dtype\": \"number\",\n        \"std\": 0.003304473600489785,\n        \"min\": 0.01516576000619973,\n        \"max\": 0.021679479896995247,\n        \"num_unique_values\": 3,\n        \"samples\": [\n          0.021679479896995247,\n          0.01939072491346521\n        ],\n        \"semantic_type\": \"\",\n        \"description\": \"\"\n      }\n    }\n  ]\n}",
              "type": "dataframe",
              "variable_name": "summary_df"
            },
            "text/html": [
              "\n",
              "  <div id=\"df-6321b228-73ba-40a7-85f7-456fec1ec3ab\" class=\"colab-df-container\">\n",
              "    <div>\n",
              "<style scoped>\n",
              "    .dataframe tbody tr th:only-of-type {\n",
              "        vertical-align: middle;\n",
              "    }\n",
              "\n",
              "    .dataframe tbody tr th {\n",
              "        vertical-align: top;\n",
              "    }\n",
              "\n",
              "    .dataframe thead th {\n",
              "        text-align: right;\n",
              "    }\n",
              "</style>\n",
              "<table border=\"1\" class=\"dataframe\">\n",
              "  <thead>\n",
              "    <tr style=\"text-align: right;\">\n",
              "      <th></th>\n",
              "      <th>Optimizer</th>\n",
              "      <th>Train Accuracy Mean</th>\n",
              "      <th>Train Accuracy STD</th>\n",
              "      <th>Validation Accuracy Mean</th>\n",
              "      <th>Validation Accuracy STD</th>\n",
              "    </tr>\n",
              "  </thead>\n",
              "  <tbody>\n",
              "    <tr>\n",
              "      <th>0</th>\n",
              "      <td>SGD</td>\n",
              "      <td>0.254</td>\n",
              "      <td>0.025303</td>\n",
              "      <td>0.250</td>\n",
              "      <td>0.021679</td>\n",
              "    </tr>\n",
              "    <tr>\n",
              "      <th>1</th>\n",
              "      <td>Adam</td>\n",
              "      <td>1.000</td>\n",
              "      <td>0.000000</td>\n",
              "      <td>0.968</td>\n",
              "      <td>0.019391</td>\n",
              "    </tr>\n",
              "    <tr>\n",
              "      <th>2</th>\n",
              "      <td>RMSprop</td>\n",
              "      <td>1.000</td>\n",
              "      <td>0.000000</td>\n",
              "      <td>0.970</td>\n",
              "      <td>0.015166</td>\n",
              "    </tr>\n",
              "  </tbody>\n",
              "</table>\n",
              "</div>\n",
              "    <div class=\"colab-df-buttons\">\n",
              "\n",
              "  <div class=\"colab-df-container\">\n",
              "    <button class=\"colab-df-convert\" onclick=\"convertToInteractive('df-6321b228-73ba-40a7-85f7-456fec1ec3ab')\"\n",
              "            title=\"Convert this dataframe to an interactive table.\"\n",
              "            style=\"display:none;\">\n",
              "\n",
              "  <svg xmlns=\"http://www.w3.org/2000/svg\" height=\"24px\" viewBox=\"0 -960 960 960\">\n",
              "    <path d=\"M120-120v-720h720v720H120Zm60-500h600v-160H180v160Zm220 220h160v-160H400v160Zm0 220h160v-160H400v160ZM180-400h160v-160H180v160Zm440 0h160v-160H620v160ZM180-180h160v-160H180v160Zm440 0h160v-160H620v160Z\"/>\n",
              "  </svg>\n",
              "    </button>\n",
              "\n",
              "  <style>\n",
              "    .colab-df-container {\n",
              "      display:flex;\n",
              "      gap: 12px;\n",
              "    }\n",
              "\n",
              "    .colab-df-convert {\n",
              "      background-color: #E8F0FE;\n",
              "      border: none;\n",
              "      border-radius: 50%;\n",
              "      cursor: pointer;\n",
              "      display: none;\n",
              "      fill: #1967D2;\n",
              "      height: 32px;\n",
              "      padding: 0 0 0 0;\n",
              "      width: 32px;\n",
              "    }\n",
              "\n",
              "    .colab-df-convert:hover {\n",
              "      background-color: #E2EBFA;\n",
              "      box-shadow: 0px 1px 2px rgba(60, 64, 67, 0.3), 0px 1px 3px 1px rgba(60, 64, 67, 0.15);\n",
              "      fill: #174EA6;\n",
              "    }\n",
              "\n",
              "    .colab-df-buttons div {\n",
              "      margin-bottom: 4px;\n",
              "    }\n",
              "\n",
              "    [theme=dark] .colab-df-convert {\n",
              "      background-color: #3B4455;\n",
              "      fill: #D2E3FC;\n",
              "    }\n",
              "\n",
              "    [theme=dark] .colab-df-convert:hover {\n",
              "      background-color: #434B5C;\n",
              "      box-shadow: 0px 1px 3px 1px rgba(0, 0, 0, 0.15);\n",
              "      filter: drop-shadow(0px 1px 2px rgba(0, 0, 0, 0.3));\n",
              "      fill: #FFFFFF;\n",
              "    }\n",
              "  </style>\n",
              "\n",
              "    <script>\n",
              "      const buttonEl =\n",
              "        document.querySelector('#df-6321b228-73ba-40a7-85f7-456fec1ec3ab button.colab-df-convert');\n",
              "      buttonEl.style.display =\n",
              "        google.colab.kernel.accessAllowed ? 'block' : 'none';\n",
              "\n",
              "      async function convertToInteractive(key) {\n",
              "        const element = document.querySelector('#df-6321b228-73ba-40a7-85f7-456fec1ec3ab');\n",
              "        const dataTable =\n",
              "          await google.colab.kernel.invokeFunction('convertToInteractive',\n",
              "                                                    [key], {});\n",
              "        if (!dataTable) return;\n",
              "\n",
              "        const docLinkHtml = 'Like what you see? Visit the ' +\n",
              "          '<a target=\"_blank\" href=https://colab.research.google.com/notebooks/data_table.ipynb>data table notebook</a>'\n",
              "          + ' to learn more about interactive tables.';\n",
              "        element.innerHTML = '';\n",
              "        dataTable['output_type'] = 'display_data';\n",
              "        await google.colab.output.renderOutput(dataTable, element);\n",
              "        const docLink = document.createElement('div');\n",
              "        docLink.innerHTML = docLinkHtml;\n",
              "        element.appendChild(docLink);\n",
              "      }\n",
              "    </script>\n",
              "  </div>\n",
              "\n",
              "\n",
              "<div id=\"df-ef69ee46-a585-4cd0-9611-32f723b820a5\">\n",
              "  <button class=\"colab-df-quickchart\" onclick=\"quickchart('df-ef69ee46-a585-4cd0-9611-32f723b820a5')\"\n",
              "            title=\"Suggest charts\"\n",
              "            style=\"display:none;\">\n",
              "\n",
              "<svg xmlns=\"http://www.w3.org/2000/svg\" height=\"24px\"viewBox=\"0 0 24 24\"\n",
              "     width=\"24px\">\n",
              "    <g>\n",
              "        <path d=\"M19 3H5c-1.1 0-2 .9-2 2v14c0 1.1.9 2 2 2h14c1.1 0 2-.9 2-2V5c0-1.1-.9-2-2-2zM9 17H7v-7h2v7zm4 0h-2V7h2v10zm4 0h-2v-4h2v4z\"/>\n",
              "    </g>\n",
              "</svg>\n",
              "  </button>\n",
              "\n",
              "<style>\n",
              "  .colab-df-quickchart {\n",
              "      --bg-color: #E8F0FE;\n",
              "      --fill-color: #1967D2;\n",
              "      --hover-bg-color: #E2EBFA;\n",
              "      --hover-fill-color: #174EA6;\n",
              "      --disabled-fill-color: #AAA;\n",
              "      --disabled-bg-color: #DDD;\n",
              "  }\n",
              "\n",
              "  [theme=dark] .colab-df-quickchart {\n",
              "      --bg-color: #3B4455;\n",
              "      --fill-color: #D2E3FC;\n",
              "      --hover-bg-color: #434B5C;\n",
              "      --hover-fill-color: #FFFFFF;\n",
              "      --disabled-bg-color: #3B4455;\n",
              "      --disabled-fill-color: #666;\n",
              "  }\n",
              "\n",
              "  .colab-df-quickchart {\n",
              "    background-color: var(--bg-color);\n",
              "    border: none;\n",
              "    border-radius: 50%;\n",
              "    cursor: pointer;\n",
              "    display: none;\n",
              "    fill: var(--fill-color);\n",
              "    height: 32px;\n",
              "    padding: 0;\n",
              "    width: 32px;\n",
              "  }\n",
              "\n",
              "  .colab-df-quickchart:hover {\n",
              "    background-color: var(--hover-bg-color);\n",
              "    box-shadow: 0 1px 2px rgba(60, 64, 67, 0.3), 0 1px 3px 1px rgba(60, 64, 67, 0.15);\n",
              "    fill: var(--button-hover-fill-color);\n",
              "  }\n",
              "\n",
              "  .colab-df-quickchart-complete:disabled,\n",
              "  .colab-df-quickchart-complete:disabled:hover {\n",
              "    background-color: var(--disabled-bg-color);\n",
              "    fill: var(--disabled-fill-color);\n",
              "    box-shadow: none;\n",
              "  }\n",
              "\n",
              "  .colab-df-spinner {\n",
              "    border: 2px solid var(--fill-color);\n",
              "    border-color: transparent;\n",
              "    border-bottom-color: var(--fill-color);\n",
              "    animation:\n",
              "      spin 1s steps(1) infinite;\n",
              "  }\n",
              "\n",
              "  @keyframes spin {\n",
              "    0% {\n",
              "      border-color: transparent;\n",
              "      border-bottom-color: var(--fill-color);\n",
              "      border-left-color: var(--fill-color);\n",
              "    }\n",
              "    20% {\n",
              "      border-color: transparent;\n",
              "      border-left-color: var(--fill-color);\n",
              "      border-top-color: var(--fill-color);\n",
              "    }\n",
              "    30% {\n",
              "      border-color: transparent;\n",
              "      border-left-color: var(--fill-color);\n",
              "      border-top-color: var(--fill-color);\n",
              "      border-right-color: var(--fill-color);\n",
              "    }\n",
              "    40% {\n",
              "      border-color: transparent;\n",
              "      border-right-color: var(--fill-color);\n",
              "      border-top-color: var(--fill-color);\n",
              "    }\n",
              "    60% {\n",
              "      border-color: transparent;\n",
              "      border-right-color: var(--fill-color);\n",
              "    }\n",
              "    80% {\n",
              "      border-color: transparent;\n",
              "      border-right-color: var(--fill-color);\n",
              "      border-bottom-color: var(--fill-color);\n",
              "    }\n",
              "    90% {\n",
              "      border-color: transparent;\n",
              "      border-bottom-color: var(--fill-color);\n",
              "    }\n",
              "  }\n",
              "</style>\n",
              "\n",
              "  <script>\n",
              "    async function quickchart(key) {\n",
              "      const quickchartButtonEl =\n",
              "        document.querySelector('#' + key + ' button');\n",
              "      quickchartButtonEl.disabled = true;  // To prevent multiple clicks.\n",
              "      quickchartButtonEl.classList.add('colab-df-spinner');\n",
              "      try {\n",
              "        const charts = await google.colab.kernel.invokeFunction(\n",
              "            'suggestCharts', [key], {});\n",
              "      } catch (error) {\n",
              "        console.error('Error during call to suggestCharts:', error);\n",
              "      }\n",
              "      quickchartButtonEl.classList.remove('colab-df-spinner');\n",
              "      quickchartButtonEl.classList.add('colab-df-quickchart-complete');\n",
              "    }\n",
              "    (() => {\n",
              "      let quickchartButtonEl =\n",
              "        document.querySelector('#df-ef69ee46-a585-4cd0-9611-32f723b820a5 button');\n",
              "      quickchartButtonEl.style.display =\n",
              "        google.colab.kernel.accessAllowed ? 'block' : 'none';\n",
              "    })();\n",
              "  </script>\n",
              "</div>\n",
              "    </div>\n",
              "  </div>\n"
            ],
            "text/plain": [
              "  Optimizer  Train Accuracy Mean  Train Accuracy STD  \\\n",
              "0       SGD                0.254            0.025303   \n",
              "1      Adam                1.000            0.000000   \n",
              "2   RMSprop                1.000            0.000000   \n",
              "\n",
              "   Validation Accuracy Mean  Validation Accuracy STD  \n",
              "0                     0.250                 0.021679  \n",
              "1                     0.968                 0.019391  \n",
              "2                     0.970                 0.015166  "
            ]
          },
          "metadata": {},
          "output_type": "display_data"
        }
      ],
      "source": [
        "# results\n",
        "summary_labels = []\n",
        "train_acc_avg = []\n",
        "train_acc_std = []\n",
        "test_acc_avg = []\n",
        "test_acc_std = []\n",
        "\n",
        "for label in optimizer_labels:\n",
        "    train_avg = np.mean(eval_metrics[label]['train_acc'])\n",
        "    train_std = np.std(eval_metrics[label]['train_acc'])\n",
        "    test_avg = np.mean(eval_metrics[label]['test_acc'])\n",
        "    test_std = np.std(eval_metrics[label]['test_acc'])\n",
        "\n",
        "    summary_labels.append(label)\n",
        "    train_acc_avg.append(train_avg)\n",
        "    train_acc_std.append(train_std)\n",
        "    test_acc_avg.append(test_avg)\n",
        "    test_acc_std.append(test_std)\n",
        "\n",
        "# Assembling the summary into a DataFrame for display\n",
        "summary_df = pd.DataFrame({\n",
        "    'Optimizer': summary_labels,\n",
        "    'Train Accuracy Mean': train_acc_avg,\n",
        "    'Train Accuracy STD': train_acc_std,\n",
        "    'Validation Accuracy Mean': test_acc_avg,\n",
        "    'Validation Accuracy STD': test_acc_std\n",
        "})\n",
        "\n",
        "display(summary_df)"
      ]
    },
    {
      "cell_type": "code",
      "execution_count": 25,
      "metadata": {
        "colab": {
          "base_uri": "https://localhost:8080/",
          "height": 607
        },
        "id": "pdzaqM6ic7W4",
        "outputId": "ea1ae3a5-ad10-4c10-cbaf-57552cbe70a7"
      },
      "outputs": [
        {
          "data": {
            "image/png": "[encoded data removed]",
            "text/plain": [
              "<Figure size 1000x600 with 1 Axes>"
            ]
          },
          "metadata": {},
          "output_type": "display_data"
        }
      ],
      "source": [
        "# Visualization of results\n",
        "bar_width = 0.3\n",
        "indices = np.arange(len(summary_df))\n",
        "offsets = [x + bar_width for x in indices]\n",
        "\n",
        "plt.figure(figsize=(10, 6))\n",
        "blue = plt.bar(indices, summary_df['Train Accuracy Mean'], width=bar_width, label='Training Accuracy', yerr=summary_df['Train Accuracy STD'])\n",
        "orange = plt.bar(offsets, summary_df['Validation Accuracy Mean'], width=bar_width, label='Validation Accuracy', yerr=summary_df['Validation Accuracy STD'])\n",
        "\n",
        "plt.xlabel('Optimizer Types', fontweight='bold')\n",
        "plt.xticks([r + bar_width / 2 for r in range(len(summary_df))], summary_df['Optimizer'])\n",
        "plt.ylabel('Accuracy Metrics')\n",
        "plt.title('Performance Comparison of Different Optimizers')\n",
        "\n",
        "plt.legend()\n",
        "def autolabel(bars):\n",
        "    for bar in bars:\n",
        "        height = bar.get_height()\n",
        "        plt.annotate(f'{height:.2f}',\n",
        "                    xy=(bar.get_x() + bar.get_width() / 2, height),\n",
        "                    xytext=(0, 3),  # 3 points vertical offset\n",
        "                    textcoords=\"offset points\",\n",
        "                    ha='center', va='bottom')\n",
        "\n",
        "autolabel(blue)\n",
        "autolabel(orange)\n",
        "\n",
        "fig.tight_layout()\n",
        "\n",
        "plt.tight_layout()\n",
        "plt.show()"
      ]
    },
    {
      "cell_type": "code",
      "execution_count": 26,
      "metadata": {
        "colab": {
          "base_uri": "https://localhost:8080/"
        },
        "id": "yOGo_diiGd2C",
        "outputId": "d4ac9034-5dfb-43f2-be7b-bde35bed1dcb"
      },
      "outputs": [
        {
          "name": "stdout",
          "output_type": "stream",
          "text": [
            "|   Learning Rate |   Training Accuracy Mean |   Training Accuracy Std |   Validation Accuracy Mean |   Validation Accuracy Std |\n",
            "|----------------:|-------------------------:|------------------------:|---------------------------:|--------------------------:|\n",
            "|          0.0001 |                    1     |                   0     |                      0.972 |                0.00979796 |\n",
            "|          0.0003 |                    1     |                   0     |                      0.976 |                0.00583095 |\n",
            "|          0.001  |                    1     |                   0     |                      0.973 |                0.00748331 |\n",
            "|          0.003  |                    1     |                   0     |                      0.975 |                0.00547723 |\n",
            "|          0.01   |                    1     |                   0     |                      0.965 |                0.0130384  |\n",
            "|          0.03   |                    1     |                   0     |                      0.908 |                0.0263818  |\n",
            "|          0.1    |                    0.996 |                   0.008 |                      0.92  |                0.0268328  |\n"
          ]
        }
      ],
      "source": [
        "\n",
        "print(tabulate(results_df, headers='keys', tablefmt='pipe', showindex=False))"
      ]
    },
    {
      "cell_type": "markdown",
      "metadata": {
        "id": "VLVu4evnTsq9"
      },
      "source": [
        "3. D"
      ]
    },
    {
      "cell_type": "code",
      "execution_count": 31,
      "metadata": {
        "colab": {
          "base_uri": "https://localhost:8080/"
        },
        "id": "-q44dYhzGnjy",
        "outputId": "ade4671c-ead4-4bb2-fadb-10fa451f1dd6"
      },
      "outputs": [
        {
          "name": "stdout",
          "output_type": "stream",
          "text": [
            "Epoch 1/10\n",
            "25/25 [==============================] - 2s 59ms/step - loss: 0.4735 - accuracy: 0.8612 - val_loss: 0.2680 - val_accuracy: 0.9300\n",
            "Epoch 2/10\n",
            "25/25 [==============================] - 1s 48ms/step - loss: 0.0217 - accuracy: 0.9937 - val_loss: 0.0350 - val_accuracy: 0.9900\n",
            "Epoch 3/10\n",
            "25/25 [==============================] - 1s 42ms/step - loss: 4.2592e-04 - accuracy: 1.0000 - val_loss: 0.0722 - val_accuracy: 0.9700\n",
            "Epoch 4/10\n",
            "25/25 [==============================] - 1s 35ms/step - loss: 1.3868e-05 - accuracy: 1.0000 - val_loss: 0.0779 - val_accuracy: 0.9700\n",
            "Epoch 5/10\n",
            "25/25 [==============================] - 1s 34ms/step - loss: 3.3690e-06 - accuracy: 1.0000 - val_loss: 0.0774 - val_accuracy: 0.9750\n",
            "Epoch 6/10\n",
            "25/25 [==============================] - 1s 34ms/step - loss: 1.6665e-06 - accuracy: 1.0000 - val_loss: 0.0747 - val_accuracy: 0.9750\n",
            "Epoch 7/10\n",
            "25/25 [==============================] - 1s 34ms/step - loss: 8.3964e-07 - accuracy: 1.0000 - val_loss: 0.0726 - val_accuracy: 0.9750\n",
            "Epoch 8/10\n",
            "25/25 [==============================] - 1s 35ms/step - loss: 6.0720e-07 - accuracy: 1.0000 - val_loss: 0.0726 - val_accuracy: 0.9750\n",
            "Epoch 9/10\n",
            "25/25 [==============================] - 1s 34ms/step - loss: 4.7713e-07 - accuracy: 1.0000 - val_loss: 0.0716 - val_accuracy: 0.9750\n",
            "Epoch 10/10\n",
            "25/25 [==============================] - 1s 35ms/step - loss: 3.8713e-07 - accuracy: 1.0000 - val_loss: 0.0693 - val_accuracy: 0.9750\n",
            "23/23 [==============================] - 0s 8ms/step\n"
          ]
        }
      ],
      "source": [
        "from sklearn.model_selection import train_test_split\n",
        "from tensorflow.keras.layers import Dense, Input\n",
        "from tensorflow.keras import layers\n",
        "from sklearn.feature_extraction.text import TfidfVectorizer\n",
        "from sklearn.preprocessing import LabelEncoder\n",
        "from tensorflow.keras.models import Sequential\n",
        "import tensorflow.keras.optimizers as keras_optimizers\n",
        "\n",
        "tfidf_vectorizer = TfidfVectorizer()\n",
        "\n",
        "df_train_custom = TrainData_df\n",
        "df_test_custom = TestData_df\n",
        "X_tf_custom = tfidf_vectorizer.fit_transform(df_train_custom['Text']).toarray()\n",
        "X_test_tf_custom = tfidf_vectorizer.transform(df_test_custom['Text']).toarray()\n",
        "\n",
        "\n",
        "label_encoder_custom = LabelEncoder()\n",
        "y_enc_custom = label_encoder_custom.fit_transform(df_train_custom['Category'])\n",
        "\n",
        "\n",
        "X_train_custom, X_val_custom, y_train_custom, y_val_custom = train_test_split(X_tf_custom, y_enc_custom, test_size=0.2, random_state=42)\n",
        "\n",
        "\n",
        "model_custom = Sequential([\n",
        "    layers.Input(shape=(X_train_custom.shape[1],)),\n",
        "    layers.Dense(128, activation='relu'),\n",
        "    layers.Dense(128, activation='relu'),\n",
        "    layers.Dense(5, activation='softmax')\n",
        "])\n",
        "\n",
        "\n",
        "optimizer_custom = keras_optimizers.Adam(learning_rate=0.03)\n",
        "\n",
        "model_custom.compile(optimizer=optimizer_custom,\n",
        "                     loss='sparse_categorical_crossentropy',\n",
        "                     metrics=['accuracy'])\n",
        "\n",
        "history_custom = model_custom.fit(X_train_custom, y_train_custom, epochs=10, batch_size=32, validation_data=(X_val_custom, y_val_custom))\n",
        "\n",
        "train_acc_custom = history_custom.history['accuracy'][-1]\n",
        "val_acc_custom = history_custom.history['val_accuracy'][-1]\n",
        "\n",
        "predictions_custom = model_custom.predict(X_test_tf_custom)\n",
        "predicted_classes_custom = predictions_custom.argmax(axis=-1)\n",
        "predicted_labels_custom = label_encoder_custom.inverse_transform(predicted_classes_custom)\n"
      ]
    },
    {
      "cell_type": "code",
      "execution_count": 32,
      "metadata": {
        "colab": {
          "base_uri": "https://localhost:8080/"
        },
        "id": "xmJszuGCTuwF",
        "outputId": "6cf3a882-41ac-4241-a0ed-6493d6289e5d"
      },
      "outputs": [
        {
          "name": "stdout",
          "output_type": "stream",
          "text": [
            "1.0 0.9750000238418579\n"
          ]
        }
      ],
      "source": [
        "print(train_acc_custom, val_acc_custom)"
      ]
    },
    {
      "cell_type": "code",
      "execution_count": 33,
      "metadata": {
        "colab": {
          "base_uri": "https://localhost:8080/"
        },
        "id": "H9eLETLWYJwv",
        "outputId": "54c3d70f-bc3f-4d68-b45c-dfae7fd5ffd8"
      },
      "outputs": [
        {
          "name": "stdout",
          "output_type": "stream",
          "text": [
            "File saved successfully at: /content/gdrive/MyDrive/DM - HW2/labels.csv\n"
          ]
        }
      ],
      "source": [
        "import csv\n",
        "\n",
        "folder_path = '/content/gdrive/MyDrive/DM - HW2/' # change path\n",
        "file_name = 'labels.csv'\n",
        "full_file_path = folder_path + file_name\n",
        "\n",
        "res = pd.DataFrame()\n",
        "res['ArticleId'] = df_test_custom['ArticleId']\n",
        "res['Category'] = predicted_labels_custom\n",
        "res.to_csv(file_name, index = False, header = False, sep = ',')\n",
        "\n",
        "\n",
        "print(f\"File saved successfully at: {full_file_path}\")\n"
      ]
    },
    {
      "cell_type": "code",
      "execution_count": 29,
      "metadata": {
        "id": "MPr7tW9LYLXY"
      },
      "outputs": [],
      "source": []
    }
  ],
  "metadata": {
    "colab": {
      "provenance": []
    },
    "kernelspec": {
      "display_name": "Python 3",
      "name": "python3"
    },
    "language_info": {
      "name": "python"
    }
  },
  "nbformat": 4,
  "nbformat_minor": 0
}
